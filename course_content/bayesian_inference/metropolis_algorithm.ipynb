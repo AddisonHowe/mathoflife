{
 "cells": [
  {
   "cell_type": "markdown",
   "metadata": {},
   "source": [
    "(c) 2024 Manuel Razo. This work is licensed under a [Creative Commons\n",
    "Attribution License CC-BY 4.0](https://creativecommons.org/licenses/by/4.0/).\n",
    "All code contained herein is licensed under an [MIT\n",
    "license](https://opensource.org/licenses/MIT)."
   ]
  },
  {
   "cell_type": "code",
   "execution_count": 1,
   "metadata": {},
   "outputs": [],
   "source": [
    "# Import libraries for scientific computing\n",
    "import numpy as np\n",
    "import scipy as sp\n",
    "import pandas as pd\n",
    "\n",
    "# Import plotting libraries\n",
    "import matplotlib.pyplot as plt\n",
    "import seaborn as sns\n",
    "\n",
    "# Set the context for the plots\n",
    "sns.set_context(\"notebook\")\n",
    "# Set the style for the plots\n",
    "sns.set_style(\"darkgrid\")\n",
    "# Set default color palette to colorblind\n",
    "sns.set_palette(\"colorblind\")"
   ]
  },
  {
   "cell_type": "markdown",
   "metadata": {},
   "source": [
    "# Metropolis-Hastings algorithm"
   ]
  },
  {
   "cell_type": "markdown",
   "metadata": {},
   "source": [
    "In this notebook, we will implement the first MCMC algorithm ever proposed, the\n",
    "so-called Metropolis-Hastings algorithm. This algorithm helps allows us to\n",
    "approximate the posterior distribution of a model via smart sampling.\n",
    "\n",
    "The steps of the algorithm are as follows:\n",
    "\n",
    "1. Start at an arbitrary point in the parameter space $\\theta_t$.\n",
    "2. Propose a new point in the parameter space using a proposal distribution\n",
    "   $\\theta'$. Usually, this is a normal distribution centered at the current\n",
    "   point, where the variance of the distribution is a parameter of the algorithm\n",
    "   (sometimes called the step size).\n",
    "3. Calculate the Metropolis-Hastings ratio $\\alpha$ (to be defined later) to\n",
    "   decide whether to accept or reject the proposed point.\n",
    "4. Accept or reject the proposed point based on the Metropolis-Hastings ratio.\n",
    "    - Generate a random number $u$ from a uniform distribution between 0 and 1.\n",
    "    - If $u \\leq \\alpha$, accept the proposed point. $\\theta_{t+1} = \\theta'$.\n",
    "    - If $u > \\alpha$, reject the proposed point. $\\theta_{t+1} = \\theta_t$.\n",
    "\n",
    "We will not go through the formal proof for why this procedure is guaranteed to\n",
    "converge to the posterior distribution. However, we will show that it works in\n",
    "practice. The Metropolis-Hastings ratio is defined as\n",
    "$$\n",
    "\\alpha(\\theta' \\mid \\theta) = \\min\n",
    "\\left(1, \\frac{P(\\theta' | D)}{P(\\theta | D)}\\right).\n",
    "\\tag{1}\n",
    "$$\n",
    "\n",
    "Intuitively, we can see that if $\\theta'$ goes uphill in the posterior, i.e.,\n",
    "climbs up to a more likely value, the ratio of the posterior probabilities\n",
    "$P(\\theta' | D) / P(\\theta | D)$ will be greater than 1, and the proposed point\n",
    "will be accepted. If $\\theta'$ goes downhill, the ratio will be less than 1, and\n",
    "then we flip a biased coin to decide whether to accept the point. Although we\n",
    "cannot evaluate the posterior to compute the ratio, we can evaluate the\n",
    "unnormalized version, which is proportional to the posterior. Therefore, the\n",
    "normalizing constant cancels out in the ratio."
   ]
  },
  {
   "cell_type": "markdown",
   "metadata": {},
   "source": [
    "Let's write a function that implements the Metropolis-Hastings algorithm. First,\n",
    "we define a function for a single Metropolis-Hastings step."
   ]
  },
  {
   "cell_type": "code",
   "execution_count": 3,
   "metadata": {},
   "outputs": [],
   "source": [
    "def mh_step(theta, log_post, log_post_args, sigma=1E-3):\n",
    "    \"\"\"\n",
    "    Perform one Metropolis-Hastings step.\n",
    "\n",
    "    Parameters\n",
    "    ----------\n",
    "    theta : array_like\n",
    "        The current parameter values.\n",
    "    log_post : callable\n",
    "        The function to compute the log posterior.\n",
    "    log_post_args : tuple\n",
    "        The arguments to pass to log_post\n",
    "    sigma : float\n",
    "        The standard deviation of the proposal distribution.\n",
    "    \"\"\"\n",
    "    # Generate a candidate from the proposal distribution\n",
    "    theta_p = theta + np.random.normal(0, sigma, len(theta))\n",
    "\n",
    "    # Compute the log posterior at the candidate values\n",
    "    log_post_p = log_post(theta_p, *log_post_args)\n",
    "\n",
    "    # Compute the log of the ratio of the posteriors\n",
    "    log_alpha = log_post_p - log_post(theta, *log_post_args)\n",
    "\n",
    "    # Accept or reject the candidate\n",
    "    if np.log(np.random.rand()) <= log_alpha:\n",
    "        return theta_p\n",
    "    else:\n",
    "        return theta"
   ]
  },
  {
   "cell_type": "markdown",
   "metadata": {},
   "source": [
    "Next, we will define a function that runs the Metropolis-Hastings algorithm for\n",
    "a given number of steps."
   ]
  },
  {
   "cell_type": "code",
   "execution_count": 4,
   "metadata": {},
   "outputs": [],
   "source": [
    "def mcmc_mh(log_post, log_post_args, theta0, niter, sigma=1E-3):\n",
    "    \"\"\"\n",
    "    Perform a Metropolis-Hastings MCMC simulation.\n",
    "\n",
    "    Parameters\n",
    "    ----------\n",
    "    log_post : callable\n",
    "        The function to compute the log posterior.\n",
    "    log_post_args : tuple\n",
    "        The arguments to pass to log_post\n",
    "    theta0 : array_like\n",
    "        The initial parameter values.\n",
    "    niter : int\n",
    "        The number of iterations to perform.\n",
    "    sigma : float\n",
    "        The standard deviation of the proposal distribution.\n",
    "\n",
    "    Returns\n",
    "    -------\n",
    "    chain : ndarray\n",
    "        The parameter values at each iteration.\n",
    "    \"\"\"\n",
    "    # Initialize array to store the samples\n",
    "    theta_chain = np.zeros((niter, len(theta0)))\n",
    "\n",
    "    # Initialize the current parameter values\n",
    "    theta_chain[0] = theta0\n",
    "\n",
    "    # Loop over the iterations\n",
    "    for i in range(1, niter):\n",
    "        theta_chain[i] = mh_step(\n",
    "            theta_chain[i-1], log_post, log_post_args, sigma\n",
    "        )\n",
    "\n",
    "    return theta_chain"
   ]
  },
  {
   "cell_type": "markdown",
   "metadata": {},
   "source": [
    "We are ready to test the Metropolis-Hastings algorithm. For simplicity, we will\n",
    "copy the log_posterior function that we wrote in the previous notebook."
   ]
  },
  {
   "cell_type": "code",
   "execution_count": 5,
   "metadata": {},
   "outputs": [],
   "source": [
    "def log_posterior(p, data, alpha, beta):\n",
    "    \"\"\"\n",
    "    Compute the log posterior of the beta-binomial model.\n",
    "\n",
    "    Arguments:\n",
    "    p : float in [0, 1], probability of reversal.\n",
    "    data : 2D array, first column is the number of trials, second column is the\n",
    "    number of reversals.\n",
    "    alpha : float, shape parameter of the prior beta distribution.\n",
    "    beta : float, shape parameter of the prior beta distribution.\n",
    "\n",
    "    Returns:\n",
    "    log_post : float, unnormalized log posterior of the beta-binomial model\n",
    "    \"\"\"\n",
    "    # Extract the number of trials and the number of reversals\n",
    "    trials = data[:, 0]\n",
    "    reversals = data[:, 1]\n",
    "\n",
    "    # Compute the log likelihood\n",
    "    log_like = sum([\n",
    "        sp.stats.binom.logpmf(r, n, p) for r, n in zip(reversals, trials)\n",
    "    ])\n",
    "\n",
    "    # Compute the log prior\n",
    "    log_prior = sp.stats.beta.logpdf(p, a=alpha, b=beta)\n",
    "\n",
    "    # Compute the log posterior\n",
    "    log_post = log_like + log_prior\n",
    "\n",
    "    return log_post"
   ]
  },
  {
   "cell_type": "markdown",
   "metadata": {},
   "source": [
    "Now, let's load the data."
   ]
  },
  {
   "cell_type": "code",
   "execution_count": 6,
   "metadata": {},
   "outputs": [
    {
     "data": {
      "text/html": [
       "<div>\n",
       "<style scoped>\n",
       "    .dataframe tbody tr th:only-of-type {\n",
       "        vertical-align: middle;\n",
       "    }\n",
       "\n",
       "    .dataframe tbody tr th {\n",
       "        vertical-align: top;\n",
       "    }\n",
       "\n",
       "    .dataframe thead th {\n",
       "        text-align: right;\n",
       "    }\n",
       "</style>\n",
       "<table border=\"1\" class=\"dataframe\">\n",
       "  <thead>\n",
       "    <tr style=\"text-align: right;\">\n",
       "      <th></th>\n",
       "      <th>Strain</th>\n",
       "      <th>Year</th>\n",
       "      <th>Trials</th>\n",
       "      <th>Reversals</th>\n",
       "    </tr>\n",
       "  </thead>\n",
       "  <tbody>\n",
       "    <tr>\n",
       "      <th>0</th>\n",
       "      <td>WT</td>\n",
       "      <td>2017</td>\n",
       "      <td>55</td>\n",
       "      <td>7</td>\n",
       "    </tr>\n",
       "    <tr>\n",
       "      <th>1</th>\n",
       "      <td>ASH</td>\n",
       "      <td>2017</td>\n",
       "      <td>54</td>\n",
       "      <td>18</td>\n",
       "    </tr>\n",
       "    <tr>\n",
       "      <th>2</th>\n",
       "      <td>AVA</td>\n",
       "      <td>2017</td>\n",
       "      <td>52</td>\n",
       "      <td>28</td>\n",
       "    </tr>\n",
       "    <tr>\n",
       "      <th>3</th>\n",
       "      <td>WT</td>\n",
       "      <td>2016</td>\n",
       "      <td>36</td>\n",
       "      <td>6</td>\n",
       "    </tr>\n",
       "    <tr>\n",
       "      <th>4</th>\n",
       "      <td>ASH</td>\n",
       "      <td>2016</td>\n",
       "      <td>35</td>\n",
       "      <td>12</td>\n",
       "    </tr>\n",
       "  </tbody>\n",
       "</table>\n",
       "</div>"
      ],
      "text/plain": [
       "  Strain  Year  Trials  Reversals\n",
       "0     WT  2017      55          7\n",
       "1    ASH  2017      54         18\n",
       "2    AVA  2017      52         28\n",
       "3     WT  2016      36          6\n",
       "4    ASH  2016      35         12"
      ]
     },
     "execution_count": 6,
     "metadata": {},
     "output_type": "execute_result"
    }
   ],
   "source": [
    "# Load data as a pandas dataframe\n",
    "df = pd.read_csv('./data/boolean_data.csv')\n",
    "\n",
    "df.head()"
   ]
  },
  {
   "cell_type": "markdown",
   "metadata": {},
   "source": [
    "Let's first test the single Metropolis-Hastings step function."
   ]
  },
  {
   "cell_type": "code",
   "execution_count": 10,
   "metadata": {},
   "outputs": [
    {
     "data": {
      "text/plain": [
       "array([0.50093803])"
      ]
     },
     "execution_count": 10,
     "metadata": {},
     "output_type": "execute_result"
    }
   ],
   "source": [
    "# Define the data\n",
    "data_ash = df[(df.Strain == 'ASH')][['Trials', 'Reversals']].values\n",
    "\n",
    "# Define values of alpha and beta for the prior\n",
    "alpha = 1\n",
    "beta = 1\n",
    "\n",
    "# Define the initial parameter values\n",
    "theta0 = np.array([0.5])\n",
    "\n",
    "# Collect log_post_args\n",
    "log_post_args = (data_ash, alpha, beta)\n",
    "\n",
    "# Test single step\n",
    "mh_step(theta0, log_posterior, log_post_args)"
   ]
  },
  {
   "cell_type": "markdown",
   "metadata": {},
   "source": [
    "Seems to be working. Let's now test the full Metropolis-Hastings algorithm with\n",
    "several steps."
   ]
  },
  {
   "cell_type": "code",
   "execution_count": 18,
   "metadata": {},
   "outputs": [],
   "source": [
    "# Define number of iterations\n",
    "n_iter = 50_000\n",
    "\n",
    "# Run MCMC\n",
    "p_chain = mcmc_mh(log_posterior, log_post_args, theta0, n_iter, sigma=1E-2)"
   ]
  },
  {
   "cell_type": "markdown",
   "metadata": {},
   "source": [
    "Let's look at a histogram of the samples."
   ]
  },
  {
   "cell_type": "code",
   "execution_count": 22,
   "metadata": {},
   "outputs": [
    {
     "data": {
      "text/plain": [
       "Text(0, 0.5, 'frequency')"
      ]
     },
     "execution_count": 22,
     "metadata": {},
     "output_type": "execute_result"
    },
    {
     "data": {
      "image/png": "[encoded data removed]",
      "text/plain": [
       "<Figure size 300x300 with 1 Axes>"
      ]
     },
     "metadata": {},
     "output_type": "display_data"
    }
   ],
   "source": [
    "# Initialize figure\n",
    "fig, ax = plt.subplots(1, 1, figsize=(3, 3))\n",
    "\n",
    "# Plot the chain normed histogram\n",
    "ax.hist(p_chain, bins=30, density=True)\n",
    "\n",
    "# Label the axes\n",
    "ax.set_xlabel(r'$p$')\n",
    "ax.set_ylabel('frequency')"
   ]
  },
  {
   "cell_type": "markdown",
   "metadata": {},
   "source": [
    "This looks pretty similar to the posterior distribution that we obtained using\n",
    "numerical integration. To make sure that is the case, let's compare the two. For\n",
    "this, we will copy the code from the previous tutorial to compute the normalized\n",
    "posterior."
   ]
  },
  {
   "cell_type": "code",
   "execution_count": 23,
   "metadata": {},
   "outputs": [],
   "source": [
    "def log_posterior_norm(p, data, alpha, beta):\n",
    "    \"\"\"\n",
    "    Compute the normalized log posterior of the beta-binomial model.\n",
    "\n",
    "    Arguments:\n",
    "    p : array of float in [0, 1], probability of reversal.\n",
    "    data : 2D array, first column is the number of trials, second column is the\n",
    "    number of reversals.\n",
    "    alpha : float, shape parameter of the prior beta distribution.\n",
    "    beta : float, shape parameter of the prior beta distribution.\n",
    "\n",
    "    Returns:\n",
    "    log_post : float, normalized log posterior of the beta-binomial model\n",
    "    \"\"\"\n",
    "    # Extract the number of trials and the number of reversals\n",
    "    trials = data[:, 0]\n",
    "    reversals = data[:, 1]\n",
    "\n",
    "    # Compute the log likelihood\n",
    "    log_like = [\n",
    "        sum([\n",
    "            sp.stats.binom.logpmf(r, n, p_i) for r, n in zip(reversals, trials)\n",
    "        ]) for p_i in p\n",
    "    ]\n",
    "\n",
    "    # Compute the log prior\n",
    "    log_prior = sp.stats.beta.logpdf(p, a=alpha, b=beta)\n",
    "\n",
    "    # Compute the log posterior\n",
    "    log_post = log_like + log_prior\n",
    "\n",
    "    # Compute the log marginal likelihood\n",
    "    log_marg_like = np.log(np.trapz(np.exp(log_post), p))\n",
    "\n",
    "    # Compute the normalized log posterior\n",
    "    log_post_norm = log_post - log_marg_like\n",
    "\n",
    "    return log_post_norm"
   ]
  },
  {
   "cell_type": "markdown",
   "metadata": {},
   "source": [
    "Now, we can plot both the histogram and the normalized posterior."
   ]
  },
  {
   "cell_type": "code",
   "execution_count": 26,
   "metadata": {},
   "outputs": [
    {
     "data": {
      "text/plain": [
       "Text(0, 0.5, 'frequency')"
      ]
     },
     "execution_count": 26,
     "metadata": {},
     "output_type": "execute_result"
    },
    {
     "data": {
      "image/png": "[encoded data removed]",
      "text/plain": [
       "<Figure size 300x300 with 1 Axes>"
      ]
     },
     "metadata": {},
     "output_type": "display_data"
    }
   ],
   "source": [
    "# Initialize figure\n",
    "fig, ax = plt.subplots(1, 1, figsize=(3, 3))\n",
    "\n",
    "# Plot the chain normed histogram\n",
    "ax.hist(p_chain, bins=30, density=True)\n",
    "\n",
    "# Define range of x values\n",
    "p = np.linspace(0.15, 0.5, 200)\n",
    "\n",
    "# Compute the log posterior\n",
    "log_post = log_posterior_norm(p, *log_post_args)\n",
    "\n",
    "# Plot the posterior\n",
    "ax.plot(p, np.exp(log_post), linewidth=2)\n",
    "\n",
    "# Label the axes\n",
    "ax.set_xlabel(r'$p$')\n",
    "ax.set_ylabel('frequency')"
   ]
  },
  {
   "cell_type": "markdown",
   "metadata": {},
   "source": [
    "Indeed! The two distributions are very similar. This shows that the MCMC method\n",
    "works to approximate the posterior distribution of a model."
   ]
  },
  {
   "cell_type": "markdown",
   "metadata": {},
   "source": [
    "# Conclusion"
   ]
  },
  {
   "cell_type": "markdown",
   "metadata": {},
   "source": [
    "In this simple example, we have shown how to implement the Metropolis-Hastings\n",
    "and compare it with the numerical integration method. We have shown that the\n",
    "Metropolis-Hastings algorithm works to approximate the posterior distribution of\n",
    "a model. This is the first MCMC algorithm ever proposed and is still widely used\n",
    "today. However, it comes with some drawbacks, especially when the dimensionality\n",
    "of the parameter space is high. For that, modern methods such as Hamiltonian\n",
    "Monte Carlo (HMC) and No-U-Turn Sampler (NUTS) have been developed. Although\n",
    "these algorithms are out of the scope for the course, we encourage you to\n",
    "explore them if you are interested in MCMC methods."
   ]
  },
  {
   "cell_type": "code",
   "execution_count": 27,
   "metadata": {},
   "outputs": [
    {
     "name": "stdout",
     "output_type": "stream",
     "text": [
      "Python implementation: CPython\n",
      "Python version       : 3.10.14\n",
      "IPython version      : 8.22.2\n",
      "\n",
      "numpy     : 1.26.4\n",
      "scipy     : 1.12.0\n",
      "pandas    : 2.2.1\n",
      "matplotlib: 3.8.3\n",
      "seaborn   : 0.13.2\n",
      "\n"
     ]
    }
   ],
   "source": [
    "%load_ext watermark\n",
    "%watermark -v -p numpy,scipy,pandas,matplotlib,seaborn"
   ]
  }
 ],
 "metadata": {
  "kernelspec": {
   "display_name": "p2ddm-env",
   "language": "python",
   "name": "python3"
  },
  "language_info": {
   "codemirror_mode": {
    "name": "ipython",
    "version": 3
   },
   "file_extension": ".py",
   "mimetype": "text/x-python",
   "name": "python",
   "nbconvert_exporter": "python",
   "pygments_lexer": "ipython3",
   "version": "3.10.14"
  }
 },
 "nbformat": 4,
 "nbformat_minor": 2
}
