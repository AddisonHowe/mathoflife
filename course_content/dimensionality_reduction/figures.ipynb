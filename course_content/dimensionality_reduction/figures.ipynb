{
 "cells": [
  {
   "cell_type": "markdown",
   "id": "a2c3d3b7-3caa-4681-9ff6-bf044d68dbed",
   "metadata": {},
   "source": [
    "# PCA teaching figures"
   ]
  },
  {
   "cell_type": "code",
   "execution_count": 19,
   "id": "eb350585-2fff-4f87-b6a6-4728aad59cb4",
   "metadata": {},
   "outputs": [
    {
     "data": {
      "text/html": [
       "<style>\n",
       "        .bk-notebook-logo {\n",
       "            display: block;\n",
       "            width: 20px;\n",
       "            height: 20px;\n",
       "            background-image: url(data:image/png;base64,iVBORw0KGgoAAAANSUhEUgAAABQAAAAUCAYAAACNiR0NAAAABHNCSVQICAgIfAhkiAAAAAlwSFlzAAALEgAACxIB0t1+/AAAABx0RVh0U29mdHdhcmUAQWRvYmUgRmlyZXdvcmtzIENTNui8sowAAAOkSURBVDiNjZRtaJVlGMd/1/08zzln5zjP1LWcU9N0NkN8m2CYjpgQYQXqSs0I84OLIC0hkEKoPtiH3gmKoiJDU7QpLgoLjLIQCpEsNJ1vqUOdO7ppbuec5+V+rj4ctwzd8IIbbi6u+8f1539dt3A78eXC7QizUF7gyV1fD1Yqg4JWz84yffhm0qkFqBogB9rM8tZdtwVsPUhWhGcFJngGeWrPzHm5oaMmkfEg1usvLFyc8jLRqDOMru7AyC8saQr7GG7f5fvDeH7Ej8CM66nIF+8yngt6HWaKh7k49Soy9nXurCi1o3qUbS3zWfrYeQDTB/Qj6kX6Ybhw4B+bOYoLKCC9H3Nu/leUTZ1JdRWkkn2ldcCamzrcf47KKXdAJllSlxAOkRgyHsGC/zRday5Qld9DyoM4/q/rUoy/CXh3jzOu3bHUVZeU+DEn8FInkPBFlu3+nW3Nw0mk6vCDiWg8CeJaxEwuHS3+z5RgY+YBR6V1Z1nxSOfoaPa4LASWxxdNp+VWTk7+4vzaou8v8PN+xo+KY2xsw6une2frhw05CTYOmQvsEhjhWjn0bmXPjpE1+kplmmkP3suftwTubK9Vq22qKmrBhpY4jvd5afdRA3wGjFAgcnTK2s4hY0/GPNIb0nErGMCRxWOOX64Z8RAC4oCXdklmEvcL8o0BfkNK4lUg9HTl+oPlQxdNo3Mg4Nv175e/1LDGzZen30MEjRUtmXSfiTVu1kK8W4txyV6BMKlbgk3lMwYCiusNy9fVfvvwMxv8Ynl6vxoByANLTWplvuj/nF9m2+PDtt1eiHPBr1oIfhCChQMBw6Aw0UulqTKZdfVvfG7VcfIqLG9bcldL/+pdWTLxLUy8Qq38heUIjh4XlzZxzQm19lLFlr8vdQ97rjZVOLf8nclzckbcD4wxXMidpX30sFd37Fv/GtwwhzhxGVAprjbg0gCAEeIgwCZyTV2Z1REEW8O4py0wsjeloKoMr6iCY6dP92H6Vw/oTyICIthibxjm/DfN9lVz8IqtqKYLUXfoKVMVQVVJOElGjrnnUt9T9wbgp8AyYKaGlqingHZU/uG2NTZSVqwHQTWkx9hxjkpWDaCg6Ckj5qebgBVbT3V3NNXMSiWSDdGV3hrtzla7J+duwPOToIg42ChPQOQjspnSlp1V+Gjdged7+8UN5CRAV7a5EdFNwCjEaBR27b3W890TE7g24NAP/mMDXRWrGoFPQI9ls/MWO2dWFAar/xcOIImbbpA3zgAAAABJRU5ErkJggg==);\n",
       "        }\n",
       "    </style>\n",
       "    <div>\n",
       "        <a href=\"https://bokeh.org\" target=\"_blank\" class=\"bk-notebook-logo\"></a>\n",
       "        <span id=\"bd122c5d-069e-4045-b452-b761279522b2\">Loading BokehJS ...</span>\n",
       "    </div>\n"
      ]
     },
     "metadata": {},
     "output_type": "display_data"
    },
    {
     "data": {
      "application/javascript": [
       "(function(root) {\n",
       "  function now() {\n",
       "    return new Date();\n",
       "  }\n",
       "\n",
       "  const force = true;\n",
       "\n",
       "  if (typeof root._bokeh_onload_callbacks === \"undefined\" || force === true) {\n",
       "    root._bokeh_onload_callbacks = [];\n",
       "    root._bokeh_is_loading = undefined;\n",
       "  }\n",
       "\n",
       "const JS_MIME_TYPE = 'application/javascript';\n",
       "  const HTML_MIME_TYPE = 'text/html';\n",
       "  const EXEC_MIME_TYPE = 'application/vnd.bokehjs_exec.v0+json';\n",
       "  const CLASS_NAME = 'output_bokeh rendered_html';\n",
       "\n",
       "  /**\n",
       "   * Render data to the DOM node\n",
       "   */\n",
       "  function render(props, node) {\n",
       "    const script = document.createElement(\"script\");\n",
       "    node.appendChild(script);\n",
       "  }\n",
       "\n",
       "  /**\n",
       "   * Handle when an output is cleared or removed\n",
       "   */\n",
       "  function handleClearOutput(event, handle) {\n",
       "    const cell = handle.cell;\n",
       "\n",
       "    const id = cell.output_area._bokeh_element_id;\n",
       "    const server_id = cell.output_area._bokeh_server_id;\n",
       "    // Clean up Bokeh references\n",
       "    if (id != null && id in Bokeh.index) {\n",
       "      Bokeh.index[id].model.document.clear();\n",
       "      delete Bokeh.index[id];\n",
       "    }\n",
       "\n",
       "    if (server_id !== undefined) {\n",
       "      // Clean up Bokeh references\n",
       "      const cmd_clean = \"from bokeh.io.state import curstate; print(curstate().uuid_to_server['\" + server_id + \"'].get_sessions()[0].document.roots[0]._id)\";\n",
       "      cell.notebook.kernel.execute(cmd_clean, {\n",
       "        iopub: {\n",
       "          output: function(msg) {\n",
       "            const id = msg.content.text.trim();\n",
       "            if (id in Bokeh.index) {\n",
       "              Bokeh.index[id].model.document.clear();\n",
       "              delete Bokeh.index[id];\n",
       "            }\n",
       "          }\n",
       "        }\n",
       "      });\n",
       "      // Destroy server and session\n",
       "      const cmd_destroy = \"import bokeh.io.notebook as ion; ion.destroy_server('\" + server_id + \"')\";\n",
       "      cell.notebook.kernel.execute(cmd_destroy);\n",
       "    }\n",
       "  }\n",
       "\n",
       "  /**\n",
       "   * Handle when a new output is added\n",
       "   */\n",
       "  function handleAddOutput(event, handle) {\n",
       "    const output_area = handle.output_area;\n",
       "    const output = handle.output;\n",
       "\n",
       "    // limit handleAddOutput to display_data with EXEC_MIME_TYPE content only\n",
       "    if ((output.output_type != \"display_data\") || (!Object.prototype.hasOwnProperty.call(output.data, EXEC_MIME_TYPE))) {\n",
       "      return\n",
       "    }\n",
       "\n",
       "    const toinsert = output_area.element.find(\".\" + CLASS_NAME.split(' ')[0]);\n",
       "\n",
       "    if (output.metadata[EXEC_MIME_TYPE][\"id\"] !== undefined) {\n",
       "      toinsert[toinsert.length - 1].firstChild.textContent = output.data[JS_MIME_TYPE];\n",
       "      // store reference to embed id on output_area\n",
       "      output_area._bokeh_element_id = output.metadata[EXEC_MIME_TYPE][\"id\"];\n",
       "    }\n",
       "    if (output.metadata[EXEC_MIME_TYPE][\"server_id\"] !== undefined) {\n",
       "      const bk_div = document.createElement(\"div\");\n",
       "      bk_div.innerHTML = output.data[HTML_MIME_TYPE];\n",
       "      const script_attrs = bk_div.children[0].attributes;\n",
       "      for (let i = 0; i < script_attrs.length; i++) {\n",
       "        toinsert[toinsert.length - 1].firstChild.setAttribute(script_attrs[i].name, script_attrs[i].value);\n",
       "        toinsert[toinsert.length - 1].firstChild.textContent = bk_div.children[0].textContent\n",
       "      }\n",
       "      // store reference to server id on output_area\n",
       "      output_area._bokeh_server_id = output.metadata[EXEC_MIME_TYPE][\"server_id\"];\n",
       "    }\n",
       "  }\n",
       "\n",
       "  function register_renderer(events, OutputArea) {\n",
       "\n",
       "    function append_mime(data, metadata, element) {\n",
       "      // create a DOM node to render to\n",
       "      const toinsert = this.create_output_subarea(\n",
       "        metadata,\n",
       "        CLASS_NAME,\n",
       "        EXEC_MIME_TYPE\n",
       "      );\n",
       "      this.keyboard_manager.register_events(toinsert);\n",
       "      // Render to node\n",
       "      const props = {data: data, metadata: metadata[EXEC_MIME_TYPE]};\n",
       "      render(props, toinsert[toinsert.length - 1]);\n",
       "      element.append(toinsert);\n",
       "      return toinsert\n",
       "    }\n",
       "\n",
       "    /* Handle when an output is cleared or removed */\n",
       "    events.on('clear_output.CodeCell', handleClearOutput);\n",
       "    events.on('delete.Cell', handleClearOutput);\n",
       "\n",
       "    /* Handle when a new output is added */\n",
       "    events.on('output_added.OutputArea', handleAddOutput);\n",
       "\n",
       "    /**\n",
       "     * Register the mime type and append_mime function with output_area\n",
       "     */\n",
       "    OutputArea.prototype.register_mime_type(EXEC_MIME_TYPE, append_mime, {\n",
       "      /* Is output safe? */\n",
       "      safe: true,\n",
       "      /* Index of renderer in `output_area.display_order` */\n",
       "      index: 0\n",
       "    });\n",
       "  }\n",
       "\n",
       "  // register the mime type if in Jupyter Notebook environment and previously unregistered\n",
       "  if (root.Jupyter !== undefined) {\n",
       "    const events = require('base/js/events');\n",
       "    const OutputArea = require('notebook/js/outputarea').OutputArea;\n",
       "\n",
       "    if (OutputArea.prototype.mime_types().indexOf(EXEC_MIME_TYPE) == -1) {\n",
       "      register_renderer(events, OutputArea);\n",
       "    }\n",
       "  }\n",
       "  if (typeof (root._bokeh_timeout) === \"undefined\" || force === true) {\n",
       "    root._bokeh_timeout = Date.now() + 5000;\n",
       "    root._bokeh_failed_load = false;\n",
       "  }\n",
       "\n",
       "  const NB_LOAD_WARNING = {'data': {'text/html':\n",
       "     \"<div style='background-color: #fdd'>\\n\"+\n",
       "     \"<p>\\n\"+\n",
       "     \"BokehJS does not appear to have successfully loaded. If loading BokehJS from CDN, this \\n\"+\n",
       "     \"may be due to a slow or bad network connection. Possible fixes:\\n\"+\n",
       "     \"</p>\\n\"+\n",
       "     \"<ul>\\n\"+\n",
       "     \"<li>re-rerun `output_notebook()` to attempt to load from CDN again, or</li>\\n\"+\n",
       "     \"<li>use INLINE resources instead, as so:</li>\\n\"+\n",
       "     \"</ul>\\n\"+\n",
       "     \"<code>\\n\"+\n",
       "     \"from bokeh.resources import INLINE\\n\"+\n",
       "     \"output_notebook(resources=INLINE)\\n\"+\n",
       "     \"</code>\\n\"+\n",
       "     \"</div>\"}};\n",
       "\n",
       "  function display_loaded() {\n",
       "    const el = document.getElementById(\"bd122c5d-069e-4045-b452-b761279522b2\");\n",
       "    if (el != null) {\n",
       "      el.textContent = \"BokehJS is loading...\";\n",
       "    }\n",
       "    if (root.Bokeh !== undefined) {\n",
       "      if (el != null) {\n",
       "        el.textContent = \"BokehJS \" + root.Bokeh.version + \" successfully loaded.\";\n",
       "      }\n",
       "    } else if (Date.now() < root._bokeh_timeout) {\n",
       "      setTimeout(display_loaded, 100)\n",
       "    }\n",
       "  }\n",
       "\n",
       "  function run_callbacks() {\n",
       "    try {\n",
       "      root._bokeh_onload_callbacks.forEach(function(callback) {\n",
       "        if (callback != null)\n",
       "          callback();\n",
       "      });\n",
       "    } finally {\n",
       "      delete root._bokeh_onload_callbacks\n",
       "    }\n",
       "    console.debug(\"Bokeh: all callbacks have finished\");\n",
       "  }\n",
       "\n",
       "  function load_libs(css_urls, js_urls, callback) {\n",
       "    if (css_urls == null) css_urls = [];\n",
       "    if (js_urls == null) js_urls = [];\n",
       "\n",
       "    root._bokeh_onload_callbacks.push(callback);\n",
       "    if (root._bokeh_is_loading > 0) {\n",
       "      console.debug(\"Bokeh: BokehJS is being loaded, scheduling callback at\", now());\n",
       "      return null;\n",
       "    }\n",
       "    if (js_urls == null || js_urls.length === 0) {\n",
       "      run_callbacks();\n",
       "      return null;\n",
       "    }\n",
       "    console.debug(\"Bokeh: BokehJS not loaded, scheduling load and callback at\", now());\n",
       "    root._bokeh_is_loading = css_urls.length + js_urls.length;\n",
       "\n",
       "    function on_load() {\n",
       "      root._bokeh_is_loading--;\n",
       "      if (root._bokeh_is_loading === 0) {\n",
       "        console.debug(\"Bokeh: all BokehJS libraries/stylesheets loaded\");\n",
       "        run_callbacks()\n",
       "      }\n",
       "    }\n",
       "\n",
       "    function on_error(url) {\n",
       "      console.error(\"failed to load \" + url);\n",
       "    }\n",
       "\n",
       "    for (let i = 0; i < css_urls.length; i++) {\n",
       "      const url = css_urls[i];\n",
       "      const element = document.createElement(\"link\");\n",
       "      element.onload = on_load;\n",
       "      element.onerror = on_error.bind(null, url);\n",
       "      element.rel = \"stylesheet\";\n",
       "      element.type = \"text/css\";\n",
       "      element.href = url;\n",
       "      console.debug(\"Bokeh: injecting link tag for BokehJS stylesheet: \", url);\n",
       "      document.body.appendChild(element);\n",
       "    }\n",
       "\n",
       "    for (let i = 0; i < js_urls.length; i++) {\n",
       "      const url = js_urls[i];\n",
       "      const element = document.createElement('script');\n",
       "      element.onload = on_load;\n",
       "      element.onerror = on_error.bind(null, url);\n",
       "      element.async = false;\n",
       "      element.src = url;\n",
       "      console.debug(\"Bokeh: injecting script tag for BokehJS library: \", url);\n",
       "      document.head.appendChild(element);\n",
       "    }\n",
       "  };\n",
       "\n",
       "  function inject_raw_css(css) {\n",
       "    const element = document.createElement(\"style\");\n",
       "    element.appendChild(document.createTextNode(css));\n",
       "    document.body.appendChild(element);\n",
       "  }\n",
       "\n",
       "  const js_urls = [\"https://cdn.bokeh.org/bokeh/release/bokeh-3.2.0.min.js\", \"https://cdn.bokeh.org/bokeh/release/bokeh-gl-3.2.0.min.js\", \"https://cdn.bokeh.org/bokeh/release/bokeh-widgets-3.2.0.min.js\", \"https://cdn.bokeh.org/bokeh/release/bokeh-tables-3.2.0.min.js\", \"https://cdn.bokeh.org/bokeh/release/bokeh-mathjax-3.2.0.min.js\"];\n",
       "  const css_urls = [];\n",
       "\n",
       "  const inline_js = [    function(Bokeh) {\n",
       "      Bokeh.set_log_level(\"info\");\n",
       "    },\n",
       "function(Bokeh) {\n",
       "    }\n",
       "  ];\n",
       "\n",
       "  function run_inline_js() {\n",
       "    if (root.Bokeh !== undefined || force === true) {\n",
       "          for (let i = 0; i < inline_js.length; i++) {\n",
       "      inline_js[i].call(root, root.Bokeh);\n",
       "    }\n",
       "if (force === true) {\n",
       "        display_loaded();\n",
       "      }} else if (Date.now() < root._bokeh_timeout) {\n",
       "      setTimeout(run_inline_js, 100);\n",
       "    } else if (!root._bokeh_failed_load) {\n",
       "      console.log(\"Bokeh: BokehJS failed to load within specified timeout.\");\n",
       "      root._bokeh_failed_load = true;\n",
       "    } else if (force !== true) {\n",
       "      const cell = $(document.getElementById(\"bd122c5d-069e-4045-b452-b761279522b2\")).parents('.cell').data().cell;\n",
       "      cell.output_area.append_execute_result(NB_LOAD_WARNING)\n",
       "    }\n",
       "  }\n",
       "\n",
       "  if (root._bokeh_is_loading === 0) {\n",
       "    console.debug(\"Bokeh: BokehJS loaded, going straight to plotting\");\n",
       "    run_inline_js();\n",
       "  } else {\n",
       "    load_libs(css_urls, js_urls, function() {\n",
       "      console.debug(\"Bokeh: BokehJS plotting callback run at\", now());\n",
       "      run_inline_js();\n",
       "    });\n",
       "  }\n",
       "}(window));"
      ],
      "application/vnd.bokehjs_load.v0+json": "(function(root) {\n  function now() {\n    return new Date();\n  }\n\n  const force = true;\n\n  if (typeof root._bokeh_onload_callbacks === \"undefined\" || force === true) {\n    root._bokeh_onload_callbacks = [];\n    root._bokeh_is_loading = undefined;\n  }\n\n\n  if (typeof (root._bokeh_timeout) === \"undefined\" || force === true) {\n    root._bokeh_timeout = Date.now() + 5000;\n    root._bokeh_failed_load = false;\n  }\n\n  const NB_LOAD_WARNING = {'data': {'text/html':\n     \"<div style='background-color: #fdd'>\\n\"+\n     \"<p>\\n\"+\n     \"BokehJS does not appear to have successfully loaded. If loading BokehJS from CDN, this \\n\"+\n     \"may be due to a slow or bad network connection. Possible fixes:\\n\"+\n     \"</p>\\n\"+\n     \"<ul>\\n\"+\n     \"<li>re-rerun `output_notebook()` to attempt to load from CDN again, or</li>\\n\"+\n     \"<li>use INLINE resources instead, as so:</li>\\n\"+\n     \"</ul>\\n\"+\n     \"<code>\\n\"+\n     \"from bokeh.resources import INLINE\\n\"+\n     \"output_notebook(resources=INLINE)\\n\"+\n     \"</code>\\n\"+\n     \"</div>\"}};\n\n  function display_loaded() {\n    const el = document.getElementById(\"bd122c5d-069e-4045-b452-b761279522b2\");\n    if (el != null) {\n      el.textContent = \"BokehJS is loading...\";\n    }\n    if (root.Bokeh !== undefined) {\n      if (el != null) {\n        el.textContent = \"BokehJS \" + root.Bokeh.version + \" successfully loaded.\";\n      }\n    } else if (Date.now() < root._bokeh_timeout) {\n      setTimeout(display_loaded, 100)\n    }\n  }\n\n  function run_callbacks() {\n    try {\n      root._bokeh_onload_callbacks.forEach(function(callback) {\n        if (callback != null)\n          callback();\n      });\n    } finally {\n      delete root._bokeh_onload_callbacks\n    }\n    console.debug(\"Bokeh: all callbacks have finished\");\n  }\n\n  function load_libs(css_urls, js_urls, callback) {\n    if (css_urls == null) css_urls = [];\n    if (js_urls == null) js_urls = [];\n\n    root._bokeh_onload_callbacks.push(callback);\n    if (root._bokeh_is_loading > 0) {\n      console.debug(\"Bokeh: BokehJS is being loaded, scheduling callback at\", now());\n      return null;\n    }\n    if (js_urls == null || js_urls.length === 0) {\n      run_callbacks();\n      return null;\n    }\n    console.debug(\"Bokeh: BokehJS not loaded, scheduling load and callback at\", now());\n    root._bokeh_is_loading = css_urls.length + js_urls.length;\n\n    function on_load() {\n      root._bokeh_is_loading--;\n      if (root._bokeh_is_loading === 0) {\n        console.debug(\"Bokeh: all BokehJS libraries/stylesheets loaded\");\n        run_callbacks()\n      }\n    }\n\n    function on_error(url) {\n      console.error(\"failed to load \" + url);\n    }\n\n    for (let i = 0; i < css_urls.length; i++) {\n      const url = css_urls[i];\n      const element = document.createElement(\"link\");\n      element.onload = on_load;\n      element.onerror = on_error.bind(null, url);\n      element.rel = \"stylesheet\";\n      element.type = \"text/css\";\n      element.href = url;\n      console.debug(\"Bokeh: injecting link tag for BokehJS stylesheet: \", url);\n      document.body.appendChild(element);\n    }\n\n    for (let i = 0; i < js_urls.length; i++) {\n      const url = js_urls[i];\n      const element = document.createElement('script');\n      element.onload = on_load;\n      element.onerror = on_error.bind(null, url);\n      element.async = false;\n      element.src = url;\n      console.debug(\"Bokeh: injecting script tag for BokehJS library: \", url);\n      document.head.appendChild(element);\n    }\n  };\n\n  function inject_raw_css(css) {\n    const element = document.createElement(\"style\");\n    element.appendChild(document.createTextNode(css));\n    document.body.appendChild(element);\n  }\n\n  const js_urls = [\"https://cdn.bokeh.org/bokeh/release/bokeh-3.2.0.min.js\", \"https://cdn.bokeh.org/bokeh/release/bokeh-gl-3.2.0.min.js\", \"https://cdn.bokeh.org/bokeh/release/bokeh-widgets-3.2.0.min.js\", \"https://cdn.bokeh.org/bokeh/release/bokeh-tables-3.2.0.min.js\", \"https://cdn.bokeh.org/bokeh/release/bokeh-mathjax-3.2.0.min.js\"];\n  const css_urls = [];\n\n  const inline_js = [    function(Bokeh) {\n      Bokeh.set_log_level(\"info\");\n    },\nfunction(Bokeh) {\n    }\n  ];\n\n  function run_inline_js() {\n    if (root.Bokeh !== undefined || force === true) {\n          for (let i = 0; i < inline_js.length; i++) {\n      inline_js[i].call(root, root.Bokeh);\n    }\nif (force === true) {\n        display_loaded();\n      }} else if (Date.now() < root._bokeh_timeout) {\n      setTimeout(run_inline_js, 100);\n    } else if (!root._bokeh_failed_load) {\n      console.log(\"Bokeh: BokehJS failed to load within specified timeout.\");\n      root._bokeh_failed_load = true;\n    } else if (force !== true) {\n      const cell = $(document.getElementById(\"bd122c5d-069e-4045-b452-b761279522b2\")).parents('.cell').data().cell;\n      cell.output_area.append_execute_result(NB_LOAD_WARNING)\n    }\n  }\n\n  if (root._bokeh_is_loading === 0) {\n    console.debug(\"Bokeh: BokehJS loaded, going straight to plotting\");\n    run_inline_js();\n  } else {\n    load_libs(css_urls, js_urls, function() {\n      console.debug(\"Bokeh: BokehJS plotting callback run at\", now());\n      run_inline_js();\n    });\n  }\n}(window));"
     },
     "metadata": {},
     "output_type": "display_data"
    }
   ],
   "source": [
    "import numpy as np\n",
    "import pandas as pd\n",
    "\n",
    "import bokeh.io\n",
    "import bokeh.plotting\n",
    "from bokeh.models import Arrow, OpenHead, NormalHead, VeeHead\n",
    "bokeh.io.output_notebook()"
   ]
  },
  {
   "cell_type": "markdown",
   "id": "1d3ba904-0d8e-4ccd-8268-1f4deb53c233",
   "metadata": {},
   "source": [
    "3.19.24"
   ]
  },
  {
   "cell_type": "markdown",
   "id": "b38c5983-6850-4831-8097-ea7dbf0a5111",
   "metadata": {},
   "source": [
    "## Random data, rotate data figure"
   ]
  },
  {
   "cell_type": "code",
   "execution_count": 247,
   "id": "18c7fbe6-6bca-41fd-8751-affa6859faa3",
   "metadata": {},
   "outputs": [],
   "source": [
    "np.random.seed(0)\n",
    "\n",
    "x = np.random.normal(0,5,100)\n",
    "y = x + np.random.normal(0,9,100)"
   ]
  },
  {
   "cell_type": "code",
   "execution_count": 255,
   "id": "d50f73d1-e221-4950-859e-67b697a64e21",
   "metadata": {},
   "outputs": [],
   "source": [
    "data = np.vstack((x,y)).T\n",
    "data_centered = data - np.mean(data, axis=0)\n",
    "# bias - false ensure dividing by N-1\n",
    "cov_matrix = np.cov(data_centered, rowvar=False, bias = False)\n",
    "\n",
    "evals, evecs = np.linalg.eig(cov_matrix)\n",
    "\n",
    "# sort\n",
    "# idx = evals.argsort()[::-1]\n",
    "# evals = evals[idx]\n",
    "# evecs = evecs[idx]"
   ]
  },
  {
   "cell_type": "code",
   "execution_count": 256,
   "id": "f19825db-93d9-4b09-899f-b066cdd0bf1b",
   "metadata": {},
   "outputs": [
    {
     "data": {
      "text/plain": [
       "array([[-0.96071   , -0.27755412],\n",
       "       [ 0.27755412, -0.96071   ]])"
      ]
     },
     "execution_count": 256,
     "metadata": {},
     "output_type": "execute_result"
    }
   ],
   "source": [
    "evecs"
   ]
  },
  {
   "cell_type": "code",
   "execution_count": 257,
   "id": "efc08757-f9f3-4397-a708-c334182639ef",
   "metadata": {},
   "outputs": [
    {
     "data": {
      "text/plain": [
       "array([-0.96071   ,  0.27755412])"
      ]
     },
     "execution_count": 257,
     "metadata": {},
     "output_type": "execute_result"
    }
   ],
   "source": [
    "evecs[:,0]"
   ]
  },
  {
   "cell_type": "code",
   "execution_count": 258,
   "id": "df0eaab7-dc37-401d-8706-d09ac680e514",
   "metadata": {},
   "outputs": [
    {
     "data": {
      "text/plain": [
       "array([ 16.71107251, 132.77475111])"
      ]
     },
     "execution_count": 258,
     "metadata": {},
     "output_type": "execute_result"
    }
   ],
   "source": [
    "evals"
   ]
  },
  {
   "cell_type": "markdown",
   "id": "0c7c65b7-6b25-4aa1-a9bc-929a9fb39a96",
   "metadata": {},
   "source": [
    "Plot the principal components"
   ]
  },
  {
   "cell_type": "code",
   "execution_count": 259,
   "id": "af770b5e-3084-48f0-94c5-69d40b85cd3b",
   "metadata": {},
   "outputs": [
    {
     "data": {
      "text/plain": [
       "array([[ 25.65218735,  30.94826563],\n",
       "       [ 30.94826563, 123.83363626]])"
      ]
     },
     "execution_count": 259,
     "metadata": {},
     "output_type": "execute_result"
    }
   ],
   "source": [
    "cov_matrix"
   ]
  },
  {
   "cell_type": "code",
   "execution_count": 261,
   "id": "018c6f9c-f853-4ce6-85f9-fb6df7ee3416",
   "metadata": {},
   "outputs": [
    {
     "data": {
      "text/html": [
       "\n",
       "  <div id=\"eff6cb25-705e-4bf2-b5e5-e863b1efee92\" data-root-id=\"p6684\" style=\"display: contents;\"></div>\n"
      ]
     },
     "metadata": {},
     "output_type": "display_data"
    },
    {
     "data": {
      "application/javascript": [
       "(function(root) {\n",
       "  function embed_document(root) {\n",
       "  const docs_json = {\"7691e5f9-9d83-4901-880c-a117cf8e05a5\":{\"version\":\"3.2.0\",\"title\":\"Bokeh Application\",\"roots\":[{\"type\":\"object\",\"name\":\"Figure\",\"id\":\"p6684\",\"attributes\":{\"width\":350,\"height\":300,\"x_range\":{\"type\":\"object\",\"name\":\"Range1d\",\"id\":\"p6693\",\"attributes\":{\"start\":-35,\"end\":35}},\"y_range\":{\"type\":\"object\",\"name\":\"Range1d\",\"id\":\"p6694\",\"attributes\":{\"start\":-35,\"end\":35}},\"x_scale\":{\"type\":\"object\",\"name\":\"LinearScale\",\"id\":\"p6695\"},\"y_scale\":{\"type\":\"object\",\"name\":\"LinearScale\",\"id\":\"p6696\"},\"title\":{\"type\":\"object\",\"name\":\"Title\",\"id\":\"p6691\"},\"renderers\":[{\"type\":\"object\",\"name\":\"GlyphRenderer\",\"id\":\"p6720\",\"attributes\":{\"data_source\":{\"type\":\"object\",\"name\":\"ColumnDataSource\",\"id\":\"p6714\",\"attributes\":{\"selected\":{\"type\":\"object\",\"name\":\"Selection\",\"id\":\"p6715\",\"attributes\":{\"indices\":[],\"line_indices\":[]}},\"selection_policy\":{\"type\":\"object\",\"name\":\"UnionRenderers\",\"id\":\"p6716\"},\"data\":{\"type\":\"map\",\"entries\":[[\"x\",{\"type\":\"ndarray\",\"array\":{\"type\":\"bytes\",\"data\":\"Cgp8kN0KIUC/7eL5WTr7P5GObuPrYBJA5WVo/JPPJUDrLvsF1xMiQEunjjnhvRTAOG4YVDzOEUCL8MDtqeTwv4rstpqUFeq/1zXkbDAQ/D8rPbijk/TaP/u3Fc+p4xtAo8UmnJcMDEDPqEUMJczTP1VVzmpzuf4/dD2CNcjo9T8Q0LnCd68cQJsAC2iCMvW//DelJMJC9D8wQ/btL0cSwIXgzy/DICrAy5R8zp7AB0DKaqBAshcQQGLNABkaChDAbx/8m3YZJkAKuDe9kUgewCw5LlW9+7G/jMRMtmTC878/+knPnHUdQJgQYV3mMBxA4a0CC9Jx3j/XZlh25nf5P9i15Riu8xLAKCLyjfJnJMDA2O/yDU8AwK/N4Ymi5N4/HMz2Cd9oF0CzyNbA99kWQJCb7yKp4gHA27EdSwf4/L/i7IznzioWwO6GBXm1mB3AeVVgAympIcADB8hh4OgiQPm0VL1FxwbA9OQXn1DqA8DEFRd/h0AawHDEszERtQxA/w3b36+8IMCPnEECys31vy/0Qn4BGxPAF/WWHuUq+j/E2uEkFNMGwNRmS8cNzxjAO7TAKCko3L8pRVBZXnv9P+jP+B/yLKE/Hl9fncFp8z9s+Plu5MMLwEF6j1Pn5gDAgmso121KDcDd+P0pQsYAwHoVLKiGdRHAp0bqWGTcIcCQKsxyo9HiP2gz3b2rdgLAirfZkWrmIMDBuKvKdB4AQOb9nayVVxPA+OxestggpL++ngAKdMUKQNe927LOItY/Y+L/s4OXFUAPsRx2huQZwKFh+bEWZ/s/iL9ksOPIDcDm6C7NspwSwIjrGMraiwnAE5bCyXa1/b/gAUdWhqaSv5ZE7cLIfxjANJcZuwPSEEBNWJIF8zsAQPAg+OLI6x/AlNxzWqKRHEAfUzsmXlwiQGFJu2UiYRZAT+tYkrot87/+EC1weJwWwORpyGeT5BNAgmjUTPeEAsAey/mjs0AXQBT06O80wec/WbR6wSxWEkCz2QcChLn3PwRAsgrg3glAatvjMp+Oz7+ak0pOuEIhQGVNFn8qedU/2QvOvt9f+z8=\"},\"shape\":[100],\"dtype\":\"float64\",\"order\":\"little\"}],[\"y\",{\"type\":\"ndarray\",\"array\":{\"type\":\"bytes\",\"data\":\"MsxcCkG7OEBoT4p4GFUmwAD4ECmzTx7APs/wN1LkMkCyRFxeUA8CwNwSistZIydAAF286E0Eg7/SqFxAxQohwILcr/2mgS9ASvHO7VGuLEAackcvuH0wQIQ7kTz4xixARW74YZfuE8CbXeWCBcMwQFw90TONrfO//9LbV81pH0A4AitVweotQJybB1YQqgvAdwACqjY4GEAin4JqE/AHQHAuq/8b1CTA+XawW5mnHsBTrpOCbeAXQOnqEPgJwhxAH1XuK/U9EEAOtIhkt08jwNoMut0j5hLArpabOzFXLUDCvioi01opQMwuIUke9CNAVwwyqUPEHMAtSqYz3dMWQPRL96gUFyfAQHoRIzBPJcAUbZR6qP8gwPmB4KZ3VBdANkFDSXObJEAWG87q6MwIQKgWguN84+I/Er3WK7/FKMAPXIN2hLMzwDa9akMbuxDAG+EGZQsjIMCCJ2+CL90sQMaWOwzm3DFAr7O9fVUXFUBohQUZdwgvwOKkT+SPzilAhNCc7SbzNMAxinwWPgUZwJH0dYPAgxjAu3VLwkNRMEBkfl4ChJYkwET6OeWrwSzAtojLL1yDAMAOnSb0mncTwIg6NVLM3iJAXv1vRwV9IsASgWulbBItwDvfCJ47KhvA4CSl4XTDIcBE1HmmzQ8tQJqr2FwCiQtA7IYvI9/CIcCsMsLHnlsmwANft3J7NhJAnLQ3hakwMsBAO69fm0ApwL84jGN3eRRA0RZSvbWZAECgEbXXw8olQOZI0Nd5zwNAZiys7h2+KEAwnum0GiQqwG4ojxnSqiDAekBOAjLF+j+MvPFwYD4pwCA6hyZTRiTABZeTlWLHGsCM3OIbJyvjv+Yc7QYDGSTAusxnHa/QIcDDIrCvcQESwKiQIPufujzActE+xfcPKEBb2TXLqOcXwPaX76uxVBTAOMWanQp6978QS2OqDhgqwD7rcaxKHzJAVu9sVKRgLcAXRobQAuodQPgJdtdgW9a/VLhVb86qGsC0MQWpENEVQBBEiJcUde4/qgLzgojYF0BI5qnlgpsuQHSwFO0HETNAjlPCDcoAKkA=\"},\"shape\":[100],\"dtype\":\"float64\",\"order\":\"little\"}]]}}},\"view\":{\"type\":\"object\",\"name\":\"CDSView\",\"id\":\"p6721\",\"attributes\":{\"filter\":{\"type\":\"object\",\"name\":\"AllIndices\",\"id\":\"p6722\"}}},\"glyph\":{\"type\":\"object\",\"name\":\"Circle\",\"id\":\"p6717\",\"attributes\":{\"x\":{\"type\":\"field\",\"field\":\"x\"},\"y\":{\"type\":\"field\",\"field\":\"y\"},\"line_color\":{\"type\":\"value\",\"value\":\"#CE8964\"},\"fill_color\":{\"type\":\"value\",\"value\":\"#CE8964\"},\"hatch_color\":{\"type\":\"value\",\"value\":\"#CE8964\"}}},\"nonselection_glyph\":{\"type\":\"object\",\"name\":\"Circle\",\"id\":\"p6718\",\"attributes\":{\"x\":{\"type\":\"field\",\"field\":\"x\"},\"y\":{\"type\":\"field\",\"field\":\"y\"},\"line_color\":{\"type\":\"value\",\"value\":\"#CE8964\"},\"line_alpha\":{\"type\":\"value\",\"value\":0.1},\"fill_color\":{\"type\":\"value\",\"value\":\"#CE8964\"},\"fill_alpha\":{\"type\":\"value\",\"value\":0.1},\"hatch_color\":{\"type\":\"value\",\"value\":\"#CE8964\"},\"hatch_alpha\":{\"type\":\"value\",\"value\":0.1}}},\"muted_glyph\":{\"type\":\"object\",\"name\":\"Circle\",\"id\":\"p6719\",\"attributes\":{\"x\":{\"type\":\"field\",\"field\":\"x\"},\"y\":{\"type\":\"field\",\"field\":\"y\"},\"line_color\":{\"type\":\"value\",\"value\":\"#CE8964\"},\"line_alpha\":{\"type\":\"value\",\"value\":0.2},\"fill_color\":{\"type\":\"value\",\"value\":\"#CE8964\"},\"fill_alpha\":{\"type\":\"value\",\"value\":0.2},\"hatch_color\":{\"type\":\"value\",\"value\":\"#CE8964\"},\"hatch_alpha\":{\"type\":\"value\",\"value\":0.2}}}}},{\"type\":\"object\",\"name\":\"GlyphRenderer\",\"id\":\"p6729\",\"attributes\":{\"data_source\":{\"type\":\"object\",\"name\":\"ColumnDataSource\",\"id\":\"p6723\",\"attributes\":{\"selected\":{\"type\":\"object\",\"name\":\"Selection\",\"id\":\"p6724\",\"attributes\":{\"indices\":[],\"line_indices\":[]}},\"selection_policy\":{\"type\":\"object\",\"name\":\"UnionRenderers\",\"id\":\"p6725\"},\"data\":{\"type\":\"map\",\"entries\":[[\"x\",[160.54494546293145,7.549516567451065e-17,-160.54494546293145]],[\"y\",[-46.38226945661614,-7.460698725481052e-16,46.38226945661614]]]}}},\"view\":{\"type\":\"object\",\"name\":\"CDSView\",\"id\":\"p6730\",\"attributes\":{\"filter\":{\"type\":\"object\",\"name\":\"AllIndices\",\"id\":\"p6731\"}}},\"glyph\":{\"type\":\"object\",\"name\":\"Line\",\"id\":\"p6726\",\"attributes\":{\"x\":{\"type\":\"field\",\"field\":\"x\"},\"y\":{\"type\":\"field\",\"field\":\"y\"},\"line_color\":\"#843B62\",\"line_width\":3}},\"nonselection_glyph\":{\"type\":\"object\",\"name\":\"Line\",\"id\":\"p6727\",\"attributes\":{\"x\":{\"type\":\"field\",\"field\":\"x\"},\"y\":{\"type\":\"field\",\"field\":\"y\"},\"line_color\":\"#843B62\",\"line_alpha\":0.1,\"line_width\":3}},\"muted_glyph\":{\"type\":\"object\",\"name\":\"Line\",\"id\":\"p6728\",\"attributes\":{\"x\":{\"type\":\"field\",\"field\":\"x\"},\"y\":{\"type\":\"field\",\"field\":\"y\"},\"line_color\":\"#843B62\",\"line_alpha\":0.2,\"line_width\":3}}}},{\"type\":\"object\",\"name\":\"GlyphRenderer\",\"id\":\"p6740\",\"attributes\":{\"data_source\":{\"type\":\"object\",\"name\":\"ColumnDataSource\",\"id\":\"p6734\",\"attributes\":{\"selected\":{\"type\":\"object\",\"name\":\"Selection\",\"id\":\"p6735\",\"attributes\":{\"indices\":[],\"line_indices\":[]}},\"selection_policy\":{\"type\":\"object\",\"name\":\"UnionRenderers\",\"id\":\"p6736\"},\"data\":{\"type\":\"map\",\"entries\":[[\"x\",[368.52178580652463,7.549516567451065e-17,-368.52178580652463]],[\"y\",[1275.5803175942092,-7.460698725481052e-16,-1275.5803175942092]]]}}},\"view\":{\"type\":\"object\",\"name\":\"CDSView\",\"id\":\"p6741\",\"attributes\":{\"filter\":{\"type\":\"object\",\"name\":\"AllIndices\",\"id\":\"p6742\"}}},\"glyph\":{\"type\":\"object\",\"name\":\"Line\",\"id\":\"p6737\",\"attributes\":{\"x\":{\"type\":\"field\",\"field\":\"x\"},\"y\":{\"type\":\"field\",\"field\":\"y\"},\"line_color\":\"#326273\",\"line_width\":3}},\"nonselection_glyph\":{\"type\":\"object\",\"name\":\"Line\",\"id\":\"p6738\",\"attributes\":{\"x\":{\"type\":\"field\",\"field\":\"x\"},\"y\":{\"type\":\"field\",\"field\":\"y\"},\"line_color\":\"#326273\",\"line_alpha\":0.1,\"line_width\":3}},\"muted_glyph\":{\"type\":\"object\",\"name\":\"Line\",\"id\":\"p6739\",\"attributes\":{\"x\":{\"type\":\"field\",\"field\":\"x\"},\"y\":{\"type\":\"field\",\"field\":\"y\"},\"line_color\":\"#326273\",\"line_alpha\":0.2,\"line_width\":3}}}}],\"toolbar\":{\"type\":\"object\",\"name\":\"Toolbar\",\"id\":\"p6692\",\"attributes\":{\"tools\":[{\"type\":\"object\",\"name\":\"PanTool\",\"id\":\"p6707\"},{\"type\":\"object\",\"name\":\"WheelZoomTool\",\"id\":\"p6708\"},{\"type\":\"object\",\"name\":\"BoxZoomTool\",\"id\":\"p6709\",\"attributes\":{\"overlay\":{\"type\":\"object\",\"name\":\"BoxAnnotation\",\"id\":\"p6710\",\"attributes\":{\"syncable\":false,\"level\":\"overlay\",\"visible\":false,\"left_units\":\"canvas\",\"right_units\":\"canvas\",\"bottom_units\":\"canvas\",\"top_units\":\"canvas\",\"line_color\":\"black\",\"line_alpha\":1.0,\"line_width\":2,\"line_dash\":[4,4],\"fill_color\":\"lightgrey\",\"fill_alpha\":0.5}}}},{\"type\":\"object\",\"name\":\"SaveTool\",\"id\":\"p6711\"},{\"type\":\"object\",\"name\":\"ResetTool\",\"id\":\"p6712\"},{\"type\":\"object\",\"name\":\"HelpTool\",\"id\":\"p6713\"}]}},\"left\":[{\"type\":\"object\",\"name\":\"LinearAxis\",\"id\":\"p6702\",\"attributes\":{\"ticker\":{\"type\":\"object\",\"name\":\"BasicTicker\",\"id\":\"p6703\",\"attributes\":{\"mantissas\":[1,2,5]}},\"formatter\":{\"type\":\"object\",\"name\":\"BasicTickFormatter\",\"id\":\"p6704\"},\"axis_label\":\"y\",\"major_label_policy\":{\"type\":\"object\",\"name\":\"AllLabels\",\"id\":\"p6705\"}}}],\"below\":[{\"type\":\"object\",\"name\":\"LinearAxis\",\"id\":\"p6697\",\"attributes\":{\"ticker\":{\"type\":\"object\",\"name\":\"BasicTicker\",\"id\":\"p6698\",\"attributes\":{\"mantissas\":[1,2,5]}},\"formatter\":{\"type\":\"object\",\"name\":\"BasicTickFormatter\",\"id\":\"p6699\"},\"axis_label\":\"x\",\"major_label_policy\":{\"type\":\"object\",\"name\":\"AllLabels\",\"id\":\"p6700\"}}}],\"center\":[{\"type\":\"object\",\"name\":\"Grid\",\"id\":\"p6701\",\"attributes\":{\"axis\":{\"id\":\"p6697\"}}},{\"type\":\"object\",\"name\":\"Grid\",\"id\":\"p6706\",\"attributes\":{\"dimension\":1,\"axis\":{\"id\":\"p6702\"}}},{\"type\":\"object\",\"name\":\"Legend\",\"id\":\"p6732\",\"attributes\":{\"items\":[{\"type\":\"object\",\"name\":\"LegendItem\",\"id\":\"p6733\",\"attributes\":{\"label\":{\"type\":\"value\",\"value\":\"PC2\"},\"renderers\":[{\"id\":\"p6729\"}]}},{\"type\":\"object\",\"name\":\"LegendItem\",\"id\":\"p6743\",\"attributes\":{\"label\":{\"type\":\"value\",\"value\":\"PC1\"},\"renderers\":[{\"id\":\"p6740\"}]}}]}}]}}]}};\n",
       "  const render_items = [{\"docid\":\"7691e5f9-9d83-4901-880c-a117cf8e05a5\",\"roots\":{\"p6684\":\"eff6cb25-705e-4bf2-b5e5-e863b1efee92\"},\"root_ids\":[\"p6684\"]}];\n",
       "  root.Bokeh.embed.embed_items_notebook(docs_json, render_items);\n",
       "  }\n",
       "  if (root.Bokeh !== undefined) {\n",
       "    embed_document(root);\n",
       "  } else {\n",
       "    let attempts = 0;\n",
       "    const timer = setInterval(function(root) {\n",
       "      if (root.Bokeh !== undefined) {\n",
       "        clearInterval(timer);\n",
       "        embed_document(root);\n",
       "      } else {\n",
       "        attempts++;\n",
       "        if (attempts > 100) {\n",
       "          clearInterval(timer);\n",
       "          console.log(\"Bokeh: ERROR: Unable to run BokehJS code because BokehJS library is missing\");\n",
       "        }\n",
       "      }\n",
       "    }, 10, root)\n",
       "  }\n",
       "})(window);"
      ],
      "application/vnd.bokehjs_exec.v0+json": ""
     },
     "metadata": {
      "application/vnd.bokehjs_exec.v0+json": {
       "id": "p6684"
      }
     },
     "output_type": "display_data"
    }
   ],
   "source": [
    "r = 35\n",
    "p = bokeh.plotting.figure(width = 350, height = 300,\n",
    "                         #title = 'example data with PC axes',\n",
    "                         y_range = (-r,r),\n",
    "                         x_range = (-r,r),\n",
    "                         # aspect_ratio = 1\n",
    "                          y_axis_label = 'y',\n",
    "                          x_axis_label = 'x'\n",
    "                         )\n",
    "p.circle(data_centered[:,0],data_centered[:,1], color = '#CE8964')\n",
    "#p.circle(x,y, color = 'purple')\n",
    "\n",
    "origin = np.mean(data_centered, axis=0)\n",
    "colors = ['#843B62', '#326273']\n",
    "labels = ['PC2', 'PC1']\n",
    "\n",
    "for i in range(len(evals)):\n",
    "    curr_evec = evecs[:,i]\n",
    "    curr_eval = evals[i]\n",
    "    endpt = origin + curr_evec * curr_eval * 10 \n",
    "    # arrow = Arrow(end = NormalHead(fill_color = 'black', line_width = 1, size = 10),\n",
    "    #               x_start = origin[0], y_start = origin[1],\n",
    "    #               x_end = -endpt[0], y_end = -endpt[1])\n",
    "    \n",
    "    p.line(x = (-endpt[0], origin[0], endpt[0]), y = (-endpt[1], origin[1], endpt[1]), \n",
    "           color = colors[i], legend_label = labels[i], width = 3)\n",
    "    \n",
    "    #print(endpt)\n",
    "                  \n",
    "    #p.add_layout(arrow)\n",
    "        \n",
    "\n",
    "# p.line(x = (0,-evals[0] * evecs[0,0]), y = (0, -evals[0] *evecs[1,0]) , color = 'pink', line_width = 5)\n",
    "# p.line(x = (0,-evals[1] * evecs[0,1]), y = (0, -evals[1] * evecs[1,1]) , color = 'green', line_width = 5)\n",
    "\n",
    "\n",
    "bokeh.io.show(p)"
   ]
  },
  {
   "cell_type": "markdown",
   "id": "70e09b92-a0bf-4c92-b5ab-3721f820f9de",
   "metadata": {},
   "source": [
    "check that the axes are orthogonal"
   ]
  },
  {
   "cell_type": "code",
   "execution_count": 254,
   "id": "1973528d-f598-4866-a3eb-da13d04d4b95",
   "metadata": {},
   "outputs": [
    {
     "data": {
      "text/plain": [
       "0.0"
      ]
     },
     "execution_count": 254,
     "metadata": {},
     "output_type": "execute_result"
    }
   ],
   "source": [
    "np.dot(evecs[:,0], evecs[:,1])"
   ]
  },
  {
   "cell_type": "markdown",
   "id": "e08be273-18cc-4e39-b6e6-0523ebf210a5",
   "metadata": {},
   "source": [
    "## rotated data"
   ]
  },
  {
   "cell_type": "code",
   "execution_count": 283,
   "id": "8b6a1571-9fbe-4c59-b807-1efd0e1c308d",
   "metadata": {},
   "outputs": [
    {
     "data": {
      "text/plain": [
       "array([[-0.96071   , -0.27755412],\n",
       "       [ 0.27755412, -0.96071   ]])"
      ]
     },
     "execution_count": 283,
     "metadata": {},
     "output_type": "execute_result"
    }
   ],
   "source": [
    "evecs"
   ]
  },
  {
   "cell_type": "code",
   "execution_count": 291,
   "id": "b6c2888a-2439-4143-baac-6071d499362f",
   "metadata": {},
   "outputs": [],
   "source": [
    "#data_centered"
   ]
  },
  {
   "cell_type": "code",
   "execution_count": 301,
   "id": "44386b88-827e-4d26-8803-6c9109535d65",
   "metadata": {},
   "outputs": [],
   "source": [
    "def rotate_func(x, y):\n",
    "    new_y = evecs[0,0] * x - evecs[0,1] * y\n",
    "    new_x = evecs[1,0] * x - evecs[1,1] * y\n",
    "\n",
    "    return new_x, new_y"
   ]
  },
  {
   "cell_type": "code",
   "execution_count": 302,
   "id": "80956da6-e5f4-4b2d-96ff-f2c791ad7a64",
   "metadata": {},
   "outputs": [],
   "source": [
    "newx = []\n",
    "newy = []\n",
    "\n",
    "for curr_data in data_centered:\n",
    "    new_x, new_y = rotate_func(curr_data[0], curr_data[1])\n",
    "    \n",
    "    newx.append(new_x)\n",
    "    newy.append(new_y)"
   ]
  },
  {
   "cell_type": "code",
   "execution_count": null,
   "id": "11d914a1-5da8-46c4-965d-9f5008e861eb",
   "metadata": {},
   "outputs": [],
   "source": []
  },
  {
   "cell_type": "code",
   "execution_count": 303,
   "id": "3a4a0664-fb0c-40b9-8d79-f0eecabd8937",
   "metadata": {},
   "outputs": [
    {
     "data": {
      "text/plain": [
       "array([[12.96558025],\n",
       "       [ 1.96494614]])"
      ]
     },
     "execution_count": 303,
     "metadata": {},
     "output_type": "execute_result"
    }
   ],
   "source": [
    "np.vstack((new_x, new_y))"
   ]
  },
  {
   "cell_type": "code",
   "execution_count": 304,
   "id": "ca94fe50-418d-425f-aabe-1770755d7f44",
   "metadata": {},
   "outputs": [
    {
     "data": {
      "text/plain": [
       "(-15.625899660463352, -22.30806918104473)"
      ]
     },
     "execution_count": 304,
     "metadata": {},
     "output_type": "execute_result"
    }
   ],
   "source": [
    "data_rot1[0], data_rot2[0]"
   ]
  },
  {
   "cell_type": "code",
   "execution_count": 307,
   "id": "4d4d2a3e-a946-463a-93de-9723df1098db",
   "metadata": {},
   "outputs": [
    {
     "data": {
      "text/html": [
       "\n",
       "  <div id=\"c7bd912b-bfa7-4551-b5ee-6f098da28c4d\" data-root-id=\"p7092\" style=\"display: contents;\"></div>\n"
      ]
     },
     "metadata": {},
     "output_type": "display_data"
    },
    {
     "data": {
      "application/javascript": [
       "(function(root) {\n",
       "  function embed_document(root) {\n",
       "  const docs_json = {\"c52bcb12-f7f9-42fa-8f0e-4f09a9c85aa1\":{\"version\":\"3.2.0\",\"title\":\"Bokeh Application\",\"roots\":[{\"type\":\"object\",\"name\":\"Figure\",\"id\":\"p7092\",\"attributes\":{\"width\":350,\"height\":300,\"x_range\":{\"type\":\"object\",\"name\":\"Range1d\",\"id\":\"p7101\",\"attributes\":{\"start\":-30,\"end\":30}},\"y_range\":{\"type\":\"object\",\"name\":\"Range1d\",\"id\":\"p7102\",\"attributes\":{\"start\":-30,\"end\":30}},\"x_scale\":{\"type\":\"object\",\"name\":\"LinearScale\",\"id\":\"p7103\"},\"y_scale\":{\"type\":\"object\",\"name\":\"LinearScale\",\"id\":\"p7104\"},\"title\":{\"type\":\"object\",\"name\":\"Title\",\"id\":\"p7099\"},\"renderers\":[{\"type\":\"object\",\"name\":\"GlyphRenderer\",\"id\":\"p7128\",\"attributes\":{\"data_source\":{\"type\":\"object\",\"name\":\"ColumnDataSource\",\"id\":\"p7122\",\"attributes\":{\"selected\":{\"type\":\"object\",\"name\":\"Selection\",\"id\":\"p7123\",\"attributes\":{\"indices\":[],\"line_indices\":[]}},\"selection_policy\":{\"type\":\"object\",\"name\":\"UnionRenderers\",\"id\":\"p7124\"},\"data\":{\"type\":\"map\",\"entries\":[[\"x\",[26.124862331376782,-10.255155690148841,-6.0048349287388625,21.176463538417583,0.3399609957083807,9.675259463329049,1.2265842225294548,-8.479293572394436,14.908039053529995,14.263848580865822,15.960056395529744,15.75848230031088,-3.814071374382628,16.18908889399253,-0.6485688335885326,7.924828994299656,16.361225792788474,-3.6898850422210527,6.168465530963995,1.6063713044673782,-13.63106320622474,-6.538492505669144,6.851278492713107,5.794061497402664,6.9678672021595105,-11.377649492603549,-4.5586084177770685,13.751133528152668,14.223443485115828,11.540938451928449,-6.777072222866174,5.9244775032761625,-12.406516121948242,-13.067933288080415,-8.731215589651057,5.737305966498895,11.523146398372539,4.563880108503438,-0.05344273879738015,-12.402096123667157,-20.46532910460084,-6.072041008561981,-10.202348461799616,16.489198650424086,16.3707724662016,4.374672851138557,-16.728481452591367,13.392443834262854,-22.449414452436457,-6.387590542153246,-7.213570835799561,16.13026011999057,-10.681405780094755,-15.534789045703214,-2.105150869878963,-4.1641588468927795,9.073756334868806,-8.544215280817992,-14.928159707544207,-7.110816460702381,-9.549007777428223,13.377971107866786,2.0952065517122866,-11.010373587631811,-10.576498069865572,3.733730311800373,-19.820739359287057,-11.570866848679863,3.5753871803321906,1.9826133104938446,11.396731248656398,2.4750114247244235,13.38347986802406,-14.353630478093297,-7.530847649221233,0.5740465002858595,-13.417384380270994,-10.625366917742618,-6.947040044558436,-0.5805374653241255,-11.353992372646104,-7.390466318253629,-3.7613170256149986,-29.815194788355228,13.540834725236312,-3.1933643816709485,-3.3301335991344874,-1.7423394527489275,-14.103329622635124,18.79054799878384,-14.754149579413214,8.79816859177546,-0.12956413833944586,-5.13251333396381,5.651425990580959,1.8119577893425691,5.658804398920582,17.097828161898065,18.410528492134148,12.965580247528099]],[\"y\",[-1.322104062499692,-4.734109780323072,-6.517384495511027,-5.233432868393944,-9.310189605811875,8.192729876431049,-4.279083689387691,-1.3507059367689591,5.1554807414826325,2.2952164868806455,4.172540658077821,-2.7047660906463973,-4.751443965339192,4.355126126093028,-2.1861842019695112,0.8641914181183474,-2.7377978005302293,0.3129858297849486,0.46401573893094206,5.220486636012388,9.660179890634135,-4.979482236244516,-2.208304655403693,5.84779045226023,-9.488579051985703,4.5934308895873945,-1.24388528222854,5.258239223316441,-3.5568284958720247,-4.001747448465116,-2.4530829538576397,0.05474138036525811,1.347429716734673,6.844899838727365,-0.4005204405447833,1.1550916598988443,-2.76266158239444,-4.627968313769171,2.311666269562417,-1.6984303058935049,-0.14409281736919155,5.94748651050714,6.244014531120796,-5.077694549975706,7.6933478566744125,3.855086363957325,1.9984782072165457,0.13398028355111657,2.2250230947836274,-0.4269348306828278,2.8876732818078885,2.957757962307341,-0.11616654927531878,1.96777004393913,-0.1502452011807635,-3.1210237066195923,2.5865374210599463,-3.7314085488134965,-0.7002337974621637,0.14479867495417653,1.0523216223829026,6.047524011084744,5.148592878929748,6.114726150844188,-3.6677469594169922,3.4810264866356624,3.0692966872596275,-5.440156640574323,6.066237779359607,0.6137081733631906,-0.19069549928958862,0.3550240224534602,-1.7521660253964408,2.5910628164983844,-3.9584118689124885,4.041198157654957,0.9669677296591583,0.254160033264605,-0.0742959009152584,-0.14876205657988845,3.095046329127025,-6.512211455504886,-3.1989269660005313,-0.30713899296378244,-3.5222975425161707,-10.47843488605908,-6.785762645781677,0.7443149003057811,1.8094596708386899,0.2520795744023001,-1.8529526210272889,-3.5090894837912767,-0.8101257077811839,-6.254442311719639,0.08929295257333036,-2.8425949649794098,1.891480690238191,-4.043613373124229,4.969655295628317,1.9649461402720088]]]}}},\"view\":{\"type\":\"object\",\"name\":\"CDSView\",\"id\":\"p7129\",\"attributes\":{\"filter\":{\"type\":\"object\",\"name\":\"AllIndices\",\"id\":\"p7130\"}}},\"glyph\":{\"type\":\"object\",\"name\":\"Circle\",\"id\":\"p7125\",\"attributes\":{\"x\":{\"type\":\"field\",\"field\":\"x\"},\"y\":{\"type\":\"field\",\"field\":\"y\"},\"line_color\":{\"type\":\"value\",\"value\":\"#CE8964\"},\"fill_color\":{\"type\":\"value\",\"value\":\"#CE8964\"},\"hatch_color\":{\"type\":\"value\",\"value\":\"#CE8964\"}}},\"nonselection_glyph\":{\"type\":\"object\",\"name\":\"Circle\",\"id\":\"p7126\",\"attributes\":{\"x\":{\"type\":\"field\",\"field\":\"x\"},\"y\":{\"type\":\"field\",\"field\":\"y\"},\"line_color\":{\"type\":\"value\",\"value\":\"#CE8964\"},\"line_alpha\":{\"type\":\"value\",\"value\":0.1},\"fill_color\":{\"type\":\"value\",\"value\":\"#CE8964\"},\"fill_alpha\":{\"type\":\"value\",\"value\":0.1},\"hatch_color\":{\"type\":\"value\",\"value\":\"#CE8964\"},\"hatch_alpha\":{\"type\":\"value\",\"value\":0.1}}},\"muted_glyph\":{\"type\":\"object\",\"name\":\"Circle\",\"id\":\"p7127\",\"attributes\":{\"x\":{\"type\":\"field\",\"field\":\"x\"},\"y\":{\"type\":\"field\",\"field\":\"y\"},\"line_color\":{\"type\":\"value\",\"value\":\"#CE8964\"},\"line_alpha\":{\"type\":\"value\",\"value\":0.2},\"fill_color\":{\"type\":\"value\",\"value\":\"#CE8964\"},\"fill_alpha\":{\"type\":\"value\",\"value\":0.2},\"hatch_color\":{\"type\":\"value\",\"value\":\"#CE8964\"},\"hatch_alpha\":{\"type\":\"value\",\"value\":0.2}}}}}],\"toolbar\":{\"type\":\"object\",\"name\":\"Toolbar\",\"id\":\"p7100\",\"attributes\":{\"tools\":[{\"type\":\"object\",\"name\":\"PanTool\",\"id\":\"p7115\"},{\"type\":\"object\",\"name\":\"WheelZoomTool\",\"id\":\"p7116\"},{\"type\":\"object\",\"name\":\"BoxZoomTool\",\"id\":\"p7117\",\"attributes\":{\"overlay\":{\"type\":\"object\",\"name\":\"BoxAnnotation\",\"id\":\"p7118\",\"attributes\":{\"syncable\":false,\"level\":\"overlay\",\"visible\":false,\"left_units\":\"canvas\",\"right_units\":\"canvas\",\"bottom_units\":\"canvas\",\"top_units\":\"canvas\",\"line_color\":\"black\",\"line_alpha\":1.0,\"line_width\":2,\"line_dash\":[4,4],\"fill_color\":\"lightgrey\",\"fill_alpha\":0.5}}}},{\"type\":\"object\",\"name\":\"SaveTool\",\"id\":\"p7119\"},{\"type\":\"object\",\"name\":\"ResetTool\",\"id\":\"p7120\"},{\"type\":\"object\",\"name\":\"HelpTool\",\"id\":\"p7121\"}]}},\"left\":[{\"type\":\"object\",\"name\":\"LinearAxis\",\"id\":\"p7110\",\"attributes\":{\"ticker\":{\"type\":\"object\",\"name\":\"BasicTicker\",\"id\":\"p7111\",\"attributes\":{\"mantissas\":[1,2,5]}},\"formatter\":{\"type\":\"object\",\"name\":\"BasicTickFormatter\",\"id\":\"p7112\"},\"axis_label\":\"PC2\",\"major_label_policy\":{\"type\":\"object\",\"name\":\"AllLabels\",\"id\":\"p7113\"}}}],\"below\":[{\"type\":\"object\",\"name\":\"LinearAxis\",\"id\":\"p7105\",\"attributes\":{\"ticker\":{\"type\":\"object\",\"name\":\"BasicTicker\",\"id\":\"p7106\",\"attributes\":{\"mantissas\":[1,2,5]}},\"formatter\":{\"type\":\"object\",\"name\":\"BasicTickFormatter\",\"id\":\"p7107\"},\"axis_label\":\"PC1\",\"major_label_policy\":{\"type\":\"object\",\"name\":\"AllLabels\",\"id\":\"p7108\"}}}],\"center\":[{\"type\":\"object\",\"name\":\"Grid\",\"id\":\"p7109\",\"attributes\":{\"axis\":{\"id\":\"p7105\"}}},{\"type\":\"object\",\"name\":\"Grid\",\"id\":\"p7114\",\"attributes\":{\"dimension\":1,\"axis\":{\"id\":\"p7110\"}}}]}}]}};\n",
       "  const render_items = [{\"docid\":\"c52bcb12-f7f9-42fa-8f0e-4f09a9c85aa1\",\"roots\":{\"p7092\":\"c7bd912b-bfa7-4551-b5ee-6f098da28c4d\"},\"root_ids\":[\"p7092\"]}];\n",
       "  root.Bokeh.embed.embed_items_notebook(docs_json, render_items);\n",
       "  }\n",
       "  if (root.Bokeh !== undefined) {\n",
       "    embed_document(root);\n",
       "  } else {\n",
       "    let attempts = 0;\n",
       "    const timer = setInterval(function(root) {\n",
       "      if (root.Bokeh !== undefined) {\n",
       "        clearInterval(timer);\n",
       "        embed_document(root);\n",
       "      } else {\n",
       "        attempts++;\n",
       "        if (attempts > 100) {\n",
       "          clearInterval(timer);\n",
       "          console.log(\"Bokeh: ERROR: Unable to run BokehJS code because BokehJS library is missing\");\n",
       "        }\n",
       "      }\n",
       "    }, 10, root)\n",
       "  }\n",
       "})(window);"
      ],
      "application/vnd.bokehjs_exec.v0+json": ""
     },
     "metadata": {
      "application/vnd.bokehjs_exec.v0+json": {
       "id": "p7092"
      }
     },
     "output_type": "display_data"
    }
   ],
   "source": [
    "r = 30\n",
    "p1 = bokeh.plotting.figure(width = 350, height = 300,\n",
    "                         #title = 'example data with PC axes',\n",
    "                         y_range = (-r,r),\n",
    "                         x_range = (-r,r),\n",
    "                         # aspect_ratio = 1\n",
    "                          y_axis_label = 'PC2',\n",
    "                          x_axis_label = 'PC1'\n",
    "                         )\n",
    "p1.circle(newx, newy, color = '#CE8964')\n",
    "bokeh.io.show(p1)"
   ]
  },
  {
   "cell_type": "code",
   "execution_count": null,
   "id": "f0610d06-e3fb-4c16-b6b3-de0ac7cee372",
   "metadata": {},
   "outputs": [],
   "source": []
  }
 ],
 "metadata": {
  "kernelspec": {
   "display_name": "Python 3 (ipykernel)",
   "language": "python",
   "name": "python3"
  },
  "language_info": {
   "codemirror_mode": {
    "name": "ipython",
    "version": 3
   },
   "file_extension": ".py",
   "mimetype": "text/x-python",
   "name": "python",
   "nbconvert_exporter": "python",
   "pygments_lexer": "ipython3",
   "version": "3.9.13"
  }
 },
 "nbformat": 4,
 "nbformat_minor": 5
}
