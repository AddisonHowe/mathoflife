{
 "cells": [
  {
   "cell_type": "markdown",
   "id": "1f19dab4-2850-4272-a6c3-479d98555a98",
   "metadata": {},
   "source": [
    "# PCA coding exercise 1 solution: visualizing PCA"
   ]
  },
  {
   "cell_type": "markdown",
   "id": "76bc6eb0-552f-4834-9f89-5902a158ac01",
   "metadata": {},
   "source": [
    "1. Compute the covariance matrix\n",
    "2. Plot the PCs over the data. Show that the PCs are orthogonal.\n",
    "3. Rotate the data such that PC1 is the x-axis\n",
    "4. How much of the variance is explained by each PC?\n",
    "5. Make an $L$ vs $M$ plot with lines for every eigenvalue calculated and the $(M,L)$ coordinate. What does this plot tell you?"
   ]
  },
  {
   "cell_type": "code",
   "execution_count": 1,
   "id": "72a51f9b-e61c-4495-9783-76b83589fd35",
   "metadata": {},
   "outputs": [],
   "source": [
    "import numpy as np"
   ]
  },
  {
   "cell_type": "markdown",
   "id": "738f4320-ff7f-46f5-80b9-a18640babefc",
   "metadata": {},
   "source": [
    "## Your dataset"
   ]
  },
  {
   "cell_type": "code",
   "execution_count": 2,
   "id": "1cca0362-d2a1-4066-959e-e4b48a4c36ae",
   "metadata": {},
   "outputs": [],
   "source": [
    "np.random.seed(0)\n",
    "\n",
    "x = np.random.normal(0,10,150)\n",
    "y = x + np.random.normal(0,5,150)"
   ]
  },
  {
   "cell_type": "code",
   "execution_count": null,
   "id": "ac867ef2-e88a-47f0-b0be-a68f4294dc80",
   "metadata": {},
   "outputs": [],
   "source": []
  },
  {
   "cell_type": "code",
   "execution_count": null,
   "id": "996d1e5d-e3b5-4187-8dfb-ed460afd5a4c",
   "metadata": {},
   "outputs": [],
   "source": []
  },
  {
   "cell_type": "code",
   "execution_count": null,
   "id": "1f321fa1-be03-49cd-a507-c3b656932bec",
   "metadata": {},
   "outputs": [],
   "source": []
  }
 ],
 "metadata": {
  "kernelspec": {
   "display_name": "Python 3 (ipykernel)",
   "language": "python",
   "name": "python3"
  },
  "language_info": {
   "codemirror_mode": {
    "name": "ipython",
    "version": 3
   },
   "file_extension": ".py",
   "mimetype": "text/x-python",
   "name": "python",
   "nbconvert_exporter": "python",
   "pygments_lexer": "ipython3",
   "version": "3.9.13"
  }
 },
 "nbformat": 4,
 "nbformat_minor": 5
}
