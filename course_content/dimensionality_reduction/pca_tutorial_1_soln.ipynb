{
 "cells": [
  {
   "cell_type": "markdown",
   "id": "115a195e-463e-42d6-a832-ff249e663798",
   "metadata": {},
   "source": [
    "# PCA coding exercise 1 solution: visualizing PCA"
   ]
  },
  {
   "cell_type": "code",
   "execution_count": 1,
   "id": "9c07d21b-15a7-4e35-8b87-809833a426b4",
   "metadata": {},
   "outputs": [
    {
     "data": {
      "text/html": [
       "<style>\n",
       "        .bk-notebook-logo {\n",
       "            display: block;\n",
       "            width: 20px;\n",
       "            height: 20px;\n",
       "            background-image: url(data:image/png;base64,iVBORw0KGgoAAAANSUhEUgAAABQAAAAUCAYAAACNiR0NAAAABHNCSVQICAgIfAhkiAAAAAlwSFlzAAALEgAACxIB0t1+/AAAABx0RVh0U29mdHdhcmUAQWRvYmUgRmlyZXdvcmtzIENTNui8sowAAAOkSURBVDiNjZRtaJVlGMd/1/08zzln5zjP1LWcU9N0NkN8m2CYjpgQYQXqSs0I84OLIC0hkEKoPtiH3gmKoiJDU7QpLgoLjLIQCpEsNJ1vqUOdO7ppbuec5+V+rj4ctwzd8IIbbi6u+8f1539dt3A78eXC7QizUF7gyV1fD1Yqg4JWz84yffhm0qkFqBogB9rM8tZdtwVsPUhWhGcFJngGeWrPzHm5oaMmkfEg1usvLFyc8jLRqDOMru7AyC8saQr7GG7f5fvDeH7Ej8CM66nIF+8yngt6HWaKh7k49Soy9nXurCi1o3qUbS3zWfrYeQDTB/Qj6kX6Ybhw4B+bOYoLKCC9H3Nu/leUTZ1JdRWkkn2ldcCamzrcf47KKXdAJllSlxAOkRgyHsGC/zRday5Qld9DyoM4/q/rUoy/CXh3jzOu3bHUVZeU+DEn8FInkPBFlu3+nW3Nw0mk6vCDiWg8CeJaxEwuHS3+z5RgY+YBR6V1Z1nxSOfoaPa4LASWxxdNp+VWTk7+4vzaou8v8PN+xo+KY2xsw6une2frhw05CTYOmQvsEhjhWjn0bmXPjpE1+kplmmkP3suftwTubK9Vq22qKmrBhpY4jvd5afdRA3wGjFAgcnTK2s4hY0/GPNIb0nErGMCRxWOOX64Z8RAC4oCXdklmEvcL8o0BfkNK4lUg9HTl+oPlQxdNo3Mg4Nv175e/1LDGzZen30MEjRUtmXSfiTVu1kK8W4txyV6BMKlbgk3lMwYCiusNy9fVfvvwMxv8Ynl6vxoByANLTWplvuj/nF9m2+PDtt1eiHPBr1oIfhCChQMBw6Aw0UulqTKZdfVvfG7VcfIqLG9bcldL/+pdWTLxLUy8Qq38heUIjh4XlzZxzQm19lLFlr8vdQ97rjZVOLf8nclzckbcD4wxXMidpX30sFd37Fv/GtwwhzhxGVAprjbg0gCAEeIgwCZyTV2Z1REEW8O4py0wsjeloKoMr6iCY6dP92H6Vw/oTyICIthibxjm/DfN9lVz8IqtqKYLUXfoKVMVQVVJOElGjrnnUt9T9wbgp8AyYKaGlqingHZU/uG2NTZSVqwHQTWkx9hxjkpWDaCg6Ckj5qebgBVbT3V3NNXMSiWSDdGV3hrtzla7J+duwPOToIg42ChPQOQjspnSlp1V+Gjdged7+8UN5CRAV7a5EdFNwCjEaBR27b3W890TE7g24NAP/mMDXRWrGoFPQI9ls/MWO2dWFAar/xcOIImbbpA3zgAAAABJRU5ErkJggg==);\n",
       "        }\n",
       "    </style>\n",
       "    <div>\n",
       "        <a href=\"https://bokeh.org\" target=\"_blank\" class=\"bk-notebook-logo\"></a>\n",
       "        <span id=\"ee1bc54a-643f-4a33-9244-b213232710f2\">Loading BokehJS ...</span>\n",
       "    </div>\n"
      ]
     },
     "metadata": {},
     "output_type": "display_data"
    },
    {
     "data": {
      "application/javascript": [
       "(function(root) {\n",
       "  function now() {\n",
       "    return new Date();\n",
       "  }\n",
       "\n",
       "  const force = true;\n",
       "\n",
       "  if (typeof root._bokeh_onload_callbacks === \"undefined\" || force === true) {\n",
       "    root._bokeh_onload_callbacks = [];\n",
       "    root._bokeh_is_loading = undefined;\n",
       "  }\n",
       "\n",
       "const JS_MIME_TYPE = 'application/javascript';\n",
       "  const HTML_MIME_TYPE = 'text/html';\n",
       "  const EXEC_MIME_TYPE = 'application/vnd.bokehjs_exec.v0+json';\n",
       "  const CLASS_NAME = 'output_bokeh rendered_html';\n",
       "\n",
       "  /**\n",
       "   * Render data to the DOM node\n",
       "   */\n",
       "  function render(props, node) {\n",
       "    const script = document.createElement(\"script\");\n",
       "    node.appendChild(script);\n",
       "  }\n",
       "\n",
       "  /**\n",
       "   * Handle when an output is cleared or removed\n",
       "   */\n",
       "  function handleClearOutput(event, handle) {\n",
       "    const cell = handle.cell;\n",
       "\n",
       "    const id = cell.output_area._bokeh_element_id;\n",
       "    const server_id = cell.output_area._bokeh_server_id;\n",
       "    // Clean up Bokeh references\n",
       "    if (id != null && id in Bokeh.index) {\n",
       "      Bokeh.index[id].model.document.clear();\n",
       "      delete Bokeh.index[id];\n",
       "    }\n",
       "\n",
       "    if (server_id !== undefined) {\n",
       "      // Clean up Bokeh references\n",
       "      const cmd_clean = \"from bokeh.io.state import curstate; print(curstate().uuid_to_server['\" + server_id + \"'].get_sessions()[0].document.roots[0]._id)\";\n",
       "      cell.notebook.kernel.execute(cmd_clean, {\n",
       "        iopub: {\n",
       "          output: function(msg) {\n",
       "            const id = msg.content.text.trim();\n",
       "            if (id in Bokeh.index) {\n",
       "              Bokeh.index[id].model.document.clear();\n",
       "              delete Bokeh.index[id];\n",
       "            }\n",
       "          }\n",
       "        }\n",
       "      });\n",
       "      // Destroy server and session\n",
       "      const cmd_destroy = \"import bokeh.io.notebook as ion; ion.destroy_server('\" + server_id + \"')\";\n",
       "      cell.notebook.kernel.execute(cmd_destroy);\n",
       "    }\n",
       "  }\n",
       "\n",
       "  /**\n",
       "   * Handle when a new output is added\n",
       "   */\n",
       "  function handleAddOutput(event, handle) {\n",
       "    const output_area = handle.output_area;\n",
       "    const output = handle.output;\n",
       "\n",
       "    // limit handleAddOutput to display_data with EXEC_MIME_TYPE content only\n",
       "    if ((output.output_type != \"display_data\") || (!Object.prototype.hasOwnProperty.call(output.data, EXEC_MIME_TYPE))) {\n",
       "      return\n",
       "    }\n",
       "\n",
       "    const toinsert = output_area.element.find(\".\" + CLASS_NAME.split(' ')[0]);\n",
       "\n",
       "    if (output.metadata[EXEC_MIME_TYPE][\"id\"] !== undefined) {\n",
       "      toinsert[toinsert.length - 1].firstChild.textContent = output.data[JS_MIME_TYPE];\n",
       "      // store reference to embed id on output_area\n",
       "      output_area._bokeh_element_id = output.metadata[EXEC_MIME_TYPE][\"id\"];\n",
       "    }\n",
       "    if (output.metadata[EXEC_MIME_TYPE][\"server_id\"] !== undefined) {\n",
       "      const bk_div = document.createElement(\"div\");\n",
       "      bk_div.innerHTML = output.data[HTML_MIME_TYPE];\n",
       "      const script_attrs = bk_div.children[0].attributes;\n",
       "      for (let i = 0; i < script_attrs.length; i++) {\n",
       "        toinsert[toinsert.length - 1].firstChild.setAttribute(script_attrs[i].name, script_attrs[i].value);\n",
       "        toinsert[toinsert.length - 1].firstChild.textContent = bk_div.children[0].textContent\n",
       "      }\n",
       "      // store reference to server id on output_area\n",
       "      output_area._bokeh_server_id = output.metadata[EXEC_MIME_TYPE][\"server_id\"];\n",
       "    }\n",
       "  }\n",
       "\n",
       "  function register_renderer(events, OutputArea) {\n",
       "\n",
       "    function append_mime(data, metadata, element) {\n",
       "      // create a DOM node to render to\n",
       "      const toinsert = this.create_output_subarea(\n",
       "        metadata,\n",
       "        CLASS_NAME,\n",
       "        EXEC_MIME_TYPE\n",
       "      );\n",
       "      this.keyboard_manager.register_events(toinsert);\n",
       "      // Render to node\n",
       "      const props = {data: data, metadata: metadata[EXEC_MIME_TYPE]};\n",
       "      render(props, toinsert[toinsert.length - 1]);\n",
       "      element.append(toinsert);\n",
       "      return toinsert\n",
       "    }\n",
       "\n",
       "    /* Handle when an output is cleared or removed */\n",
       "    events.on('clear_output.CodeCell', handleClearOutput);\n",
       "    events.on('delete.Cell', handleClearOutput);\n",
       "\n",
       "    /* Handle when a new output is added */\n",
       "    events.on('output_added.OutputArea', handleAddOutput);\n",
       "\n",
       "    /**\n",
       "     * Register the mime type and append_mime function with output_area\n",
       "     */\n",
       "    OutputArea.prototype.register_mime_type(EXEC_MIME_TYPE, append_mime, {\n",
       "      /* Is output safe? */\n",
       "      safe: true,\n",
       "      /* Index of renderer in `output_area.display_order` */\n",
       "      index: 0\n",
       "    });\n",
       "  }\n",
       "\n",
       "  // register the mime type if in Jupyter Notebook environment and previously unregistered\n",
       "  if (root.Jupyter !== undefined) {\n",
       "    const events = require('base/js/events');\n",
       "    const OutputArea = require('notebook/js/outputarea').OutputArea;\n",
       "\n",
       "    if (OutputArea.prototype.mime_types().indexOf(EXEC_MIME_TYPE) == -1) {\n",
       "      register_renderer(events, OutputArea);\n",
       "    }\n",
       "  }\n",
       "  if (typeof (root._bokeh_timeout) === \"undefined\" || force === true) {\n",
       "    root._bokeh_timeout = Date.now() + 5000;\n",
       "    root._bokeh_failed_load = false;\n",
       "  }\n",
       "\n",
       "  const NB_LOAD_WARNING = {'data': {'text/html':\n",
       "     \"<div style='background-color: #fdd'>\\n\"+\n",
       "     \"<p>\\n\"+\n",
       "     \"BokehJS does not appear to have successfully loaded. If loading BokehJS from CDN, this \\n\"+\n",
       "     \"may be due to a slow or bad network connection. Possible fixes:\\n\"+\n",
       "     \"</p>\\n\"+\n",
       "     \"<ul>\\n\"+\n",
       "     \"<li>re-rerun `output_notebook()` to attempt to load from CDN again, or</li>\\n\"+\n",
       "     \"<li>use INLINE resources instead, as so:</li>\\n\"+\n",
       "     \"</ul>\\n\"+\n",
       "     \"<code>\\n\"+\n",
       "     \"from bokeh.resources import INLINE\\n\"+\n",
       "     \"output_notebook(resources=INLINE)\\n\"+\n",
       "     \"</code>\\n\"+\n",
       "     \"</div>\"}};\n",
       "\n",
       "  function display_loaded() {\n",
       "    const el = document.getElementById(\"ee1bc54a-643f-4a33-9244-b213232710f2\");\n",
       "    if (el != null) {\n",
       "      el.textContent = \"BokehJS is loading...\";\n",
       "    }\n",
       "    if (root.Bokeh !== undefined) {\n",
       "      if (el != null) {\n",
       "        el.textContent = \"BokehJS \" + root.Bokeh.version + \" successfully loaded.\";\n",
       "      }\n",
       "    } else if (Date.now() < root._bokeh_timeout) {\n",
       "      setTimeout(display_loaded, 100)\n",
       "    }\n",
       "  }\n",
       "\n",
       "  function run_callbacks() {\n",
       "    try {\n",
       "      root._bokeh_onload_callbacks.forEach(function(callback) {\n",
       "        if (callback != null)\n",
       "          callback();\n",
       "      });\n",
       "    } finally {\n",
       "      delete root._bokeh_onload_callbacks\n",
       "    }\n",
       "    console.debug(\"Bokeh: all callbacks have finished\");\n",
       "  }\n",
       "\n",
       "  function load_libs(css_urls, js_urls, callback) {\n",
       "    if (css_urls == null) css_urls = [];\n",
       "    if (js_urls == null) js_urls = [];\n",
       "\n",
       "    root._bokeh_onload_callbacks.push(callback);\n",
       "    if (root._bokeh_is_loading > 0) {\n",
       "      console.debug(\"Bokeh: BokehJS is being loaded, scheduling callback at\", now());\n",
       "      return null;\n",
       "    }\n",
       "    if (js_urls == null || js_urls.length === 0) {\n",
       "      run_callbacks();\n",
       "      return null;\n",
       "    }\n",
       "    console.debug(\"Bokeh: BokehJS not loaded, scheduling load and callback at\", now());\n",
       "    root._bokeh_is_loading = css_urls.length + js_urls.length;\n",
       "\n",
       "    function on_load() {\n",
       "      root._bokeh_is_loading--;\n",
       "      if (root._bokeh_is_loading === 0) {\n",
       "        console.debug(\"Bokeh: all BokehJS libraries/stylesheets loaded\");\n",
       "        run_callbacks()\n",
       "      }\n",
       "    }\n",
       "\n",
       "    function on_error(url) {\n",
       "      console.error(\"failed to load \" + url);\n",
       "    }\n",
       "\n",
       "    for (let i = 0; i < css_urls.length; i++) {\n",
       "      const url = css_urls[i];\n",
       "      const element = document.createElement(\"link\");\n",
       "      element.onload = on_load;\n",
       "      element.onerror = on_error.bind(null, url);\n",
       "      element.rel = \"stylesheet\";\n",
       "      element.type = \"text/css\";\n",
       "      element.href = url;\n",
       "      console.debug(\"Bokeh: injecting link tag for BokehJS stylesheet: \", url);\n",
       "      document.body.appendChild(element);\n",
       "    }\n",
       "\n",
       "    for (let i = 0; i < js_urls.length; i++) {\n",
       "      const url = js_urls[i];\n",
       "      const element = document.createElement('script');\n",
       "      element.onload = on_load;\n",
       "      element.onerror = on_error.bind(null, url);\n",
       "      element.async = false;\n",
       "      element.src = url;\n",
       "      console.debug(\"Bokeh: injecting script tag for BokehJS library: \", url);\n",
       "      document.head.appendChild(element);\n",
       "    }\n",
       "  };\n",
       "\n",
       "  function inject_raw_css(css) {\n",
       "    const element = document.createElement(\"style\");\n",
       "    element.appendChild(document.createTextNode(css));\n",
       "    document.body.appendChild(element);\n",
       "  }\n",
       "\n",
       "  const js_urls = [\"https://cdn.bokeh.org/bokeh/release/bokeh-3.2.0.min.js\", \"https://cdn.bokeh.org/bokeh/release/bokeh-gl-3.2.0.min.js\", \"https://cdn.bokeh.org/bokeh/release/bokeh-widgets-3.2.0.min.js\", \"https://cdn.bokeh.org/bokeh/release/bokeh-tables-3.2.0.min.js\", \"https://cdn.bokeh.org/bokeh/release/bokeh-mathjax-3.2.0.min.js\"];\n",
       "  const css_urls = [];\n",
       "\n",
       "  const inline_js = [    function(Bokeh) {\n",
       "      Bokeh.set_log_level(\"info\");\n",
       "    },\n",
       "function(Bokeh) {\n",
       "    }\n",
       "  ];\n",
       "\n",
       "  function run_inline_js() {\n",
       "    if (root.Bokeh !== undefined || force === true) {\n",
       "          for (let i = 0; i < inline_js.length; i++) {\n",
       "      inline_js[i].call(root, root.Bokeh);\n",
       "    }\n",
       "if (force === true) {\n",
       "        display_loaded();\n",
       "      }} else if (Date.now() < root._bokeh_timeout) {\n",
       "      setTimeout(run_inline_js, 100);\n",
       "    } else if (!root._bokeh_failed_load) {\n",
       "      console.log(\"Bokeh: BokehJS failed to load within specified timeout.\");\n",
       "      root._bokeh_failed_load = true;\n",
       "    } else if (force !== true) {\n",
       "      const cell = $(document.getElementById(\"ee1bc54a-643f-4a33-9244-b213232710f2\")).parents('.cell').data().cell;\n",
       "      cell.output_area.append_execute_result(NB_LOAD_WARNING)\n",
       "    }\n",
       "  }\n",
       "\n",
       "  if (root._bokeh_is_loading === 0) {\n",
       "    console.debug(\"Bokeh: BokehJS loaded, going straight to plotting\");\n",
       "    run_inline_js();\n",
       "  } else {\n",
       "    load_libs(css_urls, js_urls, function() {\n",
       "      console.debug(\"Bokeh: BokehJS plotting callback run at\", now());\n",
       "      run_inline_js();\n",
       "    });\n",
       "  }\n",
       "}(window));"
      ],
      "application/vnd.bokehjs_load.v0+json": "(function(root) {\n  function now() {\n    return new Date();\n  }\n\n  const force = true;\n\n  if (typeof root._bokeh_onload_callbacks === \"undefined\" || force === true) {\n    root._bokeh_onload_callbacks = [];\n    root._bokeh_is_loading = undefined;\n  }\n\n\n  if (typeof (root._bokeh_timeout) === \"undefined\" || force === true) {\n    root._bokeh_timeout = Date.now() + 5000;\n    root._bokeh_failed_load = false;\n  }\n\n  const NB_LOAD_WARNING = {'data': {'text/html':\n     \"<div style='background-color: #fdd'>\\n\"+\n     \"<p>\\n\"+\n     \"BokehJS does not appear to have successfully loaded. If loading BokehJS from CDN, this \\n\"+\n     \"may be due to a slow or bad network connection. Possible fixes:\\n\"+\n     \"</p>\\n\"+\n     \"<ul>\\n\"+\n     \"<li>re-rerun `output_notebook()` to attempt to load from CDN again, or</li>\\n\"+\n     \"<li>use INLINE resources instead, as so:</li>\\n\"+\n     \"</ul>\\n\"+\n     \"<code>\\n\"+\n     \"from bokeh.resources import INLINE\\n\"+\n     \"output_notebook(resources=INLINE)\\n\"+\n     \"</code>\\n\"+\n     \"</div>\"}};\n\n  function display_loaded() {\n    const el = document.getElementById(\"ee1bc54a-643f-4a33-9244-b213232710f2\");\n    if (el != null) {\n      el.textContent = \"BokehJS is loading...\";\n    }\n    if (root.Bokeh !== undefined) {\n      if (el != null) {\n        el.textContent = \"BokehJS \" + root.Bokeh.version + \" successfully loaded.\";\n      }\n    } else if (Date.now() < root._bokeh_timeout) {\n      setTimeout(display_loaded, 100)\n    }\n  }\n\n  function run_callbacks() {\n    try {\n      root._bokeh_onload_callbacks.forEach(function(callback) {\n        if (callback != null)\n          callback();\n      });\n    } finally {\n      delete root._bokeh_onload_callbacks\n    }\n    console.debug(\"Bokeh: all callbacks have finished\");\n  }\n\n  function load_libs(css_urls, js_urls, callback) {\n    if (css_urls == null) css_urls = [];\n    if (js_urls == null) js_urls = [];\n\n    root._bokeh_onload_callbacks.push(callback);\n    if (root._bokeh_is_loading > 0) {\n      console.debug(\"Bokeh: BokehJS is being loaded, scheduling callback at\", now());\n      return null;\n    }\n    if (js_urls == null || js_urls.length === 0) {\n      run_callbacks();\n      return null;\n    }\n    console.debug(\"Bokeh: BokehJS not loaded, scheduling load and callback at\", now());\n    root._bokeh_is_loading = css_urls.length + js_urls.length;\n\n    function on_load() {\n      root._bokeh_is_loading--;\n      if (root._bokeh_is_loading === 0) {\n        console.debug(\"Bokeh: all BokehJS libraries/stylesheets loaded\");\n        run_callbacks()\n      }\n    }\n\n    function on_error(url) {\n      console.error(\"failed to load \" + url);\n    }\n\n    for (let i = 0; i < css_urls.length; i++) {\n      const url = css_urls[i];\n      const element = document.createElement(\"link\");\n      element.onload = on_load;\n      element.onerror = on_error.bind(null, url);\n      element.rel = \"stylesheet\";\n      element.type = \"text/css\";\n      element.href = url;\n      console.debug(\"Bokeh: injecting link tag for BokehJS stylesheet: \", url);\n      document.body.appendChild(element);\n    }\n\n    for (let i = 0; i < js_urls.length; i++) {\n      const url = js_urls[i];\n      const element = document.createElement('script');\n      element.onload = on_load;\n      element.onerror = on_error.bind(null, url);\n      element.async = false;\n      element.src = url;\n      console.debug(\"Bokeh: injecting script tag for BokehJS library: \", url);\n      document.head.appendChild(element);\n    }\n  };\n\n  function inject_raw_css(css) {\n    const element = document.createElement(\"style\");\n    element.appendChild(document.createTextNode(css));\n    document.body.appendChild(element);\n  }\n\n  const js_urls = [\"https://cdn.bokeh.org/bokeh/release/bokeh-3.2.0.min.js\", \"https://cdn.bokeh.org/bokeh/release/bokeh-gl-3.2.0.min.js\", \"https://cdn.bokeh.org/bokeh/release/bokeh-widgets-3.2.0.min.js\", \"https://cdn.bokeh.org/bokeh/release/bokeh-tables-3.2.0.min.js\", \"https://cdn.bokeh.org/bokeh/release/bokeh-mathjax-3.2.0.min.js\"];\n  const css_urls = [];\n\n  const inline_js = [    function(Bokeh) {\n      Bokeh.set_log_level(\"info\");\n    },\nfunction(Bokeh) {\n    }\n  ];\n\n  function run_inline_js() {\n    if (root.Bokeh !== undefined || force === true) {\n          for (let i = 0; i < inline_js.length; i++) {\n      inline_js[i].call(root, root.Bokeh);\n    }\nif (force === true) {\n        display_loaded();\n      }} else if (Date.now() < root._bokeh_timeout) {\n      setTimeout(run_inline_js, 100);\n    } else if (!root._bokeh_failed_load) {\n      console.log(\"Bokeh: BokehJS failed to load within specified timeout.\");\n      root._bokeh_failed_load = true;\n    } else if (force !== true) {\n      const cell = $(document.getElementById(\"ee1bc54a-643f-4a33-9244-b213232710f2\")).parents('.cell').data().cell;\n      cell.output_area.append_execute_result(NB_LOAD_WARNING)\n    }\n  }\n\n  if (root._bokeh_is_loading === 0) {\n    console.debug(\"Bokeh: BokehJS loaded, going straight to plotting\");\n    run_inline_js();\n  } else {\n    load_libs(css_urls, js_urls, function() {\n      console.debug(\"Bokeh: BokehJS plotting callback run at\", now());\n      run_inline_js();\n    });\n  }\n}(window));"
     },
     "metadata": {},
     "output_type": "display_data"
    }
   ],
   "source": [
    "import numpy as np\n",
    "\n",
    "import bokeh.io\n",
    "import bokeh.plotting\n",
    "bokeh.io.output_notebook()"
   ]
  },
  {
   "cell_type": "markdown",
   "id": "7a44fb3c-b18b-4117-a6e8-99998492f884",
   "metadata": {},
   "source": [
    "# Your dataset"
   ]
  },
  {
   "cell_type": "code",
   "execution_count": 2,
   "id": "4369c68d-c586-4f6f-b201-eaef68bb0fb1",
   "metadata": {},
   "outputs": [],
   "source": [
    "np.random.seed(0)\n",
    "\n",
    "x = np.random.normal(0,10,150)\n",
    "y = x + np.random.normal(0,5,150)"
   ]
  },
  {
   "cell_type": "code",
   "execution_count": 3,
   "id": "e22710e6-d1f4-4296-9909-cdcaba735549",
   "metadata": {},
   "outputs": [],
   "source": [
    "data = np.vstack((x,y)).T"
   ]
  },
  {
   "cell_type": "markdown",
   "id": "0ad132d9-e647-4596-b88b-3115f336caa7",
   "metadata": {},
   "source": [
    "## Look at the data"
   ]
  },
  {
   "cell_type": "code",
   "execution_count": 4,
   "id": "0ffb1172-d1c5-48e1-981e-5554d551a699",
   "metadata": {},
   "outputs": [
    {
     "data": {
      "text/html": [
       "\n",
       "  <div id=\"c782a1d7-0649-479b-b5a8-3219081c03d7\" data-root-id=\"p1001\" style=\"display: contents;\"></div>\n"
      ]
     },
     "metadata": {},
     "output_type": "display_data"
    },
    {
     "data": {
      "application/javascript": [
       "(function(root) {\n",
       "  function embed_document(root) {\n",
       "  const docs_json = {\"18b7e0dc-6041-4199-932f-201b48ef6c77\":{\"version\":\"3.2.0\",\"title\":\"Bokeh Application\",\"roots\":[{\"type\":\"object\",\"name\":\"Figure\",\"id\":\"p1001\",\"attributes\":{\"width\":550,\"height\":300,\"x_range\":{\"type\":\"object\",\"name\":\"Range1d\",\"id\":\"p1011\",\"attributes\":{\"start\":-35,\"end\":35}},\"y_range\":{\"type\":\"object\",\"name\":\"Range1d\",\"id\":\"p1012\",\"attributes\":{\"start\":-35,\"end\":35}},\"x_scale\":{\"type\":\"object\",\"name\":\"LinearScale\",\"id\":\"p1013\"},\"y_scale\":{\"type\":\"object\",\"name\":\"LinearScale\",\"id\":\"p1014\"},\"title\":{\"type\":\"object\",\"name\":\"Title\",\"id\":\"p1004\",\"attributes\":{\"text\":\"Input data\"}},\"renderers\":[{\"type\":\"object\",\"name\":\"GlyphRenderer\",\"id\":\"p1038\",\"attributes\":{\"data_source\":{\"type\":\"object\",\"name\":\"ColumnDataSource\",\"id\":\"p1032\",\"attributes\":{\"selected\":{\"type\":\"object\",\"name\":\"Selection\",\"id\":\"p1033\",\"attributes\":{\"indices\":[],\"line_indices\":[]}},\"selection_policy\":{\"type\":\"object\",\"name\":\"UnionRenderers\",\"id\":\"p1034\"},\"data\":{\"type\":\"map\",\"entries\":[[\"x\",{\"type\":\"ndarray\",\"array\":{\"type\":\"bytes\",\"data\":\"x6FvWPmjMUDU1b8cnAEQQAu+VXMjkyNAov1bxK9oNkCoxu7N8qwyQNF3p6mpiyPAsp3/43MAI0BEZUhclzf4v7hwfRvYg/C/4HlAVodsEEBomhVRBgz3P3Xn/F7hFS1AmCT1uwZxHkA6UFwFz3fzP5+JNdUowRFAXfsedaaxCkCK/6BSr+EtQLJCbiikaQDA5fVBZKALCUC2Ew9e+BQhwMhI3GenhznAwPNK7g0lGkBEmofQ6UkhQM87MxLFrx3ALLfvY5KyNkCQiFAtWhYtwLTSTlITSd0/Rg1g7Qzz/b+5KTFf1KcuQBJASO0dYy1Aw9K6hKXK+D/AJPW1xEAOQF6G/oh2wSHAa4r+xdbOM8CW80KmPdULwKpiKsQNBPk/lvvdmRabKEAt+L1QLwwoQDZ5QgZ0/A7A8vOACykvCMBovaVXl/gkwHRXHul9ZizAvL1sOw0QMcDAnrsp/IEzQARWhp3WYhTA/4VJf+GFEcBK5i/vTw4pwGUjglGAGR9AQnbnF5QjMMCm3qTC6wQBwLXEW+7J6CHAALMzXsPzDkDPexMFpW4UwFo3ZDfWnCfALHmbVGAJ0r+JgXZMHiIRQKIRckIXSeU/Bx383J8yCEB3mStPdV8ZwJg2gmfwBA3AjQxat/7lGsDQM18UpsMMwADmRBhPQyDA6q72kEhDMcBjpgXyX2P8P3PUDp48EhDAzR/myU5NMMC2F3rq44ISQGzOthxeJSLABhon6F2f4D+z/c4p4ykdQL5ap9gjo/Q/3RHnQ7vJJkCVgTXmTrIowMUPy3j6FxBAk2CWkHRkG8BsuUc9e2ohwJOMSqprJxfAKtglipjsCMCHhw6ZEPnhPxwVBjORTSfArsYASzsEIkBCt2AlYqASQHbxEFORuS7ADgxb6tnDLUDc6i7uefUyQNt4ovVZkydAzFp4pbjJ/L+E4UXgQGolwF6Zr/fKFiVAjQkGLYggEMCY+uAz63IoQPM3kbd4qQBA0+NhUWSII0Ccl6RBYoIMQPmegCpPQxxAf08IKEvhuj9XKz4W1NsxQIWixL5RTvQ/4WQ1/14UEEBQ9gyk3dQyQLLjscGG9CrAwhjjGOJoKcA4xj+nT2MjQOC/Pk9kdifAusOJlKtvM0D+t0ZXdYsQwDoJ3/Dv5R3AR19WSbs6M0AuGvFYPJwtQLnWt3DzrDJAXyrA2vIeIkDvs9u6eTkhwBT26yrEGTNAmFB0g7VwBcAiO6ilkwwgQKgyZRnu8SJA/AE8ojbN+L8yY385LJAYQPqfgrqycSJAuW2H4zEdDkD7HK+a7vwlwG6zcvXq2wdAue3ChRiHKkAL9V/4X8gbwId+qeAH8fe/nk437fhnEcBc+iJ6HX4yQIigKV5M5BpAdPKIwWhMEEAdS1DL8MsewE62Z2bpkRVAgewlnCr5GsByIAFhHl/UP/sV/VcQbxnAXNT0S60OG0B5Z/U6ShAXQBtmMGH1qQDAREJ2rDeuD0BgR6qUedwlwDGl4yY90y3Aepk6+16TEUBnmlVF8qr6P+JWV8+4ZhlAOL14wtnUN0BtVTcnvOMiQFrk6limQSLAiGvRlh9XJkB5OD4pclEqwH6msFigdhLA\"},\"shape\":[150],\"dtype\":\"float64\",\"order\":\"little\"}],[\"y\",{\"type\":\"ndarray\",\"array\":{\"type\":\"bytes\",\"data\":\"HSes759MMUB8J5tX9iIpQPrBVtwhQRhArYT9YthGMkBXspfh7S4yQCLI3soqLirAGRQvAqRELkB96rCqJacbwHgtkSMAFBvAZA45ZI+r/j/sAvAOrsvwvyQXub+9MDhAxHOByQe3KEB8M2Ks23j6P1RwpApIBPu/wHJPq/Y7HkAqC1UxIuEjQFw5uDkGjSPAGcJ4TUMkIkAOouu2MdMbwBRt5mL07DTA7a/uUXhCIECb8ApTZtspQLZyGquCWiXAnMgrsr2GMUBCAr1keEUmwKbTmtDHeQzAXAmg6kFHFcBrcSCXqhkqQAf+ixHdjy1A+DC0oTA5zL/AyZubu74IwC08p0ogMSjAQ62xhMvsPsCgC9pQ95bWv+ImnJGFyRnAxB0W37sfG0AoKcQ4upEoQMji2QXKSB7AwPlpkafEEkAYOPsFJ/MwwEsc8HPXuinAcqYObVVCMcCmjUSSplUrQLfpltxS1wPAfn1YtDL0FMCIp1dHh1YhwEwDb9fryCdAmAEEwItKFcA286EIkDgSQAYrvvDkmSXAhmt6N4VgBUBA7x3kzPnYP5Ih65NcDyHAyqyxWMZZB0DWXsqnZGkOwM34fFuxZOE/lKObiD9L5b/33e6JPsYTwNg6geH/eBDAYm4dCcJjAcBghMGPVRMAwH8HMmeezBDAqDygxkyYM8DGHW04cZUHwB6gh/OwRRjA356yCRhjMMD7tMKtJRgaQLjdM2jayQFAeL3MHAe50z+0VVLd5RYEQEip71dEKty/lXLeAe0mIkAdo1ozt+EjwOBwWvvNcQ3AUvnCzY0gGsDqBLQ6prMfwOfqYVanghLAbo1CY45oGMBzSxWPNRjkv1IA2eCUxTLAtmgzWaoqGkAq2zYCuxP/P6kFI8R6kCrAzTJqMgY0IkA9oKPsaN02QFIT4KydQjNAFnl/d2BMKMDmnUr0BychwPUk2Gqt2ytAAypOojXgHMDIVHsl53kkQAKs8YKMsfY/ah1RFgyOIEDEs4BMFyYAQKw3CixSB/W/UPjxM3V3F0CI7dKBvUE3QBRgJruwYQbA/ghkZXF/CsCtQfYt1G81QNzUi5RFWzDA7tQOrHv9J8DZjvSU1DEgQD8eQXkNjCDAtmXI+vLoNkDfATpWhA4fwD9jTF9hyCzARWCbECShJkBtpOVJZ9sxQJli0hNsdilAyYOIYP8aGkDrmyAZCjAnwIVggOp61jJADT1Btg25KMCmX5qW2e8hQHyOEVIXLyhA1u/zPVS68b986mqAb1gSQGgeyuYKayNAvfd1+LYJF0COcx1/Yts4wDR7Fm4dhilAOkEcFbxtLkBfzEF5WmokwOJoMMHgmwvAvoge0Q4g/r/zh9GJgOkxQMhpbcGccQvAZhxsa07LLECbEH1S9IAgwBrEnhaZ/CRAvlHdFztoJMDyI/8DGQAgQEjrnPH7tBPABtkwi/qdI0C4nuXnvUThP1tEG1QryA9AFmcsTfqiHUCPgXxFf68RwHA/uE6SDTLAWCR0dwzS/z8TT38hZV8qQMjUqnvDzfA/0SoBw9UmN0ARK85GLUIuQCyD/095RyHAD6fZHHwrLEAkQLETCVAuwEFo4WLhHwbA\"},\"shape\":[150],\"dtype\":\"float64\",\"order\":\"little\"}]]}}},\"view\":{\"type\":\"object\",\"name\":\"CDSView\",\"id\":\"p1039\",\"attributes\":{\"filter\":{\"type\":\"object\",\"name\":\"AllIndices\",\"id\":\"p1040\"}}},\"glyph\":{\"type\":\"object\",\"name\":\"Circle\",\"id\":\"p1035\",\"attributes\":{\"x\":{\"type\":\"field\",\"field\":\"x\"},\"y\":{\"type\":\"field\",\"field\":\"y\"},\"line_color\":{\"type\":\"value\",\"value\":\"#CE8964\"},\"fill_color\":{\"type\":\"value\",\"value\":\"#CE8964\"},\"hatch_color\":{\"type\":\"value\",\"value\":\"#CE8964\"}}},\"nonselection_glyph\":{\"type\":\"object\",\"name\":\"Circle\",\"id\":\"p1036\",\"attributes\":{\"x\":{\"type\":\"field\",\"field\":\"x\"},\"y\":{\"type\":\"field\",\"field\":\"y\"},\"line_color\":{\"type\":\"value\",\"value\":\"#CE8964\"},\"line_alpha\":{\"type\":\"value\",\"value\":0.1},\"fill_color\":{\"type\":\"value\",\"value\":\"#CE8964\"},\"fill_alpha\":{\"type\":\"value\",\"value\":0.1},\"hatch_color\":{\"type\":\"value\",\"value\":\"#CE8964\"},\"hatch_alpha\":{\"type\":\"value\",\"value\":0.1}}},\"muted_glyph\":{\"type\":\"object\",\"name\":\"Circle\",\"id\":\"p1037\",\"attributes\":{\"x\":{\"type\":\"field\",\"field\":\"x\"},\"y\":{\"type\":\"field\",\"field\":\"y\"},\"line_color\":{\"type\":\"value\",\"value\":\"#CE8964\"},\"line_alpha\":{\"type\":\"value\",\"value\":0.2},\"fill_color\":{\"type\":\"value\",\"value\":\"#CE8964\"},\"fill_alpha\":{\"type\":\"value\",\"value\":0.2},\"hatch_color\":{\"type\":\"value\",\"value\":\"#CE8964\"},\"hatch_alpha\":{\"type\":\"value\",\"value\":0.2}}}}}],\"toolbar\":{\"type\":\"object\",\"name\":\"Toolbar\",\"id\":\"p1010\",\"attributes\":{\"tools\":[{\"type\":\"object\",\"name\":\"PanTool\",\"id\":\"p1025\"},{\"type\":\"object\",\"name\":\"WheelZoomTool\",\"id\":\"p1026\"},{\"type\":\"object\",\"name\":\"BoxZoomTool\",\"id\":\"p1027\",\"attributes\":{\"overlay\":{\"type\":\"object\",\"name\":\"BoxAnnotation\",\"id\":\"p1028\",\"attributes\":{\"syncable\":false,\"level\":\"overlay\",\"visible\":false,\"left_units\":\"canvas\",\"right_units\":\"canvas\",\"bottom_units\":\"canvas\",\"top_units\":\"canvas\",\"line_color\":\"black\",\"line_alpha\":1.0,\"line_width\":2,\"line_dash\":[4,4],\"fill_color\":\"lightgrey\",\"fill_alpha\":0.5}}}},{\"type\":\"object\",\"name\":\"SaveTool\",\"id\":\"p1029\"},{\"type\":\"object\",\"name\":\"ResetTool\",\"id\":\"p1030\"},{\"type\":\"object\",\"name\":\"HelpTool\",\"id\":\"p1031\"}]}},\"left\":[{\"type\":\"object\",\"name\":\"LinearAxis\",\"id\":\"p1020\",\"attributes\":{\"ticker\":{\"type\":\"object\",\"name\":\"BasicTicker\",\"id\":\"p1021\",\"attributes\":{\"mantissas\":[1,2,5]}},\"formatter\":{\"type\":\"object\",\"name\":\"BasicTickFormatter\",\"id\":\"p1022\"},\"axis_label\":\"y\",\"major_label_policy\":{\"type\":\"object\",\"name\":\"AllLabels\",\"id\":\"p1023\"}}}],\"below\":[{\"type\":\"object\",\"name\":\"LinearAxis\",\"id\":\"p1015\",\"attributes\":{\"ticker\":{\"type\":\"object\",\"name\":\"BasicTicker\",\"id\":\"p1016\",\"attributes\":{\"mantissas\":[1,2,5]}},\"formatter\":{\"type\":\"object\",\"name\":\"BasicTickFormatter\",\"id\":\"p1017\"},\"axis_label\":\"x\",\"major_label_policy\":{\"type\":\"object\",\"name\":\"AllLabels\",\"id\":\"p1018\"}}}],\"center\":[{\"type\":\"object\",\"name\":\"Grid\",\"id\":\"p1019\",\"attributes\":{\"axis\":{\"id\":\"p1015\"}}},{\"type\":\"object\",\"name\":\"Grid\",\"id\":\"p1024\",\"attributes\":{\"dimension\":1,\"axis\":{\"id\":\"p1020\"}}},{\"type\":\"object\",\"name\":\"Legend\",\"id\":\"p1041\",\"attributes\":{\"items\":[{\"type\":\"object\",\"name\":\"LegendItem\",\"id\":\"p1042\",\"attributes\":{\"label\":{\"type\":\"value\",\"value\":\"raw data\"},\"renderers\":[{\"id\":\"p1038\"}]}}]}}]}}]}};\n",
       "  const render_items = [{\"docid\":\"18b7e0dc-6041-4199-932f-201b48ef6c77\",\"roots\":{\"p1001\":\"c782a1d7-0649-479b-b5a8-3219081c03d7\"},\"root_ids\":[\"p1001\"]}];\n",
       "  root.Bokeh.embed.embed_items_notebook(docs_json, render_items);\n",
       "  }\n",
       "  if (root.Bokeh !== undefined) {\n",
       "    embed_document(root);\n",
       "  } else {\n",
       "    let attempts = 0;\n",
       "    const timer = setInterval(function(root) {\n",
       "      if (root.Bokeh !== undefined) {\n",
       "        clearInterval(timer);\n",
       "        embed_document(root);\n",
       "      } else {\n",
       "        attempts++;\n",
       "        if (attempts > 100) {\n",
       "          clearInterval(timer);\n",
       "          console.log(\"Bokeh: ERROR: Unable to run BokehJS code because BokehJS library is missing\");\n",
       "        }\n",
       "      }\n",
       "    }, 10, root)\n",
       "  }\n",
       "})(window);"
      ],
      "application/vnd.bokehjs_exec.v0+json": ""
     },
     "metadata": {
      "application/vnd.bokehjs_exec.v0+json": {
       "id": "p1001"
      }
     },
     "output_type": "display_data"
    }
   ],
   "source": [
    "r = 35\n",
    "p = bokeh.plotting.figure(width = 550, height = 300,\n",
    "                         title = 'Input data',\n",
    "                         y_range = (-r,r),\n",
    "                         x_range = (-r,r),\n",
    "                         # aspect_ratio = 1\n",
    "                          y_axis_label = 'y',\n",
    "                          x_axis_label = 'x',\n",
    "                         )\n",
    "\n",
    "p.circle(data[:,0],data[:,1], color = '#CE8964',\n",
    "        legend_label = 'raw data')\n",
    "\n",
    "\n",
    "\n",
    "bokeh.io.show(p)"
   ]
  },
  {
   "cell_type": "markdown",
   "id": "82ab4856-9e7d-485f-ba8a-88efe8179adf",
   "metadata": {},
   "source": [
    "## Mean center the data"
   ]
  },
  {
   "cell_type": "markdown",
   "id": "638ba057-1016-4a23-89e1-4940b95605c0",
   "metadata": {},
   "source": [
    "Let the features = 2, observations = 100. Then, we will mean center each feature over all observations."
   ]
  },
  {
   "cell_type": "code",
   "execution_count": 5,
   "id": "1b81f128-4553-4907-b234-d558fc8d04fe",
   "metadata": {},
   "outputs": [],
   "source": [
    "data_centered = data - np.mean(data, axis=0)"
   ]
  },
  {
   "cell_type": "markdown",
   "id": "5f314f08-b1fd-4b06-8c67-f749a6818f41",
   "metadata": {},
   "source": [
    "Look at the data over the raw data"
   ]
  },
  {
   "cell_type": "code",
   "execution_count": 6,
   "id": "b3b6fdf5-6cba-4008-b518-60dca834b9fe",
   "metadata": {},
   "outputs": [
    {
     "data": {
      "text/html": [
       "\n",
       "  <div id=\"c4fe8b01-97ea-4b34-b533-f85a44ebe7db\" data-root-id=\"p1001\" style=\"display: contents;\"></div>\n"
      ]
     },
     "metadata": {},
     "output_type": "display_data"
    },
    {
     "data": {
      "application/javascript": [
       "(function(root) {\n",
       "  function embed_document(root) {\n",
       "  const docs_json = {\"241a6466-4285-4198-bb80-627bd1b92cc7\":{\"version\":\"3.2.0\",\"title\":\"Bokeh Application\",\"roots\":[{\"type\":\"object\",\"name\":\"Figure\",\"id\":\"p1001\",\"attributes\":{\"width\":550,\"height\":300,\"x_range\":{\"type\":\"object\",\"name\":\"Range1d\",\"id\":\"p1011\",\"attributes\":{\"start\":-35,\"end\":35}},\"y_range\":{\"type\":\"object\",\"name\":\"Range1d\",\"id\":\"p1012\",\"attributes\":{\"start\":-35,\"end\":35}},\"x_scale\":{\"type\":\"object\",\"name\":\"LinearScale\",\"id\":\"p1013\"},\"y_scale\":{\"type\":\"object\",\"name\":\"LinearScale\",\"id\":\"p1014\"},\"title\":{\"type\":\"object\",\"name\":\"Title\",\"id\":\"p1004\",\"attributes\":{\"text\":\"Input data\"}},\"renderers\":[{\"type\":\"object\",\"name\":\"GlyphRenderer\",\"id\":\"p1038\",\"attributes\":{\"data_source\":{\"type\":\"object\",\"name\":\"ColumnDataSource\",\"id\":\"p1032\",\"attributes\":{\"selected\":{\"type\":\"object\",\"name\":\"Selection\",\"id\":\"p1033\",\"attributes\":{\"indices\":[],\"line_indices\":[]}},\"selection_policy\":{\"type\":\"object\",\"name\":\"UnionRenderers\",\"id\":\"p1034\"},\"data\":{\"type\":\"map\",\"entries\":[[\"x\",{\"type\":\"ndarray\",\"array\":{\"type\":\"bytes\",\"data\":\"x6FvWPmjMUDU1b8cnAEQQAu+VXMjkyNAov1bxK9oNkCoxu7N8qwyQNF3p6mpiyPAsp3/43MAI0BEZUhclzf4v7hwfRvYg/C/4HlAVodsEEBomhVRBgz3P3Xn/F7hFS1AmCT1uwZxHkA6UFwFz3fzP5+JNdUowRFAXfsedaaxCkCK/6BSr+EtQLJCbiikaQDA5fVBZKALCUC2Ew9e+BQhwMhI3GenhznAwPNK7g0lGkBEmofQ6UkhQM87MxLFrx3ALLfvY5KyNkCQiFAtWhYtwLTSTlITSd0/Rg1g7Qzz/b+5KTFf1KcuQBJASO0dYy1Aw9K6hKXK+D/AJPW1xEAOQF6G/oh2wSHAa4r+xdbOM8CW80KmPdULwKpiKsQNBPk/lvvdmRabKEAt+L1QLwwoQDZ5QgZ0/A7A8vOACykvCMBovaVXl/gkwHRXHul9ZizAvL1sOw0QMcDAnrsp/IEzQARWhp3WYhTA/4VJf+GFEcBK5i/vTw4pwGUjglGAGR9AQnbnF5QjMMCm3qTC6wQBwLXEW+7J6CHAALMzXsPzDkDPexMFpW4UwFo3ZDfWnCfALHmbVGAJ0r+JgXZMHiIRQKIRckIXSeU/Bx383J8yCEB3mStPdV8ZwJg2gmfwBA3AjQxat/7lGsDQM18UpsMMwADmRBhPQyDA6q72kEhDMcBjpgXyX2P8P3PUDp48EhDAzR/myU5NMMC2F3rq44ISQGzOthxeJSLABhon6F2f4D+z/c4p4ykdQL5ap9gjo/Q/3RHnQ7vJJkCVgTXmTrIowMUPy3j6FxBAk2CWkHRkG8BsuUc9e2ohwJOMSqprJxfAKtglipjsCMCHhw6ZEPnhPxwVBjORTSfArsYASzsEIkBCt2AlYqASQHbxEFORuS7ADgxb6tnDLUDc6i7uefUyQNt4ovVZkydAzFp4pbjJ/L+E4UXgQGolwF6Zr/fKFiVAjQkGLYggEMCY+uAz63IoQPM3kbd4qQBA0+NhUWSII0Ccl6RBYoIMQPmegCpPQxxAf08IKEvhuj9XKz4W1NsxQIWixL5RTvQ/4WQ1/14UEEBQ9gyk3dQyQLLjscGG9CrAwhjjGOJoKcA4xj+nT2MjQOC/Pk9kdifAusOJlKtvM0D+t0ZXdYsQwDoJ3/Dv5R3AR19WSbs6M0AuGvFYPJwtQLnWt3DzrDJAXyrA2vIeIkDvs9u6eTkhwBT26yrEGTNAmFB0g7VwBcAiO6ilkwwgQKgyZRnu8SJA/AE8ojbN+L8yY385LJAYQPqfgrqycSJAuW2H4zEdDkD7HK+a7vwlwG6zcvXq2wdAue3ChRiHKkAL9V/4X8gbwId+qeAH8fe/nk437fhnEcBc+iJ6HX4yQIigKV5M5BpAdPKIwWhMEEAdS1DL8MsewE62Z2bpkRVAgewlnCr5GsByIAFhHl/UP/sV/VcQbxnAXNT0S60OG0B5Z/U6ShAXQBtmMGH1qQDAREJ2rDeuD0BgR6qUedwlwDGl4yY90y3Aepk6+16TEUBnmlVF8qr6P+JWV8+4ZhlAOL14wtnUN0BtVTcnvOMiQFrk6limQSLAiGvRlh9XJkB5OD4pclEqwH6msFigdhLA\"},\"shape\":[150],\"dtype\":\"float64\",\"order\":\"little\"}],[\"y\",{\"type\":\"ndarray\",\"array\":{\"type\":\"bytes\",\"data\":\"HSes759MMUB8J5tX9iIpQPrBVtwhQRhArYT9YthGMkBXspfh7S4yQCLI3soqLirAGRQvAqRELkB96rCqJacbwHgtkSMAFBvAZA45ZI+r/j/sAvAOrsvwvyQXub+9MDhAxHOByQe3KEB8M2Ks23j6P1RwpApIBPu/wHJPq/Y7HkAqC1UxIuEjQFw5uDkGjSPAGcJ4TUMkIkAOouu2MdMbwBRt5mL07DTA7a/uUXhCIECb8ApTZtspQLZyGquCWiXAnMgrsr2GMUBCAr1keEUmwKbTmtDHeQzAXAmg6kFHFcBrcSCXqhkqQAf+ixHdjy1A+DC0oTA5zL/AyZubu74IwC08p0ogMSjAQ62xhMvsPsCgC9pQ95bWv+ImnJGFyRnAxB0W37sfG0AoKcQ4upEoQMji2QXKSB7AwPlpkafEEkAYOPsFJ/MwwEsc8HPXuinAcqYObVVCMcCmjUSSplUrQLfpltxS1wPAfn1YtDL0FMCIp1dHh1YhwEwDb9fryCdAmAEEwItKFcA286EIkDgSQAYrvvDkmSXAhmt6N4VgBUBA7x3kzPnYP5Ih65NcDyHAyqyxWMZZB0DWXsqnZGkOwM34fFuxZOE/lKObiD9L5b/33e6JPsYTwNg6geH/eBDAYm4dCcJjAcBghMGPVRMAwH8HMmeezBDAqDygxkyYM8DGHW04cZUHwB6gh/OwRRjA356yCRhjMMD7tMKtJRgaQLjdM2jayQFAeL3MHAe50z+0VVLd5RYEQEip71dEKty/lXLeAe0mIkAdo1ozt+EjwOBwWvvNcQ3AUvnCzY0gGsDqBLQ6prMfwOfqYVanghLAbo1CY45oGMBzSxWPNRjkv1IA2eCUxTLAtmgzWaoqGkAq2zYCuxP/P6kFI8R6kCrAzTJqMgY0IkA9oKPsaN02QFIT4KydQjNAFnl/d2BMKMDmnUr0BychwPUk2Gqt2ytAAypOojXgHMDIVHsl53kkQAKs8YKMsfY/ah1RFgyOIEDEs4BMFyYAQKw3CixSB/W/UPjxM3V3F0CI7dKBvUE3QBRgJruwYQbA/ghkZXF/CsCtQfYt1G81QNzUi5RFWzDA7tQOrHv9J8DZjvSU1DEgQD8eQXkNjCDAtmXI+vLoNkDfATpWhA4fwD9jTF9hyCzARWCbECShJkBtpOVJZ9sxQJli0hNsdilAyYOIYP8aGkDrmyAZCjAnwIVggOp61jJADT1Btg25KMCmX5qW2e8hQHyOEVIXLyhA1u/zPVS68b986mqAb1gSQGgeyuYKayNAvfd1+LYJF0COcx1/Yts4wDR7Fm4dhilAOkEcFbxtLkBfzEF5WmokwOJoMMHgmwvAvoge0Q4g/r/zh9GJgOkxQMhpbcGccQvAZhxsa07LLECbEH1S9IAgwBrEnhaZ/CRAvlHdFztoJMDyI/8DGQAgQEjrnPH7tBPABtkwi/qdI0C4nuXnvUThP1tEG1QryA9AFmcsTfqiHUCPgXxFf68RwHA/uE6SDTLAWCR0dwzS/z8TT38hZV8qQMjUqnvDzfA/0SoBw9UmN0ARK85GLUIuQCyD/095RyHAD6fZHHwrLEAkQLETCVAuwEFo4WLhHwbA\"},\"shape\":[150],\"dtype\":\"float64\",\"order\":\"little\"}]]}}},\"view\":{\"type\":\"object\",\"name\":\"CDSView\",\"id\":\"p1039\",\"attributes\":{\"filter\":{\"type\":\"object\",\"name\":\"AllIndices\",\"id\":\"p1040\"}}},\"glyph\":{\"type\":\"object\",\"name\":\"Circle\",\"id\":\"p1035\",\"attributes\":{\"x\":{\"type\":\"field\",\"field\":\"x\"},\"y\":{\"type\":\"field\",\"field\":\"y\"},\"line_color\":{\"type\":\"value\",\"value\":\"#CE8964\"},\"fill_color\":{\"type\":\"value\",\"value\":\"#CE8964\"},\"hatch_color\":{\"type\":\"value\",\"value\":\"#CE8964\"}}},\"nonselection_glyph\":{\"type\":\"object\",\"name\":\"Circle\",\"id\":\"p1036\",\"attributes\":{\"x\":{\"type\":\"field\",\"field\":\"x\"},\"y\":{\"type\":\"field\",\"field\":\"y\"},\"line_color\":{\"type\":\"value\",\"value\":\"#CE8964\"},\"line_alpha\":{\"type\":\"value\",\"value\":0.1},\"fill_color\":{\"type\":\"value\",\"value\":\"#CE8964\"},\"fill_alpha\":{\"type\":\"value\",\"value\":0.1},\"hatch_color\":{\"type\":\"value\",\"value\":\"#CE8964\"},\"hatch_alpha\":{\"type\":\"value\",\"value\":0.1}}},\"muted_glyph\":{\"type\":\"object\",\"name\":\"Circle\",\"id\":\"p1037\",\"attributes\":{\"x\":{\"type\":\"field\",\"field\":\"x\"},\"y\":{\"type\":\"field\",\"field\":\"y\"},\"line_color\":{\"type\":\"value\",\"value\":\"#CE8964\"},\"line_alpha\":{\"type\":\"value\",\"value\":0.2},\"fill_color\":{\"type\":\"value\",\"value\":\"#CE8964\"},\"fill_alpha\":{\"type\":\"value\",\"value\":0.2},\"hatch_color\":{\"type\":\"value\",\"value\":\"#CE8964\"},\"hatch_alpha\":{\"type\":\"value\",\"value\":0.2}}}}},{\"type\":\"object\",\"name\":\"GlyphRenderer\",\"id\":\"p1051\",\"attributes\":{\"data_source\":{\"type\":\"object\",\"name\":\"ColumnDataSource\",\"id\":\"p1045\",\"attributes\":{\"selected\":{\"type\":\"object\",\"name\":\"Selection\",\"id\":\"p1046\",\"attributes\":{\"indices\":[],\"line_indices\":[]}},\"selection_policy\":{\"type\":\"object\",\"name\":\"UnionRenderers\",\"id\":\"p1047\"},\"data\":{\"type\":\"map\",\"entries\":[[\"x\",{\"type\":\"ndarray\",\"array\":{\"type\":\"bytes\",\"data\":\"n30N7/1iMEBnim7uXPsFQLt1kaAsESFAetn5WrQnNUCAooxk92sxQCHAa3ygDSbAYlU7EX1+IEDjUzX5piMGwJ3Zz1jHSQLAf9JvYTPRBkAwv5rXfeLHPyWfOIzqkypA+JNsFhltGUAASb4Y8vyiv/3xWV92eglAHNoNKsupAEA6t9x/uF8rQPNjf3N/cQrASKlhMooH/j8GXNMw75YjwPBsPtGiyDrAIGPCSCAhFUDoo4b75Y8dQDjm3VvZWSHABJON+pZxNUDg0BQAUZgvwKobHYPjeum/5CfBwWEBCcBp4WyM3SUsQML3gxon4SpABEFiurvr0j9/A+Rq6TgEQK7OwlttQyTAk65gL9IPNcBsCqp4jO4SwKCAILhc0dM/RrMZxx8ZJkDdr/l9OIolQDzNqagnghTAmgpJK4IbEcC4BWoqjnonwMSf4rt06C7A5OHOpAhRMsCYelnAAEEyQKTmDkPEZhnAoBbSJM+JFsCaLvTBRpArwMSS+auSFRpAappJgY9kMcDn/7UNxwwLwAUNIMHAaiTAv5EiE+jrBEBwDJyqknIZwKp/KArNHirAzSBJqw6S+L/R4dtNYTwIQGJz0ulV1uK/jPfVI4lV/D8YKrT0YmMewOyrSdllhhPALp3iXOzpH8CIKrivwGUTwFAuCetFxSLAEtNY+kOEMsDCx8a3UqfgPxRll0MqFhXA9UNIM0qOMcArDuOJ7P0KQLwWe+9UpyTA/modRA+A578SbUaE9SUYQIAHo1CobaI/jckiccRHJEDlyfm4RTQrwEn+hKYZKAZAmngPGzE0IMC8AQwQcuwjwDQd009ZKxzAtnyb6jl6EcB9/TWTXCbmv2xdygWIzynAvPx48IgEH0BDTbD/6DgLQOOc6hLEnTDAvsOWF+NBK0C0xsyEfrQxQIsw3iJjESVAp07NnbdsCMDUKQqzN+wnwA5R6yTUlCJALpqO0nUkFcBIshxh9PAlQMhaALJ1huo/g5udfm0GIUBbdpP2hnoCQFgO+IRhPxdAir2h46Fh8r8vB9ys2JowQIABMFGUTY8/gahZs+IgBkAo0qo64pMxQAIsdpR9di3AEmGn69jqK8DofXvUWOEgQDAIAyJb+CnAkp8nK7AuMkCeSM/8Yo8VwO3MM8vudCHAHzv037/5MUDe0SyGRRorQJGyVQf4azFAHsT3D/g5H0A//J+NcLsjwOzRicHI2DFA2XGFzpB4D8Ck5celORUbQFjqoEb3byBAPyIvnHZuBsCS0vaTPowTQFSvfM933x9AeEx2mFYVBEBLZXNt5X4owFokw1QfqPs/aaX+siEFKEDWQvTOJmYgwITgZTtfAAbAPt+/kuZrFsA01sAQIj0xQOgPobhe4BVAp8MAOPaQBkDfbWw47+chwK4l38D7jRBAIn2uQRj9H8DL9MP73e/tv5ymhf39ch7AvENspr8KFkDY1myVXAwSQFyHQazQsQrAAyFlYVymBUCwj25ncF4owMH20/yZKjDAsxFkq+IeCUCUX8287mzaP0LGzinLYhRAEJkWWd6TNkAdDXNUxWEgQKosryudwyTAOCMNxCjVI0DJgAL8aNMswB43Of6NehfA\"},\"shape\":[150],\"dtype\":\"float64\",\"order\":\"little\"}],[\"y\",{\"type\":\"ndarray\",\"array\":{\"type\":\"bytes\",\"data\":\"JcKtcqhlMECNXZ5dB1UnQBwuXehDpRRAtR//5eBfMUBfTZlk9kcxQBGS28QZ/CvAKkoyCLV2LEBbfqqeA0MfwFbBihferx7A675SlBc88D9lUtbeJTv/vyyyukLGSTdA1amEzxjpJkAGyPe4xxLoP+ZfRe3fuQTA4t5VtxigGkA7QVg3MxMiQEsDtTP1WiXAKvh7U1RWIEDsNeWqD28fwAzS5N/r0zXA/MvjrxLpHECsJg5Zdw0oQKU8F6VxKCfApGMtNcafMEAxzLleZxMowLH9RtzB2BHAOp2Z3h/jGMB8pyOdu0soQBg0jxfuwStAmNUc5J328b988Y6Dd/YPwBwGpEQP/ynAOxKwAcPTP8Bh0hykNRX0v8C6lYVjZR3A5okc692DF0A5X8c+y8MmQFO76fxT8iDAxMvgOpNRDkAQnfmCHtoxwDrm7G3GiCvAagsN6kwpMsC3w0eYt4cpQHQRisQODwvAXBFSqBCQGMB3cVRBdiQjwF05ct38+iVAdpX9s2nmGMCwvlApZDkNQPX0uurTZyfAk4cOn5JR/D9Sp70tCWLgv4Hr541L3SLADoW+cAoiAEBJw95HkNASwEpMn4h89Na/QyE0lBcV+b/Vceh9HGIXwLbOetXdFBTAHpYQ8X2bCMAcrLR3EUsHwF2bK1t8aBTAoKGeQ0R/NMCCRWAgLc0OwPwzgeeO4RvA1wOxhg9KMcAdIcm5R3wWQPdrgQA9JPU/NkBmEWwC47/vW77qU775P8s54uUIevW/pqjhB/5YIEAMbVctpq8lwE7MpvHEVBLAMI28wWu8HcBkzFYXwqchwMV+W0qFHhbATCE8V2wEHMAy9XCXknv4v0pl112MrDPA2NQ5ZcyOFkCxi1AyQ6TwP5jPH75pXizA3mhtOBdmIEBFO6VvcfY1QFqu4S+mWzJABUN8cU8aKsDVZ0fu9vQiwAZb23C+DSpA8d4jywk+IMDZin4r+KsiQBK5FmYphOA/9qaoODqAHUAPGBvJttzxP5JD+P1kuwHAcmT4P5fbE0CQiNQExlo2QNCHGaNsmQ3AXZirppbbEMC13Pew3Ig0QNQ5ihE9QjHA3Z4LpmrLKcDUie81y8ccQC7oPXP8WSLAvgDKffsBNkDfyhklMVUhwC4tSVlQli7AVpaeFjXTJEB1P+fMb/QwQKqY1Rl9qCdA6++ObCF/FkDaZR0T+f0owI37gW2D7zFA/AY+sPyGKsC3lZ2c6iEgQI3EFFgoYSZAqB/tBuYUAMA8reIYI3kNQHlUzewbnSFA32N8BNltE0CG2Bv8WcI5wEWxGXQuuCdAS3cfG82fLEBOlj5zSTgmwE/IkVTOaRHAHGyCUMNHBsD7ItMMiQIxQMJIsFSsVBHAd1JvcV/9KkCK2nlM404iwCv6oRyqLiNArRvaESo2JsAGtAQUVGQcQCZ/luXZUBfAFw80kQvQIUB0AM5vYzTXv54cKGxvkAhAONMyWRwHGkBtFXY5XUsVwGiktsuJ9DLA39SNp5Ri8T8khYIndpEoQHgqJF5d8sI/2cUCRt4/NkAiYdFMPnQsQBtN/EloFSPAIN3cIo1dKkAKBdcG/A4wwP6P1EqdVw3A\"},\"shape\":[150],\"dtype\":\"float64\",\"order\":\"little\"}]]}}},\"view\":{\"type\":\"object\",\"name\":\"CDSView\",\"id\":\"p1052\",\"attributes\":{\"filter\":{\"type\":\"object\",\"name\":\"AllIndices\",\"id\":\"p1053\"}}},\"glyph\":{\"type\":\"object\",\"name\":\"Circle\",\"id\":\"p1048\",\"attributes\":{\"x\":{\"type\":\"field\",\"field\":\"x\"},\"y\":{\"type\":\"field\",\"field\":\"y\"},\"line_color\":{\"type\":\"value\",\"value\":\"#843B62\"},\"fill_color\":{\"type\":\"value\",\"value\":\"#843B62\"},\"hatch_color\":{\"type\":\"value\",\"value\":\"#843B62\"}}},\"nonselection_glyph\":{\"type\":\"object\",\"name\":\"Circle\",\"id\":\"p1049\",\"attributes\":{\"x\":{\"type\":\"field\",\"field\":\"x\"},\"y\":{\"type\":\"field\",\"field\":\"y\"},\"line_color\":{\"type\":\"value\",\"value\":\"#843B62\"},\"line_alpha\":{\"type\":\"value\",\"value\":0.1},\"fill_color\":{\"type\":\"value\",\"value\":\"#843B62\"},\"fill_alpha\":{\"type\":\"value\",\"value\":0.1},\"hatch_color\":{\"type\":\"value\",\"value\":\"#843B62\"},\"hatch_alpha\":{\"type\":\"value\",\"value\":0.1}}},\"muted_glyph\":{\"type\":\"object\",\"name\":\"Circle\",\"id\":\"p1050\",\"attributes\":{\"x\":{\"type\":\"field\",\"field\":\"x\"},\"y\":{\"type\":\"field\",\"field\":\"y\"},\"line_color\":{\"type\":\"value\",\"value\":\"#843B62\"},\"line_alpha\":{\"type\":\"value\",\"value\":0.2},\"fill_color\":{\"type\":\"value\",\"value\":\"#843B62\"},\"fill_alpha\":{\"type\":\"value\",\"value\":0.2},\"hatch_color\":{\"type\":\"value\",\"value\":\"#843B62\"},\"hatch_alpha\":{\"type\":\"value\",\"value\":0.2}}}}}],\"toolbar\":{\"type\":\"object\",\"name\":\"Toolbar\",\"id\":\"p1010\",\"attributes\":{\"tools\":[{\"type\":\"object\",\"name\":\"PanTool\",\"id\":\"p1025\"},{\"type\":\"object\",\"name\":\"WheelZoomTool\",\"id\":\"p1026\"},{\"type\":\"object\",\"name\":\"BoxZoomTool\",\"id\":\"p1027\",\"attributes\":{\"overlay\":{\"type\":\"object\",\"name\":\"BoxAnnotation\",\"id\":\"p1028\",\"attributes\":{\"syncable\":false,\"level\":\"overlay\",\"visible\":false,\"left_units\":\"canvas\",\"right_units\":\"canvas\",\"bottom_units\":\"canvas\",\"top_units\":\"canvas\",\"line_color\":\"black\",\"line_alpha\":1.0,\"line_width\":2,\"line_dash\":[4,4],\"fill_color\":\"lightgrey\",\"fill_alpha\":0.5}}}},{\"type\":\"object\",\"name\":\"SaveTool\",\"id\":\"p1029\"},{\"type\":\"object\",\"name\":\"ResetTool\",\"id\":\"p1030\"},{\"type\":\"object\",\"name\":\"HelpTool\",\"id\":\"p1031\"}]}},\"left\":[{\"type\":\"object\",\"name\":\"LinearAxis\",\"id\":\"p1020\",\"attributes\":{\"ticker\":{\"type\":\"object\",\"name\":\"BasicTicker\",\"id\":\"p1021\",\"attributes\":{\"mantissas\":[1,2,5]}},\"formatter\":{\"type\":\"object\",\"name\":\"BasicTickFormatter\",\"id\":\"p1022\"},\"axis_label\":\"y\",\"major_label_policy\":{\"type\":\"object\",\"name\":\"AllLabels\",\"id\":\"p1023\"}}}],\"right\":[{\"type\":\"object\",\"name\":\"Legend\",\"id\":\"p1041\",\"attributes\":{\"items\":[{\"type\":\"object\",\"name\":\"LegendItem\",\"id\":\"p1042\",\"attributes\":{\"label\":{\"type\":\"value\",\"value\":\"raw data\"},\"renderers\":[{\"id\":\"p1038\"}]}},{\"type\":\"object\",\"name\":\"LegendItem\",\"id\":\"p1054\",\"attributes\":{\"label\":{\"type\":\"value\",\"value\":\"mean centered data\"},\"renderers\":[{\"id\":\"p1051\"}]}}]}}],\"below\":[{\"type\":\"object\",\"name\":\"LinearAxis\",\"id\":\"p1015\",\"attributes\":{\"ticker\":{\"type\":\"object\",\"name\":\"BasicTicker\",\"id\":\"p1016\",\"attributes\":{\"mantissas\":[1,2,5]}},\"formatter\":{\"type\":\"object\",\"name\":\"BasicTickFormatter\",\"id\":\"p1017\"},\"axis_label\":\"x\",\"major_label_policy\":{\"type\":\"object\",\"name\":\"AllLabels\",\"id\":\"p1018\"}}}],\"center\":[{\"type\":\"object\",\"name\":\"Grid\",\"id\":\"p1019\",\"attributes\":{\"axis\":{\"id\":\"p1015\"}}},{\"type\":\"object\",\"name\":\"Grid\",\"id\":\"p1024\",\"attributes\":{\"dimension\":1,\"axis\":{\"id\":\"p1020\"}}},{\"id\":\"p1041\"}]}}]}};\n",
       "  const render_items = [{\"docid\":\"241a6466-4285-4198-bb80-627bd1b92cc7\",\"roots\":{\"p1001\":\"c4fe8b01-97ea-4b34-b533-f85a44ebe7db\"},\"root_ids\":[\"p1001\"]}];\n",
       "  root.Bokeh.embed.embed_items_notebook(docs_json, render_items);\n",
       "  }\n",
       "  if (root.Bokeh !== undefined) {\n",
       "    embed_document(root);\n",
       "  } else {\n",
       "    let attempts = 0;\n",
       "    const timer = setInterval(function(root) {\n",
       "      if (root.Bokeh !== undefined) {\n",
       "        clearInterval(timer);\n",
       "        embed_document(root);\n",
       "      } else {\n",
       "        attempts++;\n",
       "        if (attempts > 100) {\n",
       "          clearInterval(timer);\n",
       "          console.log(\"Bokeh: ERROR: Unable to run BokehJS code because BokehJS library is missing\");\n",
       "        }\n",
       "      }\n",
       "    }, 10, root)\n",
       "  }\n",
       "})(window);"
      ],
      "application/vnd.bokehjs_exec.v0+json": ""
     },
     "metadata": {
      "application/vnd.bokehjs_exec.v0+json": {
       "id": "p1001"
      }
     },
     "output_type": "display_data"
    }
   ],
   "source": [
    "p.circle(data_centered[:,0],data_centered[:,1], color = '#843B62',\n",
    "        legend_label = 'mean centered data')\n",
    "p.add_layout(p.legend[0], 'right')\n",
    "bokeh.io.show(p)"
   ]
  },
  {
   "cell_type": "markdown",
   "id": "f3424b1b-6934-4bbd-8d79-547856bd9561",
   "metadata": {},
   "source": [
    "## Calculate the covariance matrix, eigenvalues, eigenvectors"
   ]
  },
  {
   "cell_type": "code",
   "execution_count": 7,
   "id": "32e3dde0-8974-4d36-a5dd-5145ab5ee12d",
   "metadata": {},
   "outputs": [],
   "source": [
    "cov_matrix = np.cov(data_centered, rowvar=False, bias = False)"
   ]
  },
  {
   "cell_type": "code",
   "execution_count": 8,
   "id": "7deda580-3ee2-4d62-a8e0-98712bc6355b",
   "metadata": {},
   "outputs": [
    {
     "data": {
      "text/plain": [
       "[(11.362799813713764, array([-0.74100028, -0.67150472])),\n",
       " (218.55966043224902, array([ 0.67150472, -0.74100028]))]"
      ]
     },
     "execution_count": 8,
     "metadata": {},
     "output_type": "execute_result"
    }
   ],
   "source": [
    "evals, evecs = np.linalg.eig(cov_matrix)\n",
    "\n",
    "sorted_eig = sorted(zip(evals, evecs))\n",
    "sorted_eig"
   ]
  },
  {
   "cell_type": "markdown",
   "id": "72559cee-3624-40b1-9994-adea40a46a7e",
   "metadata": {},
   "source": [
    "## Plot the principal components"
   ]
  },
  {
   "cell_type": "code",
   "execution_count": 9,
   "id": "5a23d551-dddc-4565-b6bc-e352a4467687",
   "metadata": {},
   "outputs": [
    {
     "data": {
      "text/html": [
       "\n",
       "  <div id=\"f8477e08-3756-49a6-b592-d8e42e58b37d\" data-root-id=\"p1059\" style=\"display: contents;\"></div>\n"
      ]
     },
     "metadata": {},
     "output_type": "display_data"
    },
    {
     "data": {
      "application/javascript": [
       "(function(root) {\n",
       "  function embed_document(root) {\n",
       "  const docs_json = {\"7d45e4fe-513a-42bf-987b-c20039407b57\":{\"version\":\"3.2.0\",\"title\":\"Bokeh Application\",\"roots\":[{\"type\":\"object\",\"name\":\"Figure\",\"id\":\"p1059\",\"attributes\":{\"width\":500,\"height\":350,\"x_range\":{\"type\":\"object\",\"name\":\"Range1d\",\"id\":\"p1069\",\"attributes\":{\"start\":-35,\"end\":35}},\"y_range\":{\"type\":\"object\",\"name\":\"Range1d\",\"id\":\"p1070\",\"attributes\":{\"start\":-35,\"end\":35}},\"x_scale\":{\"type\":\"object\",\"name\":\"LinearScale\",\"id\":\"p1071\"},\"y_scale\":{\"type\":\"object\",\"name\":\"LinearScale\",\"id\":\"p1072\"},\"title\":{\"type\":\"object\",\"name\":\"Title\",\"id\":\"p1062\",\"attributes\":{\"text\":\"Data with PCs\"}},\"renderers\":[{\"type\":\"object\",\"name\":\"GlyphRenderer\",\"id\":\"p1096\",\"attributes\":{\"data_source\":{\"type\":\"object\",\"name\":\"ColumnDataSource\",\"id\":\"p1090\",\"attributes\":{\"selected\":{\"type\":\"object\",\"name\":\"Selection\",\"id\":\"p1091\",\"attributes\":{\"indices\":[],\"line_indices\":[]}},\"selection_policy\":{\"type\":\"object\",\"name\":\"UnionRenderers\",\"id\":\"p1092\"},\"data\":{\"type\":\"map\",\"entries\":[[\"x\",[841.9837815761174,-841.9837815761174]],[\"y\",[763.0173704628988,-763.0173704628988]]]}}},\"view\":{\"type\":\"object\",\"name\":\"CDSView\",\"id\":\"p1097\",\"attributes\":{\"filter\":{\"type\":\"object\",\"name\":\"AllIndices\",\"id\":\"p1098\"}}},\"glyph\":{\"type\":\"object\",\"name\":\"Line\",\"id\":\"p1093\",\"attributes\":{\"x\":{\"type\":\"field\",\"field\":\"x\"},\"y\":{\"type\":\"field\",\"field\":\"y\"},\"line_color\":\"#843B62\",\"line_width\":3}},\"nonselection_glyph\":{\"type\":\"object\",\"name\":\"Line\",\"id\":\"p1094\",\"attributes\":{\"x\":{\"type\":\"field\",\"field\":\"x\"},\"y\":{\"type\":\"field\",\"field\":\"y\"},\"line_color\":\"#843B62\",\"line_alpha\":0.1,\"line_width\":3}},\"muted_glyph\":{\"type\":\"object\",\"name\":\"Line\",\"id\":\"p1095\",\"attributes\":{\"x\":{\"type\":\"field\",\"field\":\"x\"},\"y\":{\"type\":\"field\",\"field\":\"y\"},\"line_color\":\"#843B62\",\"line_alpha\":0.2,\"line_width\":3}}}},{\"type\":\"object\",\"name\":\"GlyphRenderer\",\"id\":\"p1107\",\"attributes\":{\"data_source\":{\"type\":\"object\",\"name\":\"ColumnDataSource\",\"id\":\"p1101\",\"attributes\":{\"selected\":{\"type\":\"object\",\"name\":\"Selection\",\"id\":\"p1102\",\"attributes\":{\"indices\":[],\"line_indices\":[]}},\"selection_policy\":{\"type\":\"object\",\"name\":\"UnionRenderers\",\"id\":\"p1103\"},\"data\":{\"type\":\"map\",\"entries\":[[\"x\",[-14676.384353001646,14676.384353001646]],[\"y\",[16195.276904257253,-16195.276904257253]]]}}},\"view\":{\"type\":\"object\",\"name\":\"CDSView\",\"id\":\"p1108\",\"attributes\":{\"filter\":{\"type\":\"object\",\"name\":\"AllIndices\",\"id\":\"p1109\"}}},\"glyph\":{\"type\":\"object\",\"name\":\"Line\",\"id\":\"p1104\",\"attributes\":{\"x\":{\"type\":\"field\",\"field\":\"x\"},\"y\":{\"type\":\"field\",\"field\":\"y\"},\"line_color\":\"#326273\",\"line_width\":3}},\"nonselection_glyph\":{\"type\":\"object\",\"name\":\"Line\",\"id\":\"p1105\",\"attributes\":{\"x\":{\"type\":\"field\",\"field\":\"x\"},\"y\":{\"type\":\"field\",\"field\":\"y\"},\"line_color\":\"#326273\",\"line_alpha\":0.1,\"line_width\":3}},\"muted_glyph\":{\"type\":\"object\",\"name\":\"Line\",\"id\":\"p1106\",\"attributes\":{\"x\":{\"type\":\"field\",\"field\":\"x\"},\"y\":{\"type\":\"field\",\"field\":\"y\"},\"line_color\":\"#326273\",\"line_alpha\":0.2,\"line_width\":3}}}},{\"type\":\"object\",\"name\":\"GlyphRenderer\",\"id\":\"p1117\",\"attributes\":{\"data_source\":{\"type\":\"object\",\"name\":\"ColumnDataSource\",\"id\":\"p1111\",\"attributes\":{\"selected\":{\"type\":\"object\",\"name\":\"Selection\",\"id\":\"p1112\",\"attributes\":{\"indices\":[],\"line_indices\":[]}},\"selection_policy\":{\"type\":\"object\",\"name\":\"UnionRenderers\",\"id\":\"p1113\"},\"data\":{\"type\":\"map\",\"entries\":[[\"x\",{\"type\":\"ndarray\",\"array\":{\"type\":\"bytes\",\"data\":\"x6FvWPmjMUDU1b8cnAEQQAu+VXMjkyNAov1bxK9oNkCoxu7N8qwyQNF3p6mpiyPAsp3/43MAI0BEZUhclzf4v7hwfRvYg/C/4HlAVodsEEBomhVRBgz3P3Xn/F7hFS1AmCT1uwZxHkA6UFwFz3fzP5+JNdUowRFAXfsedaaxCkCK/6BSr+EtQLJCbiikaQDA5fVBZKALCUC2Ew9e+BQhwMhI3GenhznAwPNK7g0lGkBEmofQ6UkhQM87MxLFrx3ALLfvY5KyNkCQiFAtWhYtwLTSTlITSd0/Rg1g7Qzz/b+5KTFf1KcuQBJASO0dYy1Aw9K6hKXK+D/AJPW1xEAOQF6G/oh2wSHAa4r+xdbOM8CW80KmPdULwKpiKsQNBPk/lvvdmRabKEAt+L1QLwwoQDZ5QgZ0/A7A8vOACykvCMBovaVXl/gkwHRXHul9ZizAvL1sOw0QMcDAnrsp/IEzQARWhp3WYhTA/4VJf+GFEcBK5i/vTw4pwGUjglGAGR9AQnbnF5QjMMCm3qTC6wQBwLXEW+7J6CHAALMzXsPzDkDPexMFpW4UwFo3ZDfWnCfALHmbVGAJ0r+JgXZMHiIRQKIRckIXSeU/Bx383J8yCEB3mStPdV8ZwJg2gmfwBA3AjQxat/7lGsDQM18UpsMMwADmRBhPQyDA6q72kEhDMcBjpgXyX2P8P3PUDp48EhDAzR/myU5NMMC2F3rq44ISQGzOthxeJSLABhon6F2f4D+z/c4p4ykdQL5ap9gjo/Q/3RHnQ7vJJkCVgTXmTrIowMUPy3j6FxBAk2CWkHRkG8BsuUc9e2ohwJOMSqprJxfAKtglipjsCMCHhw6ZEPnhPxwVBjORTSfArsYASzsEIkBCt2AlYqASQHbxEFORuS7ADgxb6tnDLUDc6i7uefUyQNt4ovVZkydAzFp4pbjJ/L+E4UXgQGolwF6Zr/fKFiVAjQkGLYggEMCY+uAz63IoQPM3kbd4qQBA0+NhUWSII0Ccl6RBYoIMQPmegCpPQxxAf08IKEvhuj9XKz4W1NsxQIWixL5RTvQ/4WQ1/14UEEBQ9gyk3dQyQLLjscGG9CrAwhjjGOJoKcA4xj+nT2MjQOC/Pk9kdifAusOJlKtvM0D+t0ZXdYsQwDoJ3/Dv5R3AR19WSbs6M0AuGvFYPJwtQLnWt3DzrDJAXyrA2vIeIkDvs9u6eTkhwBT26yrEGTNAmFB0g7VwBcAiO6ilkwwgQKgyZRnu8SJA/AE8ojbN+L8yY385LJAYQPqfgrqycSJAuW2H4zEdDkD7HK+a7vwlwG6zcvXq2wdAue3ChRiHKkAL9V/4X8gbwId+qeAH8fe/nk437fhnEcBc+iJ6HX4yQIigKV5M5BpAdPKIwWhMEEAdS1DL8MsewE62Z2bpkRVAgewlnCr5GsByIAFhHl/UP/sV/VcQbxnAXNT0S60OG0B5Z/U6ShAXQBtmMGH1qQDAREJ2rDeuD0BgR6qUedwlwDGl4yY90y3Aepk6+16TEUBnmlVF8qr6P+JWV8+4ZhlAOL14wtnUN0BtVTcnvOMiQFrk6limQSLAiGvRlh9XJkB5OD4pclEqwH6msFigdhLA\"},\"shape\":[150],\"dtype\":\"float64\",\"order\":\"little\"}],[\"y\",{\"type\":\"ndarray\",\"array\":{\"type\":\"bytes\",\"data\":\"HSes759MMUB8J5tX9iIpQPrBVtwhQRhArYT9YthGMkBXspfh7S4yQCLI3soqLirAGRQvAqRELkB96rCqJacbwHgtkSMAFBvAZA45ZI+r/j/sAvAOrsvwvyQXub+9MDhAxHOByQe3KEB8M2Ks23j6P1RwpApIBPu/wHJPq/Y7HkAqC1UxIuEjQFw5uDkGjSPAGcJ4TUMkIkAOouu2MdMbwBRt5mL07DTA7a/uUXhCIECb8ApTZtspQLZyGquCWiXAnMgrsr2GMUBCAr1keEUmwKbTmtDHeQzAXAmg6kFHFcBrcSCXqhkqQAf+ixHdjy1A+DC0oTA5zL/AyZubu74IwC08p0ogMSjAQ62xhMvsPsCgC9pQ95bWv+ImnJGFyRnAxB0W37sfG0AoKcQ4upEoQMji2QXKSB7AwPlpkafEEkAYOPsFJ/MwwEsc8HPXuinAcqYObVVCMcCmjUSSplUrQLfpltxS1wPAfn1YtDL0FMCIp1dHh1YhwEwDb9fryCdAmAEEwItKFcA286EIkDgSQAYrvvDkmSXAhmt6N4VgBUBA7x3kzPnYP5Ih65NcDyHAyqyxWMZZB0DWXsqnZGkOwM34fFuxZOE/lKObiD9L5b/33e6JPsYTwNg6geH/eBDAYm4dCcJjAcBghMGPVRMAwH8HMmeezBDAqDygxkyYM8DGHW04cZUHwB6gh/OwRRjA356yCRhjMMD7tMKtJRgaQLjdM2jayQFAeL3MHAe50z+0VVLd5RYEQEip71dEKty/lXLeAe0mIkAdo1ozt+EjwOBwWvvNcQ3AUvnCzY0gGsDqBLQ6prMfwOfqYVanghLAbo1CY45oGMBzSxWPNRjkv1IA2eCUxTLAtmgzWaoqGkAq2zYCuxP/P6kFI8R6kCrAzTJqMgY0IkA9oKPsaN02QFIT4KydQjNAFnl/d2BMKMDmnUr0BychwPUk2Gqt2ytAAypOojXgHMDIVHsl53kkQAKs8YKMsfY/ah1RFgyOIEDEs4BMFyYAQKw3CixSB/W/UPjxM3V3F0CI7dKBvUE3QBRgJruwYQbA/ghkZXF/CsCtQfYt1G81QNzUi5RFWzDA7tQOrHv9J8DZjvSU1DEgQD8eQXkNjCDAtmXI+vLoNkDfATpWhA4fwD9jTF9hyCzARWCbECShJkBtpOVJZ9sxQJli0hNsdilAyYOIYP8aGkDrmyAZCjAnwIVggOp61jJADT1Btg25KMCmX5qW2e8hQHyOEVIXLyhA1u/zPVS68b986mqAb1gSQGgeyuYKayNAvfd1+LYJF0COcx1/Yts4wDR7Fm4dhilAOkEcFbxtLkBfzEF5WmokwOJoMMHgmwvAvoge0Q4g/r/zh9GJgOkxQMhpbcGccQvAZhxsa07LLECbEH1S9IAgwBrEnhaZ/CRAvlHdFztoJMDyI/8DGQAgQEjrnPH7tBPABtkwi/qdI0C4nuXnvUThP1tEG1QryA9AFmcsTfqiHUCPgXxFf68RwHA/uE6SDTLAWCR0dwzS/z8TT38hZV8qQMjUqnvDzfA/0SoBw9UmN0ARK85GLUIuQCyD/095RyHAD6fZHHwrLEAkQLETCVAuwEFo4WLhHwbA\"},\"shape\":[150],\"dtype\":\"float64\",\"order\":\"little\"}]]}}},\"view\":{\"type\":\"object\",\"name\":\"CDSView\",\"id\":\"p1118\",\"attributes\":{\"filter\":{\"type\":\"object\",\"name\":\"AllIndices\",\"id\":\"p1119\"}}},\"glyph\":{\"type\":\"object\",\"name\":\"Circle\",\"id\":\"p1114\",\"attributes\":{\"x\":{\"type\":\"field\",\"field\":\"x\"},\"y\":{\"type\":\"field\",\"field\":\"y\"},\"line_color\":{\"type\":\"value\",\"value\":\"#CE8964\"},\"fill_color\":{\"type\":\"value\",\"value\":\"#CE8964\"},\"hatch_color\":{\"type\":\"value\",\"value\":\"#CE8964\"}}},\"nonselection_glyph\":{\"type\":\"object\",\"name\":\"Circle\",\"id\":\"p1115\",\"attributes\":{\"x\":{\"type\":\"field\",\"field\":\"x\"},\"y\":{\"type\":\"field\",\"field\":\"y\"},\"line_color\":{\"type\":\"value\",\"value\":\"#CE8964\"},\"line_alpha\":{\"type\":\"value\",\"value\":0.1},\"fill_color\":{\"type\":\"value\",\"value\":\"#CE8964\"},\"fill_alpha\":{\"type\":\"value\",\"value\":0.1},\"hatch_color\":{\"type\":\"value\",\"value\":\"#CE8964\"},\"hatch_alpha\":{\"type\":\"value\",\"value\":0.1}}},\"muted_glyph\":{\"type\":\"object\",\"name\":\"Circle\",\"id\":\"p1116\",\"attributes\":{\"x\":{\"type\":\"field\",\"field\":\"x\"},\"y\":{\"type\":\"field\",\"field\":\"y\"},\"line_color\":{\"type\":\"value\",\"value\":\"#CE8964\"},\"line_alpha\":{\"type\":\"value\",\"value\":0.2},\"fill_color\":{\"type\":\"value\",\"value\":\"#CE8964\"},\"fill_alpha\":{\"type\":\"value\",\"value\":0.2},\"hatch_color\":{\"type\":\"value\",\"value\":\"#CE8964\"},\"hatch_alpha\":{\"type\":\"value\",\"value\":0.2}}}}}],\"toolbar\":{\"type\":\"object\",\"name\":\"Toolbar\",\"id\":\"p1068\",\"attributes\":{\"tools\":[{\"type\":\"object\",\"name\":\"PanTool\",\"id\":\"p1083\"},{\"type\":\"object\",\"name\":\"WheelZoomTool\",\"id\":\"p1084\"},{\"type\":\"object\",\"name\":\"BoxZoomTool\",\"id\":\"p1085\",\"attributes\":{\"overlay\":{\"type\":\"object\",\"name\":\"BoxAnnotation\",\"id\":\"p1086\",\"attributes\":{\"syncable\":false,\"level\":\"overlay\",\"visible\":false,\"left_units\":\"canvas\",\"right_units\":\"canvas\",\"bottom_units\":\"canvas\",\"top_units\":\"canvas\",\"line_color\":\"black\",\"line_alpha\":1.0,\"line_width\":2,\"line_dash\":[4,4],\"fill_color\":\"lightgrey\",\"fill_alpha\":0.5}}}},{\"type\":\"object\",\"name\":\"SaveTool\",\"id\":\"p1087\"},{\"type\":\"object\",\"name\":\"ResetTool\",\"id\":\"p1088\"},{\"type\":\"object\",\"name\":\"HelpTool\",\"id\":\"p1089\"}]}},\"left\":[{\"type\":\"object\",\"name\":\"LinearAxis\",\"id\":\"p1078\",\"attributes\":{\"ticker\":{\"type\":\"object\",\"name\":\"BasicTicker\",\"id\":\"p1079\",\"attributes\":{\"mantissas\":[1,2,5]}},\"formatter\":{\"type\":\"object\",\"name\":\"BasicTickFormatter\",\"id\":\"p1080\"},\"axis_label\":\"y\",\"major_label_policy\":{\"type\":\"object\",\"name\":\"AllLabels\",\"id\":\"p1081\"}}}],\"right\":[{\"type\":\"object\",\"name\":\"Legend\",\"id\":\"p1099\",\"attributes\":{\"items\":[{\"type\":\"object\",\"name\":\"LegendItem\",\"id\":\"p1100\",\"attributes\":{\"label\":{\"type\":\"value\",\"value\":\"PC1\"},\"renderers\":[{\"id\":\"p1096\"}]}},{\"type\":\"object\",\"name\":\"LegendItem\",\"id\":\"p1110\",\"attributes\":{\"label\":{\"type\":\"value\",\"value\":\"PC2\"},\"renderers\":[{\"id\":\"p1107\"}]}},{\"type\":\"object\",\"name\":\"LegendItem\",\"id\":\"p1120\",\"attributes\":{\"label\":{\"type\":\"value\",\"value\":\"data\"},\"renderers\":[{\"id\":\"p1117\"}]}}]}}],\"below\":[{\"type\":\"object\",\"name\":\"LinearAxis\",\"id\":\"p1073\",\"attributes\":{\"ticker\":{\"type\":\"object\",\"name\":\"BasicTicker\",\"id\":\"p1074\",\"attributes\":{\"mantissas\":[1,2,5]}},\"formatter\":{\"type\":\"object\",\"name\":\"BasicTickFormatter\",\"id\":\"p1075\"},\"axis_label\":\"x\",\"major_label_policy\":{\"type\":\"object\",\"name\":\"AllLabels\",\"id\":\"p1076\"}}}],\"center\":[{\"type\":\"object\",\"name\":\"Grid\",\"id\":\"p1077\",\"attributes\":{\"axis\":{\"id\":\"p1073\"}}},{\"type\":\"object\",\"name\":\"Grid\",\"id\":\"p1082\",\"attributes\":{\"dimension\":1,\"axis\":{\"id\":\"p1078\"}}},{\"id\":\"p1099\"}]}}]}};\n",
       "  const render_items = [{\"docid\":\"7d45e4fe-513a-42bf-987b-c20039407b57\",\"roots\":{\"p1059\":\"f8477e08-3756-49a6-b592-d8e42e58b37d\"},\"root_ids\":[\"p1059\"]}];\n",
       "  root.Bokeh.embed.embed_items_notebook(docs_json, render_items);\n",
       "  }\n",
       "  if (root.Bokeh !== undefined) {\n",
       "    embed_document(root);\n",
       "  } else {\n",
       "    let attempts = 0;\n",
       "    const timer = setInterval(function(root) {\n",
       "      if (root.Bokeh !== undefined) {\n",
       "        clearInterval(timer);\n",
       "        embed_document(root);\n",
       "      } else {\n",
       "        attempts++;\n",
       "        if (attempts > 100) {\n",
       "          clearInterval(timer);\n",
       "          console.log(\"Bokeh: ERROR: Unable to run BokehJS code because BokehJS library is missing\");\n",
       "        }\n",
       "      }\n",
       "    }, 10, root)\n",
       "  }\n",
       "})(window);"
      ],
      "application/vnd.bokehjs_exec.v0+json": ""
     },
     "metadata": {
      "application/vnd.bokehjs_exec.v0+json": {
       "id": "p1059"
      }
     },
     "output_type": "display_data"
    }
   ],
   "source": [
    "colors = ['#843B62', '#326273']\n",
    "\n",
    "r = 35\n",
    "p1 = bokeh.plotting.figure(width = 500, height = 350,\n",
    "                           title = 'Data with PCs',\n",
    "                           x_axis_label = 'x',\n",
    "                           y_axis_label = 'y',\n",
    "                          x_range = (-r, r),\n",
    "                           y_range = (-r,r)\n",
    "                          )\n",
    "\n",
    "for i,pc in enumerate(sorted_eig):\n",
    "    curr_evec = sorted_eig[i][1]\n",
    "    curr_eval = sorted_eig[i][0]\n",
    "    # plot the lines so it covers entire plot (x10)\n",
    "    endpt = curr_evec * curr_eval * 100\n",
    "    \n",
    "    # plot the PC lines\n",
    "    p1.line(x = (-endpt[0], endpt[0]),\n",
    "            y = (-endpt[1], endpt[1]),\n",
    "                 color = colors[i],\n",
    "                 legend_label = 'PC' + str(i+1),\n",
    "                 width = 3)\n",
    "\n",
    "# plot the data\n",
    "p1.circle(x,y, color = '#CE8964', legend_label = 'data')\n",
    "p1.add_layout(p1.legend[0], 'right')\n",
    "\n",
    "bokeh.io.show(p1)"
   ]
  },
  {
   "cell_type": "markdown",
   "id": "6ca7a0c6-b59c-4d8e-9fb2-3992078e3943",
   "metadata": {},
   "source": [
    "We can see that PC1 cuts through the main axes of the data."
   ]
  },
  {
   "cell_type": "markdown",
   "id": "f37a04cb-eb8c-4c2a-a024-cb6b70a54318",
   "metadata": {},
   "source": [
    "Show that the PC's are orthogonal by taking their dot product"
   ]
  },
  {
   "cell_type": "code",
   "execution_count": 10,
   "id": "1951a31e-7d11-4030-93f4-6b31edbce1ed",
   "metadata": {},
   "outputs": [
    {
     "data": {
      "text/plain": [
       "0.0"
      ]
     },
     "execution_count": 10,
     "metadata": {},
     "output_type": "execute_result"
    }
   ],
   "source": [
    "np.dot(sorted_eig[0][1], sorted_eig[1][1])"
   ]
  },
  {
   "cell_type": "markdown",
   "id": "981d9be9-953e-4916-87fe-f71f2d96c027",
   "metadata": {},
   "source": [
    "## Rotate the data"
   ]
  },
  {
   "cell_type": "markdown",
   "id": "f6b253c9-544b-4aae-92f5-d3ef577a55e9",
   "metadata": {},
   "source": [
    "Define a function to help rotate the data"
   ]
  },
  {
   "cell_type": "code",
   "execution_count": 11,
   "id": "4e4af303-46dc-44fd-8a30-74ef58c49516",
   "metadata": {},
   "outputs": [],
   "source": [
    "def rotate_func(x,y):\n",
    "    evec1 = sorted_eig[0][1]\n",
    "    evec2 = sorted_eig[1][1]\n",
    "    \n",
    "    new_x = -(evec1[0] * x + evec1[1] * y)\n",
    "    new_y = -(evec2[0] * x + evec2[1] * y)\n",
    "    \n",
    "    return new_x, new_y"
   ]
  },
  {
   "cell_type": "code",
   "execution_count": 12,
   "id": "e584d953-7809-4363-83ea-2491a9921069",
   "metadata": {},
   "outputs": [],
   "source": [
    "newx = []\n",
    "newy = []\n",
    "\n",
    "for curr_data in data_centered:\n",
    "    new_x, new_y = rotate_func(curr_data[0], curr_data[1])\n",
    "    \n",
    "    newx.append(new_x)\n",
    "    newy.append(new_y)\n",
    "#ewx"
   ]
  },
  {
   "cell_type": "code",
   "execution_count": 13,
   "id": "f2657f5c-3c9d-4093-87e9-a8f212d59870",
   "metadata": {},
   "outputs": [
    {
     "data": {
      "text/html": [
       "\n",
       "  <div id=\"f8d4503f-bc80-4a4a-b60c-3b0527fd0b5d\" data-root-id=\"p1123\" style=\"display: contents;\"></div>\n"
      ]
     },
     "metadata": {},
     "output_type": "display_data"
    },
    {
     "data": {
      "application/javascript": [
       "(function(root) {\n",
       "  function embed_document(root) {\n",
       "  const docs_json = {\"9efd0bad-1ebb-4efd-b444-bd9958e78b69\":{\"version\":\"3.2.0\",\"title\":\"Bokeh Application\",\"roots\":[{\"type\":\"object\",\"name\":\"Figure\",\"id\":\"p1123\",\"attributes\":{\"width\":350,\"height\":300,\"x_range\":{\"type\":\"object\",\"name\":\"Range1d\",\"id\":\"p1132\",\"attributes\":{\"start\":-30,\"end\":30}},\"y_range\":{\"type\":\"object\",\"name\":\"Range1d\",\"id\":\"p1133\",\"attributes\":{\"start\":-30,\"end\":30}},\"x_scale\":{\"type\":\"object\",\"name\":\"LinearScale\",\"id\":\"p1134\"},\"y_scale\":{\"type\":\"object\",\"name\":\"LinearScale\",\"id\":\"p1135\"},\"title\":{\"type\":\"object\",\"name\":\"Title\",\"id\":\"p1130\"},\"renderers\":[{\"type\":\"object\",\"name\":\"GlyphRenderer\",\"id\":\"p1159\",\"attributes\":{\"data_source\":{\"type\":\"object\",\"name\":\"ColumnDataSource\",\"id\":\"p1153\",\"attributes\":{\"selected\":{\"type\":\"object\",\"name\":\"Selection\",\"id\":\"p1154\",\"attributes\":{\"indices\":[],\"line_indices\":[]}},\"selection_policy\":{\"type\":\"object\",\"name\":\"UnionRenderers\",\"id\":\"p1155\"},\"data\":{\"type\":\"map\",\"entries\":[[\"x\",[23.153270869194326,9.86989531350899,9.78925717318198,27.34300765415483,24.51385939195233,-17.566676767294155,15.66781919963013,-7.298757528037374,-6.845558391726428,2.794799353928565,-1.1724669378113604,25.485201493277927,12.402464791033022,0.4776871749056287,0.6202277978883965,6.013201295561711,16.210761066872248,-9.619410012897633,6.876001122124616,-12.534936573104904,-34.5042373702442,8.76759706774419,13.552099634563621,-14.203885667120222,27.052968869877425,-19.78945202562526,-3.586059435996492,-6.4940947597385605,18.586187997473424,19.27851886968113,-0.5348366522850142,-0.8098008001070243,-16.235915899490074,-36.97891152622356,-4.3499810165612125,-4.705443256111091,12.134990349944717,15.623887062873482,-9.489044737630906,-0.6242674141112277,-20.686594487979775,-20.69612860213441,-25.767978572144386,22.09796458720489,-6.976882672335087,-8.298726130189696,-16.63942595042537,12.21209088784397,-17.06820587144301,-0.05247683122123936,-15.422980531912883,3.126362006633957,-5.057948923460789,-16.01135903391969,0.2162474489797861,-0.9136928732715415,-0.6770503190968449,0.25954060414459046,-9.554911697755802,-6.988213218954319,-7.977524139354672,-5.548572603893897,-10.380551052790675,-27.484775022586554,-2.1997813387739367,-8.586861196424021,-24.61871343088446,6.2748995130593475,-6.7648854911364005,-0.9430819450212442,5.55389885480694,-0.8746857891350253,13.002623310856698,-17.36032488267599,-1.0251004216565258,-10.99550699083029,-13.309512726704643,-8.931661006112819,-7.941131755669591,-1.540423429102475,-22.77405170795935,9.532952122636807,3.219901142611748,-21.83755486363025,15.60479293807639,27.867486544276694,20.133153603582954,-11.026404740538602,-15.228194412556391,15.631984166446141,-9.370038252677025,14.398314344262928,0.9608109258266893,11.260301418385122,2.461240960334931,2.818225106362477,2.482359867219894,27.31542099992368,-2.473183915669959,-0.780368311729335,26.814151449545246,-22.505319659597287,-19.003986870604393,11.085690377628739,-15.7835029183261,28.251449148701923,-9.813532967113543,-16.737447562878145,20.311965322435302,21.42677471202058,20.852806757600497,9.56134433364734,-15.701928168580972,25.26833310418619,-11.821600022303624,10.433631413006228,13.604023985124886,-3.42757993994468,6.095160263013383,11.818304805650502,5.121903088661024,-26.373070589753404,9.244716974133222,18.510080738485833,-13.536216812499559,-4.961164415668812,-6.023749867501643,24.196186990530435,1.1431921445843054,11.152068428066151,-12.781179764576859,9.507241856844834,-13.383490098420822,4.0730965700072925,-9.554885812121174,10.063927764284378,3.099977382583227,-0.41071531278611983,6.3747614997762545,-12.603502869380659,-24.707840696061815,3.0564359636598963,8.554792260917843,3.875888768135927,31.670650837388376,15.62302565900689,-14.100479538327306,16.20025775439385,-21.463351348420176,-6.81236810612712]],[\"y\",[1.1465189974564804,6.799444867758705,-1.9057220055487312,-1.3312184820186097,1.106519325032723,-2.963936463210641,5.007873122512624,-3.932918051035845,-4.149689244094353,-1.1633599318497825,-1.5716908154135842,8.332990644946499,4.21990904165543,0.5823524245547127,-4.0583588461472315,3.533671056685967,-2.494064442091382,-5.692538714798143,4.792636397226779,0.7541304412374421,1.8109849294825509,1.808538507525045,3.948719586655568,-2.7544062250053205,-2.081076305341945,1.6880053205516887,-2.771417561562906,-2.511451121859387,-0.4491188706543987,1.2593156038680728,-1.0304501323691937,-4.657974075561485,-2.828162510689401,-9.440861096571366,2.2481161272515804,-5.65355402681982,-3.063328211866609,1.202288496061982,-2.8358406378952887,5.680200456920679,-5.345318154219546,0.1759906776729423,-1.1579086601448498,-2.7986695656803597,1.75797134926884,-0.7666053523776459,2.1622641621752745,3.764821515153203,7.066621105130849,4.977409085393662,-1.816712481143366,-0.4446039138085949,3.892669671573338,1.7806823321741936,2.5255190180833527,-5.519736543199052,0.12951441238180383,-2.3507847880128097,0.7697115730422714,-0.44232010416531775,3.078300200809595,1.098836674655895,2.5216618688040544,-2.7543569019303717,-3.2024551793108302,-1.625038362775157,-1.022559869000025,1.8997870385643276,7.913626960870326,0.05295315932583866,-2.8616757781514064,-1.018809343507411,-0.7523746459054692,1.0991566592205402,-5.255629286713416,-0.0681105938927562,0.1481078266132716,0.6313724803481202,-2.2561558121569822,-0.6690516986690136,-5.912458802702918,-1.028300238310881,-1.5142715897765266,0.6472611022762731,-3.0759721286747617,4.385315031277411,6.529682971778044,-7.620920936284106,1.008579904509146,3.4141585407759907,-2.4684789101608313,-0.44893138073315964,-0.1741646442961744,-0.2511786531154847,-0.7238184413441822,-5.5451432416075015,4.4501033169814,5.414505265260523,-2.751901220071279,-4.980323196867345,3.4126683936758493,-2.8965116821371133,-0.18357774694206874,-0.3360083568109591,1.9202996007586828,4.098193148045608,-2.8023698896688334,-5.471397042672306,-4.35501344925268,3.463764681476386,-2.9334384609996835,-1.074678284594433,-2.634441711368245,1.306064610030468,-7.186753583007508,1.430512733715065,2.7727312313636148,0.39329504869918197,-0.5516595915591638,1.1751766439110156,1.9134825092467718,-10.863078499761794,7.627336321461892,2.5404918016124807,-2.7264522891871907,-1.3790559337589174,1.7003178045764105,1.0284071102185308,-6.883057557553337,8.105533014586644,-0.7711945366011896,4.327911768368947,-2.8592606680307844,5.887816164461752,0.7924352081747328,2.899274565398691,-3.298543945649964,4.515952819323696,3.004400553086862,4.2371291170213405,-3.190006839964818,-1.3034322054526566,8.825261459850928,-3.3126252327070955,1.3259021469166736,5.041971586221652,-0.09888353390138782,3.109537114848986,-2.2210401804081865,1.2236930045473682]]]}}},\"view\":{\"type\":\"object\",\"name\":\"CDSView\",\"id\":\"p1160\",\"attributes\":{\"filter\":{\"type\":\"object\",\"name\":\"AllIndices\",\"id\":\"p1161\"}}},\"glyph\":{\"type\":\"object\",\"name\":\"Circle\",\"id\":\"p1156\",\"attributes\":{\"x\":{\"type\":\"field\",\"field\":\"x\"},\"y\":{\"type\":\"field\",\"field\":\"y\"},\"line_color\":{\"type\":\"value\",\"value\":\"#CE8964\"},\"fill_color\":{\"type\":\"value\",\"value\":\"#CE8964\"},\"hatch_color\":{\"type\":\"value\",\"value\":\"#CE8964\"}}},\"nonselection_glyph\":{\"type\":\"object\",\"name\":\"Circle\",\"id\":\"p1157\",\"attributes\":{\"x\":{\"type\":\"field\",\"field\":\"x\"},\"y\":{\"type\":\"field\",\"field\":\"y\"},\"line_color\":{\"type\":\"value\",\"value\":\"#CE8964\"},\"line_alpha\":{\"type\":\"value\",\"value\":0.1},\"fill_color\":{\"type\":\"value\",\"value\":\"#CE8964\"},\"fill_alpha\":{\"type\":\"value\",\"value\":0.1},\"hatch_color\":{\"type\":\"value\",\"value\":\"#CE8964\"},\"hatch_alpha\":{\"type\":\"value\",\"value\":0.1}}},\"muted_glyph\":{\"type\":\"object\",\"name\":\"Circle\",\"id\":\"p1158\",\"attributes\":{\"x\":{\"type\":\"field\",\"field\":\"x\"},\"y\":{\"type\":\"field\",\"field\":\"y\"},\"line_color\":{\"type\":\"value\",\"value\":\"#CE8964\"},\"line_alpha\":{\"type\":\"value\",\"value\":0.2},\"fill_color\":{\"type\":\"value\",\"value\":\"#CE8964\"},\"fill_alpha\":{\"type\":\"value\",\"value\":0.2},\"hatch_color\":{\"type\":\"value\",\"value\":\"#CE8964\"},\"hatch_alpha\":{\"type\":\"value\",\"value\":0.2}}}}}],\"toolbar\":{\"type\":\"object\",\"name\":\"Toolbar\",\"id\":\"p1131\",\"attributes\":{\"tools\":[{\"type\":\"object\",\"name\":\"PanTool\",\"id\":\"p1146\"},{\"type\":\"object\",\"name\":\"WheelZoomTool\",\"id\":\"p1147\"},{\"type\":\"object\",\"name\":\"BoxZoomTool\",\"id\":\"p1148\",\"attributes\":{\"overlay\":{\"type\":\"object\",\"name\":\"BoxAnnotation\",\"id\":\"p1149\",\"attributes\":{\"syncable\":false,\"level\":\"overlay\",\"visible\":false,\"left_units\":\"canvas\",\"right_units\":\"canvas\",\"bottom_units\":\"canvas\",\"top_units\":\"canvas\",\"line_color\":\"black\",\"line_alpha\":1.0,\"line_width\":2,\"line_dash\":[4,4],\"fill_color\":\"lightgrey\",\"fill_alpha\":0.5}}}},{\"type\":\"object\",\"name\":\"SaveTool\",\"id\":\"p1150\"},{\"type\":\"object\",\"name\":\"ResetTool\",\"id\":\"p1151\"},{\"type\":\"object\",\"name\":\"HelpTool\",\"id\":\"p1152\"}]}},\"left\":[{\"type\":\"object\",\"name\":\"LinearAxis\",\"id\":\"p1141\",\"attributes\":{\"ticker\":{\"type\":\"object\",\"name\":\"BasicTicker\",\"id\":\"p1142\",\"attributes\":{\"mantissas\":[1,2,5]}},\"formatter\":{\"type\":\"object\",\"name\":\"BasicTickFormatter\",\"id\":\"p1143\"},\"axis_label\":\"PC2\",\"major_label_policy\":{\"type\":\"object\",\"name\":\"AllLabels\",\"id\":\"p1144\"}}}],\"below\":[{\"type\":\"object\",\"name\":\"LinearAxis\",\"id\":\"p1136\",\"attributes\":{\"ticker\":{\"type\":\"object\",\"name\":\"BasicTicker\",\"id\":\"p1137\",\"attributes\":{\"mantissas\":[1,2,5]}},\"formatter\":{\"type\":\"object\",\"name\":\"BasicTickFormatter\",\"id\":\"p1138\"},\"axis_label\":\"PC1\",\"major_label_policy\":{\"type\":\"object\",\"name\":\"AllLabels\",\"id\":\"p1139\"}}}],\"center\":[{\"type\":\"object\",\"name\":\"Grid\",\"id\":\"p1140\",\"attributes\":{\"axis\":{\"id\":\"p1136\"}}},{\"type\":\"object\",\"name\":\"Grid\",\"id\":\"p1145\",\"attributes\":{\"dimension\":1,\"axis\":{\"id\":\"p1141\"}}}]}}]}};\n",
       "  const render_items = [{\"docid\":\"9efd0bad-1ebb-4efd-b444-bd9958e78b69\",\"roots\":{\"p1123\":\"f8d4503f-bc80-4a4a-b60c-3b0527fd0b5d\"},\"root_ids\":[\"p1123\"]}];\n",
       "  root.Bokeh.embed.embed_items_notebook(docs_json, render_items);\n",
       "  }\n",
       "  if (root.Bokeh !== undefined) {\n",
       "    embed_document(root);\n",
       "  } else {\n",
       "    let attempts = 0;\n",
       "    const timer = setInterval(function(root) {\n",
       "      if (root.Bokeh !== undefined) {\n",
       "        clearInterval(timer);\n",
       "        embed_document(root);\n",
       "      } else {\n",
       "        attempts++;\n",
       "        if (attempts > 100) {\n",
       "          clearInterval(timer);\n",
       "          console.log(\"Bokeh: ERROR: Unable to run BokehJS code because BokehJS library is missing\");\n",
       "        }\n",
       "      }\n",
       "    }, 10, root)\n",
       "  }\n",
       "})(window);"
      ],
      "application/vnd.bokehjs_exec.v0+json": ""
     },
     "metadata": {
      "application/vnd.bokehjs_exec.v0+json": {
       "id": "p1123"
      }
     },
     "output_type": "display_data"
    }
   ],
   "source": [
    "r = 30\n",
    "p2 = bokeh.plotting.figure(width = 350, height = 300,\n",
    "                         #title = 'example data with PC axes',\n",
    "                         y_range = (-r,r),\n",
    "                         x_range = (-r,r),\n",
    "                         # aspect_ratio = 1\n",
    "                          y_axis_label = 'PC2',\n",
    "                          x_axis_label = 'PC1'\n",
    "                         )\n",
    "p2.circle(newx, newy, color = '#CE8964')\n",
    "bokeh.io.show(p2)"
   ]
  },
  {
   "cell_type": "markdown",
   "id": "12e9dee3-4859-455a-84d3-78bbf970d880",
   "metadata": {},
   "source": [
    "## Proportion of variance"
   ]
  },
  {
   "cell_type": "code",
   "execution_count": 15,
   "id": "97f2baf2-e446-43d5-b6cf-779fefeba2d6",
   "metadata": {},
   "outputs": [],
   "source": [
    "eval1 = sorted_eig[0][0]\n",
    "eval2 = sorted_eig[1][0]\n",
    "total = eval1 + eval2"
   ]
  },
  {
   "cell_type": "code",
   "execution_count": 16,
   "id": "7a3cc8b3-a1ca-4f12-a78e-d8158eb019d6",
   "metadata": {},
   "outputs": [
    {
     "name": "stdout",
     "output_type": "stream",
     "text": [
      "eigenvalue 1 represents 0.04942013843083555 of the variance\n",
      "eigenvalue 2 represents 0.9505798615691644 of the variance\n"
     ]
    }
   ],
   "source": [
    "print('eigenvalue 1 represents', eval1/total, 'of the variance')\n",
    "print('eigenvalue 2 represents', eval2/total, 'of the variance')"
   ]
  },
  {
   "cell_type": "markdown",
   "id": "763b6cb6-6763-4e5b-b0b8-2b300e198e37",
   "metadata": {},
   "source": [
    "## L vs M plot"
   ]
  },
  {
   "cell_type": "code",
   "execution_count": 17,
   "id": "a9c5f7e4-e0b2-4eeb-b236-ee6f7eac2301",
   "metadata": {},
   "outputs": [
    {
     "data": {
      "text/plain": [
       "(150, 2)"
      ]
     },
     "execution_count": 17,
     "metadata": {},
     "output_type": "execute_result"
    }
   ],
   "source": [
    "data.shape"
   ]
  },
  {
   "cell_type": "code",
   "execution_count": 18,
   "id": "d1f97855-2ee7-4283-a58f-ad9dd47cb105",
   "metadata": {},
   "outputs": [],
   "source": [
    "M = data.shape[0]\n",
    "L = data.shape[1]"
   ]
  },
  {
   "cell_type": "code",
   "execution_count": 19,
   "id": "04b1549d-f98d-4e98-8140-69ca05d4f591",
   "metadata": {},
   "outputs": [
    {
     "data": {
      "text/html": [
       "\n",
       "  <div id=\"ee6af075-2d89-42b2-a204-5c34673aef65\" data-root-id=\"p1162\" style=\"display: contents;\"></div>\n"
      ]
     },
     "metadata": {},
     "output_type": "display_data"
    },
    {
     "data": {
      "application/javascript": [
       "(function(root) {\n",
       "  function embed_document(root) {\n",
       "  const docs_json = {\"8b3f0436-c325-41ff-96aa-8c33c0005a22\":{\"version\":\"3.2.0\",\"title\":\"Bokeh Application\",\"roots\":[{\"type\":\"object\",\"name\":\"Figure\",\"id\":\"p1162\",\"attributes\":{\"width\":400,\"height\":300,\"x_range\":{\"type\":\"object\",\"name\":\"DataRange1d\",\"id\":\"p1163\"},\"y_range\":{\"type\":\"object\",\"name\":\"DataRange1d\",\"id\":\"p1164\"},\"x_scale\":{\"type\":\"object\",\"name\":\"LinearScale\",\"id\":\"p1172\"},\"y_scale\":{\"type\":\"object\",\"name\":\"LinearScale\",\"id\":\"p1173\"},\"title\":{\"type\":\"object\",\"name\":\"Title\",\"id\":\"p1165\",\"attributes\":{\"text\":\"(M,L) = (100,2)\"}},\"renderers\":[{\"type\":\"object\",\"name\":\"GlyphRenderer\",\"id\":\"p1197\",\"attributes\":{\"data_source\":{\"type\":\"object\",\"name\":\"ColumnDataSource\",\"id\":\"p1191\",\"attributes\":{\"selected\":{\"type\":\"object\",\"name\":\"Selection\",\"id\":\"p1192\",\"attributes\":{\"indices\":[],\"line_indices\":[]}},\"selection_policy\":{\"type\":\"object\",\"name\":\"UnionRenderers\",\"id\":\"p1193\"},\"data\":{\"type\":\"map\",\"entries\":[[\"x\",{\"type\":\"ndarray\",\"array\":{\"type\":\"bytes\",\"data\":\"AAAAAAAAAAAxb2dIzNv5PzFvZ0jM2wlAZZNNNtlkE0Axb2dIzNsZQH+lQK1fKSBAZZNNNtlkI0BLgVq/UqAmQDFvZ0jM2ylAF1100UUXLUB/pUCtXykwQHIcx3EcxzFAZZNNNtlkM0BYCtT6lQI1QEuBWr9SoDZAPvjggw8+OEAxb2dIzNs5QCTm7QyJeTtAF1100UUXPUAK1PqVArU+QH+lQK1fKUBA+OCDDz74QEByHMdxHMdBQOtXCtT6lUJAZZNNNtlkQ0DezpCYtzNEQFgK1PqVAkVA0UUXXXTRRUBLgVq/UqBGQMS8nSExb0dAPvjggw8+SEC3MyTm7QxJQDFvZ0jM20lAq6qqqqqqSkAk5u0MiXlLQJ4hMW9nSExAF1100UUXTUCRmLczJOZNQArU+pUCtU5AhA8++OCDT0B/pUCtXylQQDtDYt7OkFBA+OCDDz74UEC1fqVArV9RQHIcx3Ecx1FALrrooosuUkDrVwrU+pVSQKj1KwVq/VJAZZNNNtlkU0AiMW9nSMxTQN7OkJi3M1RAm2yyySabVEBYCtT6lQJVQBWo9SsFalVA0UUXXXTRVUCO4ziO4zhWQEuBWr9SoFZACB988MEHV0DEvJ0hMW9XQIFav1Kg1ldAPvjggw8+WED7lQK1fqVYQLczJObtDFlAdNFFF110WUAxb2dIzNtZQO4MiXk7Q1pAq6qqqqqqWkBnSMzbGRJbQCTm7QyJeVtA4YMPPvjgW0CeITFvZ0hcQFq/UqDWr1xAF1100UUXXUDU+pUCtX5dQJGYtzMk5l1ATTbZZJNNXkAK1PqVArVeQMdxHMdxHF9AhA8++OCDX0BArV8pUOtfQH+lQK1fKWBAXXTRRRddYEA7Q2LezpBgQBoS83aGxGBA+OCDDz74YEDXrxSo9SthQLV+pUCtX2FAk0022WSTYUByHMdxHMdhQFDrVwrU+mFALrrooosuYkANiXk7Q2JiQOtXCtT6lWJAyiabbLLJYkCo9SsFav1iQIbEvJ0hMWNAZZNNNtlkY0BDYt7OkJhjQCIxb2dIzGNAAAAAAAAAZEA=\"},\"shape\":[100],\"dtype\":\"float64\",\"order\":\"little\"}],[\"y\",{\"type\":\"ndarray\",\"array\":{\"type\":\"bytes\",\"data\":\"AAAAAAAAAACrwiwHN10yQKvCLAc3XUJAACTDitKLS0CrwiwHN11SQFbz98iE9FZAACTDitKLW0BVKkcmkBFgQKvCLAc3XWJAAFsS6N2oZEBW8/fIhPRmQKuL3akrQGlAACTDitKLa0BVvKhreddtQFUqRyaQEXBAgPa5lmM3cUCrwiwHN11yQNWOn3cKg3NAAFsS6N2odEAqJ4VYsc51QFbz98iE9HZAgL9qOVgaeECri92pK0B5QNVXUBr/ZXpAACTDitKLe0Aq8DX7pbF8QFW8qGt5131Af4gb3Ez9fkBVKkcmkBGAQGqQgN55pIBAgPa5lmM3gUCVXPNOTcqBQKvCLAc3XYJAwChmvyDwgkDVjp93CoODQOv02C/0FYRAAFsS6N2ohEAVwUugxzuFQConhVixzoVAQI2+EJthhkBW8/fIhPSGQGpZMYFuh4dAgL9qOVgaiECVJaTxQa2IQKuL3akrQIlAv/EWYhXTiUDVV1Aa/2WKQOu9idLo+IpAACTDitKLi0AWivxCvB6MQCrwNfulsYxAQFZvs49EjUBVvKhredeNQGsi4iNjao5Af4gb3Ez9jkCV7lSUNpCPQFUqRyaQEZBAYN1jAgVbkEBqkIDeeaSQQHVDnbru7ZBAgPa5lmM3kUCLqdZy2ICRQJVc805NypFAoA8QK8ITkkCrwiwHN12SQLV1SeOrppJAwChmvyDwkkDK24KblTmTQNWOn3cKg5NA4EG8U3/Mk0Dr9Ngv9BWUQPWn9QtpX5RAAFsS6N2olEALDi/EUvKUQBXBS6DHO5VAIHRofDyFlUAqJ4VYsc6VQDXaoTQmGJZAQI2+EJthlkBKQNvsD6uWQFbz98iE9JZAYKYUpfk9l0BqWTGBboeXQHYMTl3j0JdAgL9qOVgamECLcocVzWOYQJUlpPFBrZhAn9jAzbb2mECri92pK0CZQLU++oWgiZlAv/EWYhXTmUDLpDM+ihyaQNVXUBr/ZZpA4Apt9nOvmkDrvYnS6PiaQPVwpq5dQptAACTDitKLm0AK199mR9WbQBaK/EK8HpxAID0ZHzFonEA=\"},\"shape\":[100],\"dtype\":\"float64\",\"order\":\"little\"}]]}}},\"view\":{\"type\":\"object\",\"name\":\"CDSView\",\"id\":\"p1198\",\"attributes\":{\"filter\":{\"type\":\"object\",\"name\":\"AllIndices\",\"id\":\"p1199\"}}},\"glyph\":{\"type\":\"object\",\"name\":\"Line\",\"id\":\"p1194\",\"attributes\":{\"x\":{\"type\":\"field\",\"field\":\"x\"},\"y\":{\"type\":\"field\",\"field\":\"y\"},\"line_color\":\"#843B62\",\"line_width\":3}},\"nonselection_glyph\":{\"type\":\"object\",\"name\":\"Line\",\"id\":\"p1195\",\"attributes\":{\"x\":{\"type\":\"field\",\"field\":\"x\"},\"y\":{\"type\":\"field\",\"field\":\"y\"},\"line_color\":\"#843B62\",\"line_alpha\":0.1,\"line_width\":3}},\"muted_glyph\":{\"type\":\"object\",\"name\":\"Line\",\"id\":\"p1196\",\"attributes\":{\"x\":{\"type\":\"field\",\"field\":\"x\"},\"y\":{\"type\":\"field\",\"field\":\"y\"},\"line_color\":\"#843B62\",\"line_alpha\":0.2,\"line_width\":3}}}},{\"type\":\"object\",\"name\":\"GlyphRenderer\",\"id\":\"p1208\",\"attributes\":{\"data_source\":{\"type\":\"object\",\"name\":\"ColumnDataSource\",\"id\":\"p1202\",\"attributes\":{\"selected\":{\"type\":\"object\",\"name\":\"Selection\",\"id\":\"p1203\",\"attributes\":{\"indices\":[],\"line_indices\":[]}},\"selection_policy\":{\"type\":\"object\",\"name\":\"UnionRenderers\",\"id\":\"p1204\"},\"data\":{\"type\":\"map\",\"entries\":[[\"x\",{\"type\":\"ndarray\",\"array\":{\"type\":\"bytes\",\"data\":\"AAAAAAAAAAAxb2dIzNv5PzFvZ0jM2wlAZZNNNtlkE0Axb2dIzNsZQH+lQK1fKSBAZZNNNtlkI0BLgVq/UqAmQDFvZ0jM2ylAF1100UUXLUB/pUCtXykwQHIcx3EcxzFAZZNNNtlkM0BYCtT6lQI1QEuBWr9SoDZAPvjggw8+OEAxb2dIzNs5QCTm7QyJeTtAF1100UUXPUAK1PqVArU+QH+lQK1fKUBA+OCDDz74QEByHMdxHMdBQOtXCtT6lUJAZZNNNtlkQ0DezpCYtzNEQFgK1PqVAkVA0UUXXXTRRUBLgVq/UqBGQMS8nSExb0dAPvjggw8+SEC3MyTm7QxJQDFvZ0jM20lAq6qqqqqqSkAk5u0MiXlLQJ4hMW9nSExAF1100UUXTUCRmLczJOZNQArU+pUCtU5AhA8++OCDT0B/pUCtXylQQDtDYt7OkFBA+OCDDz74UEC1fqVArV9RQHIcx3Ecx1FALrrooosuUkDrVwrU+pVSQKj1KwVq/VJAZZNNNtlkU0AiMW9nSMxTQN7OkJi3M1RAm2yyySabVEBYCtT6lQJVQBWo9SsFalVA0UUXXXTRVUCO4ziO4zhWQEuBWr9SoFZACB988MEHV0DEvJ0hMW9XQIFav1Kg1ldAPvjggw8+WED7lQK1fqVYQLczJObtDFlAdNFFF110WUAxb2dIzNtZQO4MiXk7Q1pAq6qqqqqqWkBnSMzbGRJbQCTm7QyJeVtA4YMPPvjgW0CeITFvZ0hcQFq/UqDWr1xAF1100UUXXUDU+pUCtX5dQJGYtzMk5l1ATTbZZJNNXkAK1PqVArVeQMdxHMdxHF9AhA8++OCDX0BArV8pUOtfQH+lQK1fKWBAXXTRRRddYEA7Q2LezpBgQBoS83aGxGBA+OCDDz74YEDXrxSo9SthQLV+pUCtX2FAk0022WSTYUByHMdxHMdhQFDrVwrU+mFALrrooosuYkANiXk7Q2JiQOtXCtT6lWJAyiabbLLJYkCo9SsFav1iQIbEvJ0hMWNAZZNNNtlkY0BDYt7OkJhjQCIxb2dIzGNAAAAAAAAAZEA=\"},\"shape\":[100],\"dtype\":\"float64\",\"order\":\"little\"}],[\"y\",{\"type\":\"ndarray\",\"array\":{\"type\":\"bytes\",\"data\":\"AAAAAAAAAABbtHDMpBN2QFu0cMykE4ZARYdUmbuOkEBbtHDMpBOWQHPhjP+NmJtARYdUmbuOoEDQneIyMFGjQFu0cMykE6ZA58r+ZRnWqEBz4Yz/jZirQP73GpkCW65ARYdUmbuOsECKkhvm9e+xQNCd4jIwUbNAFqmpf2qytEBbtHDMpBO2QKG/NxnfdLdA58r+ZRnWuEAs1sWyUze6QHPhjP+NmLtAuOxTTMj5vED+9xqZAlu+QEMD4uU8vL9ARYdUmbuOwEDnDLi/WD/BQIqSG+b178FALRh/DJOgwkDQneIyMFHDQHIjRlnNAcRAFqmpf2qyxEC4Lg2mB2PFQFu0cMykE8ZA/znU8kHExkChvzcZ33THQERFmz98JchA58r+ZRnWyECKUGKMtobJQCzWxbJTN8pA0Fsp2fDnykBz4Yz/jZjLQBRn8CUrScxAuOxTTMj5zEBbcrdyZarNQP73GpkCW85AoH1+v58Lz0BDA+LlPLzPQHPEIgZtNtBARYdUmbuO0EAWSoYsCufQQOcMuL9YP9FAuc/pUqeX0UCKkhvm9e/RQFxVTXlESNJALRh/DJOg0kD+2rCf4fjSQNCd4jIwUdNAomAUxn6p00ByI0ZZzQHUQETmd+wbWtRAFqmpf2qy1EDna9sSuQrVQLguDaYHY9VAivE+OVa71UBbtHDMpBPWQC13ol/za9ZA/znU8kHE1kDP/AWGkBzXQKG/NxnfdNdAc4JprC3N10BERZs/fCXYQBUIzdLKfdhA58r+ZRnW2EC4jTD5Zy7ZQIpQYoy2htlAWxOUHwXf2UAs1sWyUzfaQP6Y90Wij9pA0Fsp2fDn2kCgHltsP0DbQHPhjP+NmNtARKS+ktzw20AUZ/AlK0ncQOcpIrl5odxAuOxTTMj53ECKr4XfFlLdQFtyt3Jlqt1ALDXpBbQC3kD+9xqZAlveQM+6TCxRs95AoH1+v58L30ByQLBS7mPfQEMD4uU8vN9AC+OJvEUK4EBzxCIGbTbgQNulu0+UYuBARYdUmbuO4ECtaO3i4rrgQBZKhiwK5+BAfysfdjET4UA=\"},\"shape\":[100],\"dtype\":\"float64\",\"order\":\"little\"}]]}}},\"view\":{\"type\":\"object\",\"name\":\"CDSView\",\"id\":\"p1209\",\"attributes\":{\"filter\":{\"type\":\"object\",\"name\":\"AllIndices\",\"id\":\"p1210\"}}},\"glyph\":{\"type\":\"object\",\"name\":\"Line\",\"id\":\"p1205\",\"attributes\":{\"x\":{\"type\":\"field\",\"field\":\"x\"},\"y\":{\"type\":\"field\",\"field\":\"y\"},\"line_color\":\"#326273\",\"line_width\":3}},\"nonselection_glyph\":{\"type\":\"object\",\"name\":\"Line\",\"id\":\"p1206\",\"attributes\":{\"x\":{\"type\":\"field\",\"field\":\"x\"},\"y\":{\"type\":\"field\",\"field\":\"y\"},\"line_color\":\"#326273\",\"line_alpha\":0.1,\"line_width\":3}},\"muted_glyph\":{\"type\":\"object\",\"name\":\"Line\",\"id\":\"p1207\",\"attributes\":{\"x\":{\"type\":\"field\",\"field\":\"x\"},\"y\":{\"type\":\"field\",\"field\":\"y\"},\"line_color\":\"#326273\",\"line_alpha\":0.2,\"line_width\":3}}}},{\"type\":\"object\",\"name\":\"GlyphRenderer\",\"id\":\"p1218\",\"attributes\":{\"data_source\":{\"type\":\"object\",\"name\":\"ColumnDataSource\",\"id\":\"p1212\",\"attributes\":{\"selected\":{\"type\":\"object\",\"name\":\"Selection\",\"id\":\"p1213\",\"attributes\":{\"indices\":[],\"line_indices\":[]}},\"selection_policy\":{\"type\":\"object\",\"name\":\"UnionRenderers\",\"id\":\"p1214\"},\"data\":{\"type\":\"map\"}}},\"view\":{\"type\":\"object\",\"name\":\"CDSView\",\"id\":\"p1219\",\"attributes\":{\"filter\":{\"type\":\"object\",\"name\":\"AllIndices\",\"id\":\"p1220\"}}},\"glyph\":{\"type\":\"object\",\"name\":\"Circle\",\"id\":\"p1215\",\"attributes\":{\"x\":{\"type\":\"value\",\"value\":150},\"y\":{\"type\":\"value\",\"value\":2},\"size\":{\"type\":\"value\",\"value\":10},\"line_color\":{\"type\":\"value\",\"value\":\"#CE8964\"},\"fill_color\":{\"type\":\"value\",\"value\":\"#CE8964\"},\"hatch_color\":{\"type\":\"value\",\"value\":\"#CE8964\"}}},\"nonselection_glyph\":{\"type\":\"object\",\"name\":\"Circle\",\"id\":\"p1216\",\"attributes\":{\"x\":{\"type\":\"value\",\"value\":150},\"y\":{\"type\":\"value\",\"value\":2},\"size\":{\"type\":\"value\",\"value\":10},\"line_color\":{\"type\":\"value\",\"value\":\"#CE8964\"},\"line_alpha\":{\"type\":\"value\",\"value\":0.1},\"fill_color\":{\"type\":\"value\",\"value\":\"#CE8964\"},\"fill_alpha\":{\"type\":\"value\",\"value\":0.1},\"hatch_color\":{\"type\":\"value\",\"value\":\"#CE8964\"},\"hatch_alpha\":{\"type\":\"value\",\"value\":0.1}}},\"muted_glyph\":{\"type\":\"object\",\"name\":\"Circle\",\"id\":\"p1217\",\"attributes\":{\"x\":{\"type\":\"value\",\"value\":150},\"y\":{\"type\":\"value\",\"value\":2},\"size\":{\"type\":\"value\",\"value\":10},\"line_color\":{\"type\":\"value\",\"value\":\"#CE8964\"},\"line_alpha\":{\"type\":\"value\",\"value\":0.2},\"fill_color\":{\"type\":\"value\",\"value\":\"#CE8964\"},\"fill_alpha\":{\"type\":\"value\",\"value\":0.2},\"hatch_color\":{\"type\":\"value\",\"value\":\"#CE8964\"},\"hatch_alpha\":{\"type\":\"value\",\"value\":0.2}}}}}],\"toolbar\":{\"type\":\"object\",\"name\":\"Toolbar\",\"id\":\"p1171\",\"attributes\":{\"tools\":[{\"type\":\"object\",\"name\":\"PanTool\",\"id\":\"p1184\"},{\"type\":\"object\",\"name\":\"WheelZoomTool\",\"id\":\"p1185\"},{\"type\":\"object\",\"name\":\"BoxZoomTool\",\"id\":\"p1186\",\"attributes\":{\"overlay\":{\"type\":\"object\",\"name\":\"BoxAnnotation\",\"id\":\"p1187\",\"attributes\":{\"syncable\":false,\"level\":\"overlay\",\"visible\":false,\"left_units\":\"canvas\",\"right_units\":\"canvas\",\"bottom_units\":\"canvas\",\"top_units\":\"canvas\",\"line_color\":\"black\",\"line_alpha\":1.0,\"line_width\":2,\"line_dash\":[4,4],\"fill_color\":\"lightgrey\",\"fill_alpha\":0.5}}}},{\"type\":\"object\",\"name\":\"SaveTool\",\"id\":\"p1188\"},{\"type\":\"object\",\"name\":\"ResetTool\",\"id\":\"p1189\"},{\"type\":\"object\",\"name\":\"HelpTool\",\"id\":\"p1190\"}]}},\"left\":[{\"type\":\"object\",\"name\":\"LinearAxis\",\"id\":\"p1179\",\"attributes\":{\"ticker\":{\"type\":\"object\",\"name\":\"BasicTicker\",\"id\":\"p1180\",\"attributes\":{\"mantissas\":[1,2,5]}},\"formatter\":{\"type\":\"object\",\"name\":\"BasicTickFormatter\",\"id\":\"p1181\"},\"axis_label\":\"L\",\"major_label_policy\":{\"type\":\"object\",\"name\":\"AllLabels\",\"id\":\"p1182\"}}}],\"below\":[{\"type\":\"object\",\"name\":\"LinearAxis\",\"id\":\"p1174\",\"attributes\":{\"ticker\":{\"type\":\"object\",\"name\":\"BasicTicker\",\"id\":\"p1175\",\"attributes\":{\"mantissas\":[1,2,5]}},\"formatter\":{\"type\":\"object\",\"name\":\"BasicTickFormatter\",\"id\":\"p1176\"},\"axis_label\":\"M\",\"major_label_policy\":{\"type\":\"object\",\"name\":\"AllLabels\",\"id\":\"p1177\"}}}],\"center\":[{\"type\":\"object\",\"name\":\"Grid\",\"id\":\"p1178\",\"attributes\":{\"axis\":{\"id\":\"p1174\"}}},{\"type\":\"object\",\"name\":\"Grid\",\"id\":\"p1183\",\"attributes\":{\"dimension\":1,\"axis\":{\"id\":\"p1179\"}}},{\"type\":\"object\",\"name\":\"Legend\",\"id\":\"p1200\",\"attributes\":{\"location\":\"top_left\",\"items\":[{\"type\":\"object\",\"name\":\"LegendItem\",\"id\":\"p1201\",\"attributes\":{\"label\":{\"type\":\"value\",\"value\":\"r1\"},\"renderers\":[{\"id\":\"p1197\"}]}},{\"type\":\"object\",\"name\":\"LegendItem\",\"id\":\"p1211\",\"attributes\":{\"label\":{\"type\":\"value\",\"value\":\"r2\"},\"renderers\":[{\"id\":\"p1208\"}]}},{\"type\":\"object\",\"name\":\"LegendItem\",\"id\":\"p1221\",\"attributes\":{\"label\":{\"type\":\"value\",\"value\":\"(M,L) coordinate\"},\"renderers\":[{\"id\":\"p1218\"}]}}]}}]}}]}};\n",
       "  const render_items = [{\"docid\":\"8b3f0436-c325-41ff-96aa-8c33c0005a22\",\"roots\":{\"p1162\":\"ee6af075-2d89-42b2-a204-5c34673aef65\"},\"root_ids\":[\"p1162\"]}];\n",
       "  root.Bokeh.embed.embed_items_notebook(docs_json, render_items);\n",
       "  }\n",
       "  if (root.Bokeh !== undefined) {\n",
       "    embed_document(root);\n",
       "  } else {\n",
       "    let attempts = 0;\n",
       "    const timer = setInterval(function(root) {\n",
       "      if (root.Bokeh !== undefined) {\n",
       "        clearInterval(timer);\n",
       "        embed_document(root);\n",
       "      } else {\n",
       "        attempts++;\n",
       "        if (attempts > 100) {\n",
       "          clearInterval(timer);\n",
       "          console.log(\"Bokeh: ERROR: Unable to run BokehJS code because BokehJS library is missing\");\n",
       "        }\n",
       "      }\n",
       "    }, 10, root)\n",
       "  }\n",
       "})(window);"
      ],
      "application/vnd.bokehjs_exec.v0+json": ""
     },
     "metadata": {
      "application/vnd.bokehjs_exec.v0+json": {
       "id": "p1162"
      }
     },
     "output_type": "display_data"
    }
   ],
   "source": [
    "x_lm = np.linspace(0,M + 10,100)\n",
    "y_lm1 = x_lm * eval1\n",
    "y_lm2 = x_lm * eval2\n",
    "\n",
    "\n",
    "p3 = bokeh.plotting.figure(width = 400, height = 300,\n",
    "                          y_axis_label = 'L',\n",
    "                          x_axis_label = 'M',\n",
    "                          title = '(M,L) = (100,2)')\n",
    "\n",
    "p3.line(x = x_lm, y = y_lm1, legend_label = 'r1', color = colors[0], line_width = 3)\n",
    "p3.line(x = x_lm, y = y_lm2, legend_label = 'r2', color = colors[1], line_width = 3)\n",
    "p3.circle(x = M, y = L, size = 10, color = '#CE8964', legend_label = '(M,L) coordinate')\n",
    "p3.legend.location = 'top_left'\n",
    "\n",
    "bokeh.io.show(p3)"
   ]
  },
  {
   "cell_type": "markdown",
   "id": "e9364197-74fe-418e-bec2-8ac4c99c9064",
   "metadata": {},
   "source": [
    "From this plot, we see that we are in the regime where we might be able to trust PC1 and PC2."
   ]
  },
  {
   "cell_type": "code",
   "execution_count": 20,
   "id": "1e25b9d9-c8fb-4226-b4fd-e645ab4b5ce0",
   "metadata": {},
   "outputs": [
    {
     "name": "stdout",
     "output_type": "stream",
     "text": [
      "Python implementation: CPython\n",
      "Python version       : 3.9.13\n",
      "IPython version      : 7.31.1\n",
      "\n",
      "numpy     : 1.21.6\n",
      "bokeh     : 3.2.0\n",
      "jupyterlab: 3.4.4\n",
      "\n"
     ]
    }
   ],
   "source": [
    "%load_ext watermark\n",
    "%watermark -v -p numpy,bokeh,jupyterlab"
   ]
  }
 ],
 "metadata": {
  "kernelspec": {
   "display_name": "Python 3 (ipykernel)",
   "language": "python",
   "name": "python3"
  },
  "language_info": {
   "codemirror_mode": {
    "name": "ipython",
    "version": 3
   },
   "file_extension": ".py",
   "mimetype": "text/x-python",
   "name": "python",
   "nbconvert_exporter": "python",
   "pygments_lexer": "ipython3",
   "version": "3.9.13"
  }
 },
 "nbformat": 4,
 "nbformat_minor": 5
}
