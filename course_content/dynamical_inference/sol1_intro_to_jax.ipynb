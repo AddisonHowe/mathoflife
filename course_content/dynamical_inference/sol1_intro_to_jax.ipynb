{
 "cells": [
  {
   "cell_type": "markdown",
   "metadata": {},
   "source": [
    "# Physics Informed Dynamical Inference (I): Introduction to JAX\n",
    "Author: Addison Howe"
   ]
  },
  {
   "cell_type": "markdown",
   "metadata": {},
   "source": [
    "*JAX is a Python library for accelerator-oriented array computation and program transformation, designed for high-performance numerical computing and large-scale machine learning.* (From the [JAX documentation](https://github.com/google/jax).)\n",
    " \n",
    "JAX offers automatic differentiation capabilities, similar to packages such as Pytorch and Tensorflow. \n",
    "It also offers just-in-time compilation for user-defined Python functions, meaning that your code will run faster, with less overhead from the Python interpreter.\n",
    "Again from the JAX Github: \"Compilation and automatic differentiation can be composed arbitrarily, so you can express sophisticated algorithms and get maximal performance without leaving Python.\"\n",
    "\n",
    "## Installing JAX\n",
    "\n",
    "Assuming that you've installed conda on your system, you can install JAX in your current conda environment by running `conda install jax` from the command line.\n",
    "For the purposes of this tutorial, we'll start by making a fresh conda environment. \n",
    "In the command line, run\n",
    "```bash\n",
    "conda create -n jaxenv python=3.10 numpy=1.26 matplotlib=3.8 jax=0.4 diffrax=0.5 ipykernel\n",
    "conda activate jaxenv\n",
    "```\n",
    "This will create a new environment, called `jaxenv`, that will contain the JAX-related packages we'll be using.\n",
    "Test that you can import the `jax` and `diffrax` libraries by running \n",
    "```bash\n",
    "python -c \"import jax; import diffrax; print('Success!')\"\n",
    "```\n",
    "Note that this installation should be fine for our purposes, since we'll be running all of our code on a CPU. \n",
    "However, if you want to use JAX for your own research, taking advantage of high-performance architectures such as GPUs, you'll want to take a look at the other [installation options](https://github.com/google/jax?tab=readme-ov-file#installation).\n"
   ]
  },
  {
   "cell_type": "markdown",
   "metadata": {},
   "source": [
    "## JAX Basics\n",
    "Now that we've successfully installed JAX, let's dive into some basic functionality.\n",
    "Feel free to check out the [JAX Quickstart](https://jax.readthedocs.io/en/latest/notebooks/quickstart.html) page for additional information.\n",
    "\n",
    "JAX comes with its own \"version\" of numpy, which feels a lot like the standard numpy package.\n",
    "Pretty much everything we can do in numpy, we can also do in JAX.\n",
    "One important thing to note is that JAX by default works with single-precision data, i.e. arrays have float32 or int32 datatypes.\n",
    "For machine learning applications, this is fairly common, but if we want 64-bit data for scientific computing purposes, we can set an environment variable or change a configuration setting, as we do below.\n",
    "More details about this can be found in the [documentation](https://jax.readthedocs.io/en/latest/notebooks/Common_Gotchas_in_JAX.html#double-64bit-precision)."
   ]
  },
  {
   "cell_type": "code",
   "execution_count": 1,
   "metadata": {},
   "outputs": [
    {
     "data": {
      "text/plain": [
       "Array([1, 2, 3], dtype=int64)"
      ]
     },
     "execution_count": 1,
     "metadata": {},
     "output_type": "execute_result"
    }
   ],
   "source": [
    "# If you want double precision datatypes, this needs to be done at startup,\n",
    "# when you first import stuff from jax.\n",
    "from jax import config\n",
    "config.update(\"jax_enable_x64\", True)\n",
    "\n",
    "# JAX's version of numpy\n",
    "import jax.numpy as jnp\n",
    "\n",
    "jnp.array([1,2,3])  # create an array. Notice the datatype is int64"
   ]
  },
  {
   "cell_type": "markdown",
   "metadata": {},
   "source": [
    "Notice the datatype of the array is `int64`. If you restart your kernel and comment out the `config.update(...)` line, you'll see that without it the array will be `int32` instead.\n",
    "Let's do some basic operations with arrays."
   ]
  },
  {
   "cell_type": "code",
   "execution_count": 2,
   "metadata": {},
   "outputs": [
    {
     "name": "stdout",
     "output_type": "stream",
     "text": [
      "x                    : [1. 2. 3.]\n",
      "y                    : [1. 0. 1.]\n",
      "x + y                : [2. 2. 4.]\n",
      "jnp.linalg.norm(y)   : 1.4142135623730951\n",
      "2*x + 3*y            : [5. 4. 9.]\n",
      "jnp.dot(x,y)         : 4.0\n"
     ]
    }
   ],
   "source": [
    "x = jnp.array([1, 2, 3], dtype=jnp.float64)  # explicitly request float64 data\n",
    "y = jnp.array([1, 0, 1], dtype=jnp.float64)\n",
    "\n",
    "print(\"x                    :\", x)\n",
    "print(\"y                    :\", y)\n",
    "print(\"x + y                :\", x + y)\n",
    "print(\"jnp.linalg.norm(y)   :\", jnp.linalg.norm(y))\n",
    "print(\"2*x + 3*y            :\", 2*x + 3*y)\n",
    "print(\"jnp.dot(x,y)         :\", jnp.dot(x, y))"
   ]
  },
  {
   "cell_type": "markdown",
   "metadata": {},
   "source": [
    "Some other helpful carryovers from numpy that we'll make use..."
   ]
  },
  {
   "cell_type": "code",
   "execution_count": 3,
   "metadata": {},
   "outputs": [
    {
     "name": "stdout",
     "output_type": "stream",
     "text": [
      "[0.   0.25 0.5  0.75 1.  ]\n",
      "[[1. 1.]\n",
      " [1. 1.]\n",
      " [1. 1.]]\n"
     ]
    }
   ],
   "source": [
    "print(jnp.linspace(0, 1, 5))\n",
    "print(jnp.ones([3,2]))"
   ]
  },
  {
   "cell_type": "markdown",
   "metadata": {},
   "source": [
    "## Automatic Differentiation and Vecorization in JAX\n",
    "\n",
    "Two features that make JAX very powerful for scientific computing include its [automatic differentiation](https://jax.readthedocs.io/en/latest/notebooks/autodiff_cookbook.html#the-autodiff-cookbook) and [vectorization](https://jax.readthedocs.io/en/latest/jax-101/03-vectorization.html#automatic-vectorization) capabilities.\n",
    "\n",
    "### Basic differentiation with `grad`\n",
    "\n",
    "We can take derivatives of scalar functions easily, using the `jax.grad` function. By default, `jax.grad` takes in a function `f(x, ...)` and returns another function, the derivative of the function `f` with respect to its first argument, `x`."
   ]
  },
  {
   "cell_type": "code",
   "execution_count": 4,
   "metadata": {},
   "outputs": [],
   "source": [
    "import matplotlib.pyplot as plt\n",
    "from jax import grad"
   ]
  },
  {
   "cell_type": "code",
   "execution_count": 5,
   "metadata": {},
   "outputs": [
    {
     "name": "stdout",
     "output_type": "stream",
     "text": [
      "   f(0) = 0.0\n",
      "  f'(0) = 1.0\n",
      " f''(0) = -0.0\n",
      "f'''(0) = -1.0\n"
     ]
    }
   ],
   "source": [
    "f = jnp.sin  # f is the sine function, defined in jax.numpy\n",
    "\n",
    "fx = grad(jnp.sin)                # fx is the 1st derivative of sine\n",
    "fxx = grad(grad(jnp.sin))         # fxx is the 2nd derivative of sine\n",
    "fxxx = grad(grad(grad(jnp.sin)))  # fxxx is the 3rd derivative of sine\n",
    "\n",
    "# Warning: the inputs to these functions must be floats, not integers.\n",
    "# If you use int 0 instead of float 0. (with a period) an error will be thrown.\n",
    "\n",
    "print(f\"   f(0) = { f(0.) }\")\n",
    "print(f\"  f'(0) = { fx(0.) }\")\n",
    "print(f\" f''(0) = { fxx(0.) }\")\n",
    "print(f\"f'''(0) = { fxxx(0.) }\")\n"
   ]
  },
  {
   "cell_type": "markdown",
   "metadata": {},
   "source": [
    "We can also use the `grad` function to differentiate functions with respect to positional arguments.\n",
    "As an example, consider the function \n",
    "$$f(x,y) = xy^2$$\n",
    "with \n",
    "$$\n",
    "\\begin{align}\n",
    "    \\frac{\\partial}{\\partial x}f(x,y) &= y^2 \\\\\n",
    "    \\frac{\\partial}{\\partial y}f(x,y) &= 2xy\n",
    "\\end{align}\n",
    "$$\n"
   ]
  },
  {
   "cell_type": "code",
   "execution_count": 6,
   "metadata": {},
   "outputs": [
    {
     "name": "stdout",
     "output_type": "stream",
     "text": [
      " f = 18.0\n",
      "fx = 9.0\n",
      "fy = 12.0\n"
     ]
    }
   ],
   "source": [
    "def f(x, y):\n",
    "    return x*y*y\n",
    "\n",
    "fx = grad(f, 0)  # Derivative in the 0th argument (x). Same as grad(f).\n",
    "fy = grad(f, 1)  # Derivative in the 1st argument (y).\n",
    "\n",
    "x = 2.\n",
    "y = 3.\n",
    "\n",
    "print(f\" f = {f(x, y)}\")\n",
    "print(f\"fx = {fx(x, y)}\")\n",
    "print(f\"fy = {fy(x, y)}\")"
   ]
  },
  {
   "cell_type": "markdown",
   "metadata": {},
   "source": [
    "Often in computing we will deal with functions $f:\\mathbb{R}^n\\to\\mathbb{R}^m$, where $n$ and $m$ can be very large.\n",
    "In these cases, we'll often define our python functions in terms of inputs that we assume to be vectors, or arrays.\n",
    "For example, if we think of the function above as mapping a 2-vector to a scalar, $f:\\mathbb{R}^2\\to\\mathbb{R}$, we can rewrite it in python, treating its input `x` as a 2-vector $(x,y)$.\n",
    "Then, if we take the gradient of $f$ with respect to the first input, it should return the gradient *vector*, $(f_x, f_y)$."
   ]
  },
  {
   "cell_type": "code",
   "execution_count": 7,
   "metadata": {},
   "outputs": [
    {
     "name": "stdout",
     "output_type": "stream",
     "text": [
      "        f(x) = 18.0\n",
      "(grad(f))(x) = [ 9. 12.]\n"
     ]
    }
   ],
   "source": [
    "# Now `x` represents the 2-vector (x,y) \n",
    "def f(x):\n",
    "    return x[0] * x[1] * x[1]\n",
    "\n",
    "x = jnp.array([2., 3.])  # still use the point (x, y) = (2, 3)\n",
    "\n",
    "g = grad(f)\n",
    "\n",
    "print(f\"        f(x) = {f(x)}\")\n",
    "print(f\"(grad(f))(x) = {g(x)}\")"
   ]
  },
  {
   "cell_type": "markdown",
   "metadata": {},
   "source": [
    "### Vectorizing functions using `vmap`\n",
    "\n",
    "If you've used numpy before, you probably know that it is convenient for vectorized operations, meaning that if you define a function and use \"basic\" operations, you can often apply the function over an array of inputs, and it just works. For example,"
   ]
  },
  {
   "cell_type": "code",
   "execution_count": 8,
   "metadata": {},
   "outputs": [
    {
     "name": "stdout",
     "output_type": "stream",
     "text": [
      "[18.  4.  3.]\n"
     ]
    }
   ],
   "source": [
    "def f(x, y):\n",
    "    return x * y * y\n",
    "\n",
    "x = jnp.array([2., 1., 3.])\n",
    "y = jnp.array([3., 2., 1.])\n",
    "\n",
    "print(f(x, y))"
   ]
  },
  {
   "cell_type": "markdown",
   "metadata": {},
   "source": [
    "However, we run into a problem if we try to do something like this with the gradient version of the function. \n",
    "The following code will produce an error..."
   ]
  },
  {
   "cell_type": "code",
   "execution_count": 9,
   "metadata": {},
   "outputs": [
    {
     "name": "stdout",
     "output_type": "stream",
     "text": [
      "Encountered an error: Gradient only defined for scalar-output functions. Output had shape: (3,).\n"
     ]
    }
   ],
   "source": [
    "def f(x, y):\n",
    "    return x * y * y\n",
    "\n",
    "x = jnp.array([2., 1., 3.])\n",
    "y = jnp.array([3., 2., 1.])\n",
    "\n",
    "grad_f = grad(f, 1)  # take the partial derivative with respect to y.\n",
    "\n",
    "try:\n",
    "    grad_f(x, y)  # this raises an error!\n",
    "except TypeError as e:\n",
    "    print(\"Encountered an error:\", e)"
   ]
  },
  {
   "cell_type": "markdown",
   "metadata": {},
   "source": [
    "To get around this, we can use the `jax.vmap` function to vectorize arbitrary functions.\n",
    "This is a very convenient and flexible feature, that allows us to vectorize over certain axes of certain inputs. \n",
    "For example, to achieve what we want above, we can vectorize the gradient function so that the vectorized version will take in two arrays of length $n$ and return an array of length $n$."
   ]
  },
  {
   "cell_type": "code",
   "execution_count": 10,
   "metadata": {},
   "outputs": [
    {
     "name": "stdout",
     "output_type": "stream",
     "text": [
      "[12.  4.  6.]\n"
     ]
    }
   ],
   "source": [
    "from jax import vmap\n",
    "\n",
    "def f(x, y):\n",
    "    return x * y * y\n",
    "\n",
    "x = jnp.array([2., 1., 3.])\n",
    "y = jnp.array([3., 2., 1.])\n",
    "\n",
    "grad_f = grad(f, 1)  # take the partial derivative with respect to y, as above.\n",
    "\n",
    "# Now we vectorize the gradient function.\n",
    "# The second argument 0 says to vectorize over the 0th axis of each input.\n",
    "vectorized_grad = vmap(grad_f, 0)\n",
    "\n",
    "print(vectorized_grad(x, y))"
   ]
  },
  {
   "cell_type": "markdown",
   "metadata": {},
   "source": [
    "#### Exercise 1: \n",
    "Consider the function $f:\\mathbb{R}^3\\to\\mathbb{R}$ with\n",
    "$$f(x,y,z)=xy+z$$\n",
    "and define the python function `f(x)` where `x` represents the 3-vector $(x,y,z)$.\n",
    "\n",
    "1. Use `vmap` to vectorize the function, so that the vectorized version takes a 2D-array of shape `(n, 3)` and returns an array of shape `(n,)`.\n",
    "2. Use `vmap` and `grad` to construct a vectorized version of the gradient function $\\nabla f=(f_x, f_y, f_z)$. This function should take as input a 2d-array of shape `(n, 3)` and return a 2d-array of shape `(n, 3)`.\n"
   ]
  },
  {
   "cell_type": "code",
   "execution_count": 11,
   "metadata": {},
   "outputs": [],
   "source": [
    "def f(x):  # `x`` is a 3-vector (x,y,z)\n",
    "    return x[0] * x[1] + x[2]  # f = xy+z"
   ]
  },
  {
   "cell_type": "code",
   "execution_count": 12,
   "metadata": {},
   "outputs": [
    {
     "name": "stdout",
     "output_type": "stream",
     "text": [
      "Got result:\n",
      " [0. 3. 2. 7.]\n"
     ]
    }
   ],
   "source": [
    "# Exercise 1.1: Vectorize the function f.\n",
    "\n",
    "vectorized_f = lambda x: \"Not Implemented!\"  # ignore this line\n",
    "\n",
    "#!-------------------------  TODO: YOUR CODE HERE  -------------------------!#\n",
    "# Construct the function `vectorized_f`.\n",
    "\n",
    "vectorized_f = vmap(f, 0)\n",
    "\n",
    "#!--------------------------------------------------------------------------!#\n",
    "\n",
    "# Input: Array of shape (4, 3)\n",
    "xs = jnp.array([\n",
    "    [1, 0, 0],\n",
    "    [0, 1, 3],\n",
    "    [1, 1, 1],\n",
    "    [2, 3, 1],\n",
    "], dtype=jnp.float64)\n",
    "\n",
    "result = vectorized_f(xs)\n",
    "print(\"Got result:\\n\", result)"
   ]
  },
  {
   "cell_type": "code",
   "execution_count": 13,
   "metadata": {},
   "outputs": [
    {
     "name": "stdout",
     "output_type": "stream",
     "text": [
      "Got result:\n",
      " [[0. 1. 1.]\n",
      " [1. 0. 1.]\n",
      " [1. 1. 1.]\n",
      " [3. 2. 1.]]\n"
     ]
    }
   ],
   "source": [
    "# Exercise 1.2: Vectorize the gradient of the function f.\n",
    "\n",
    "vectorized_grad_f = lambda x: \"Not Implemented!\"  # ignore this line\n",
    "\n",
    "#!-------------------------  TODO: YOUR CODE HERE  -------------------------!#\n",
    "# Construct the function `vectorized_grad_f`.\n",
    "\n",
    "vectorized_grad_f = vmap(grad(f, 0), 0)\n",
    "\n",
    "#!--------------------------------------------------------------------------!#\n",
    "\n",
    "# Input: Array of shape (4, 3)\n",
    "xs = jnp.array([\n",
    "    [1, 0, 0],\n",
    "    [0, 1, 3],\n",
    "    [1, 1, 1],\n",
    "    [2, 3, 1],\n",
    "], dtype=jnp.float64)\n",
    "\n",
    "result = vectorized_grad_f(xs)\n",
    "print(\"Got result:\\n\", result)"
   ]
  },
  {
   "cell_type": "markdown",
   "metadata": {},
   "source": [
    "#### Exercise 2:\n",
    "\n",
    "Use `jax.grad` and `jax.vmap` to plot a function $f$ and its derivative $f'$ over an interval $x\\in[-1, 1]$.\n",
    "Compute arrays `ys` and `yprimes`, the value of the function and its derivative, respectively."
   ]
  },
  {
   "cell_type": "code",
   "execution_count": 14,
   "metadata": {},
   "outputs": [
    {
     "data": {
      "image/png": "[encoded data removed]",
      "text/plain": [
       "<Figure size 1000x400 with 2 Axes>"
      ]
     },
     "metadata": {},
     "output_type": "display_data"
    }
   ],
   "source": [
    "def f(x):\n",
    "    return x**3  # Feel free to change the function\n",
    "\n",
    "xs = jnp.linspace(-1, 1, 1000)\n",
    "\n",
    "ys = 0. * xs        # placeholder for the function\n",
    "yprimes = 0. * xs   # placeholder for the derivative\n",
    "\n",
    "\n",
    "#!-------------------------  TODO: YOUR CODE HERE  -------------------------!#\n",
    "# Compute the arrays `ys` and `yprimes`\n",
    "\n",
    "ys = f(xs)  # don't need to use vmap in this case\n",
    "yprimes = vmap(grad(f))(xs)\n",
    "\n",
    "#!--------------------------------------------------------------------------!#\n",
    "\n",
    "\n",
    "fig, [ax1, ax2] = plt.subplots(1, 2, figsize=(10,4))\n",
    "\n",
    "ax1.plot(xs, ys)  # Plot the function\n",
    "ax1.set_xlabel(\"$x$\")\n",
    "ax1.set_ylabel(\"$f(x)$\")\n",
    "ax1.set_title(\"$f(x)$\")\n",
    "\n",
    "ax2.plot(xs, yprimes)  # Plot the derivative\n",
    "ax2.set_xlabel(\"$x$\")\n",
    "ax2.set_ylabel(\"$f'(x)$\")\n",
    "ax2.set_title(\"$f'(x)$\")\n",
    "\n",
    "plt.tight_layout()"
   ]
  },
  {
   "cell_type": "markdown",
   "metadata": {},
   "source": [
    "### More with Vector-Valued Functions: Jacobians\n",
    "\n",
    "Recall that the Jacobian matrix $J\\in\\mathbb{R}^{m\\times n}$ of a transformation $F:\\mathbb{R}^n\\to\\mathbb{R}^m$ is an $m\\times n$ matrix containing the partial derivatives of each component of $F$ with respect to each input. That is,\n",
    "$$J_{ij} = \\frac{\\partial F_i}{\\partial x_j}.$$\n",
    "\n",
    "For example, if \n",
    "$$F(x,y) = \\begin{bmatrix}  xy \\\\ xy^2 \\\\ x^2 y \\end{bmatrix}, \\;\\;\\; F:\\mathbb{R}^2\\to\\mathbb{R}^3$$\n",
    "then the Jacobian of $F$ is\n",
    "$$\n",
    "J(x,y) = \\begin{bmatrix} \n",
    "    y   & x \\\\\n",
    "    y^2 & 2xy \\\\\n",
    "    2xy & x^2\n",
    "\\end{bmatrix}.\n",
    "$$\n",
    "\n",
    "JAX offers two functions to compute the Jacobian, `jacfwd` and `jacrev`.\n",
    "Both functions will compute the Jacobian correctly, but `jacfwd` uses forward-mode automatic differentiation, while `jacrev` uses reverse-mode.\n",
    "This difference in implementation comes down to whether the Jacobian is computed column by column, or row by row. \n",
    "If the Jacobian is \"tall,\" as in the example above with $m > n$, then forward-mode is more efficient.\n",
    "If the Jacobian is \"wide,\" with more columns than rows, $n\\gg m$, then reverse-mode is more efficient.\n",
    "For more details regarding the specific implementation of these functions, and the mathematics behind them, refer to the [documentation](https://jax.readthedocs.io/en/latest/notebooks/autodiff_cookbook.html#jacobians-and-hessians-using-jacfwd-and-jacrev).\n"
   ]
  },
  {
   "cell_type": "code",
   "execution_count": 15,
   "metadata": {},
   "outputs": [
    {
     "name": "stdout",
     "output_type": "stream",
     "text": [
      "[[2. 1.]\n",
      " [4. 4.]\n",
      " [4. 1.]]\n"
     ]
    }
   ],
   "source": [
    "from jax import jacfwd, jacrev\n",
    "\n",
    "def F(x):\n",
    "    return jnp.array([ \n",
    "        x[0] * x[1],            # xy\n",
    "        x[0] * x[1] * x[1],     # x y^2\n",
    "        x[0] * x[0] * x[1],     # x^2 y\n",
    "    ])\n",
    "\n",
    "x = jnp.array([1., 2.])\n",
    "\n",
    "J = jacfwd(F)\n",
    "\n",
    "print(J(x))\n"
   ]
  },
  {
   "cell_type": "markdown",
   "metadata": {},
   "source": [
    "## Random Number Generation in JAX\n",
    "\n",
    "The computational performance that JAX offers requires that all functions be deterministic. \n",
    "One consequence of this is that random number generation feels a little different in JAX than in, for example, numpy and scipy.\n",
    "To inject \"randomness\" into a program, we start by making a psuedo-random number generator `key`.\n",
    "This can be thought of as a seed for any \"random\" function we want to use.\n",
    "Each time we want to call such a function, we first \"split\" the key into two subkeys.\n",
    "One subkey is retained and becomes our new `key` to use down the road.\n",
    "The other subkey we pass into the random function.\n",
    "\n",
    "To demonstrate..."
   ]
  },
  {
   "cell_type": "code",
   "execution_count": 16,
   "metadata": {},
   "outputs": [
    {
     "name": "stdout",
     "output_type": "stream",
     "text": [
      "Our initial key: [ 0 42]\n",
      "Split the key into key and subkey...\n",
      "   key is now: [2465931498 3679230171]\n",
      "subkey is now: [255383827 267815257]\n",
      "\n",
      "Generate data with subkey...\n",
      "x: [[-0.55338771  0.94428308  0.14538109]]\n",
      "\n",
      "Generate data with the same subkey again...\n",
      "y: [[-0.55338771  0.94428308  0.14538109]]\n"
     ]
    }
   ],
   "source": [
    "import jax.random as jrandom\n",
    "\n",
    "key = jrandom.PRNGKey(seed=42)  # create a key, (looks like a pair of integers)\n",
    "print(\"Our initial key:\", key)\n",
    "\n",
    "print(\"Split the key into key and subkey...\")\n",
    "key, subkey = jrandom.split(key)  # split the key into 2 parts: key and subkey\n",
    "print(\"   key is now:\", key)\n",
    "print(\"subkey is now:\", subkey)\n",
    "\n",
    "print(\"\\nGenerate data with subkey...\")\n",
    "x = jrandom.normal(subkey, shape=[1, 3])  # use subkey to generate Gaussian data\n",
    "print(\"x:\", x)\n",
    "\n",
    "print(\"\\nGenerate data with the same subkey again...\")\n",
    "y = jrandom.normal(subkey, shape=[1, 3])  # Get the same data!\n",
    "print(\"y:\", y)"
   ]
  },
  {
   "cell_type": "markdown",
   "metadata": {},
   "source": [
    "The takeaway is to not reuse `subkey`. Instead, after each use, split `key` to get a new `subkey`."
   ]
  },
  {
   "cell_type": "code",
   "execution_count": 17,
   "metadata": {},
   "outputs": [
    {
     "name": "stdout",
     "output_type": "stream",
     "text": [
      "Our initial key: [ 0 42]\n",
      "Split the key into key and subkey...\n",
      "   key is now: [2465931498 3679230171]\n",
      "subkey is now: [255383827 267815257]\n",
      "\n",
      "Generate data with subkey...\n",
      "x: [[-0.55338771  0.94428308  0.14538109]]\n",
      "\n",
      "Split the key into key and subkey again...\n",
      "   key is now: [3164236999 3984487275]\n",
      "subkey is now: [3923418436 1366451097]\n",
      "\n",
      "Generate data with the new subkey...\n",
      "y: [[-0.32761323 -0.40663464  0.89080702]]\n"
     ]
    }
   ],
   "source": [
    "key = jrandom.PRNGKey(seed=42)  # create a key, which looks like 2 numbers\n",
    "print(\"Our initial key:\", key)\n",
    "\n",
    "print(\"Split the key into key and subkey...\")\n",
    "key, subkey = jrandom.split(key)  # split the key into 2 parts: key and subkey\n",
    "print(\"   key is now:\", key)\n",
    "print(\"subkey is now:\", subkey)\n",
    "\n",
    "print(\"\\nGenerate data with subkey...\")\n",
    "x = jrandom.normal(subkey, shape=[1, 3])  # use subkey to generate Gaussian data\n",
    "print(\"x:\", x)\n",
    "\n",
    "print(\"\\nSplit the key into key and subkey again...\")\n",
    "key, subkey = jrandom.split(key)  # split the key into 2 parts: key and subkey\n",
    "print(\"   key is now:\", key)\n",
    "print(\"subkey is now:\", subkey)\n",
    "\n",
    "print(\"\\nGenerate data with the new subkey...\")\n",
    "y = jrandom.normal(subkey, shape=[1, 3]) \n",
    "print(\"y:\", y)  # y is different from x"
   ]
  },
  {
   "cell_type": "markdown",
   "metadata": {},
   "source": [
    "### JIT Compilation: Making code faster\n",
    "\n",
    "One reason to use JAX is that it allows you to take advantage of the ease and convenience of Python, while offering performance increases that are usually not available due to the overhead of the Python interpreter, which executes python code line by line.\n",
    "\n",
    "The way JAX does this is through just-in-time (JIT) compilation.\n",
    "The function `jax.jit` takes in a function and returns a compiled, or \"jitted,\" version.\n",
    "The first time a jitted function is called, its \"instructions\" are essentially saved, and future calls to the function are faster (sometimes *much* faster).\n",
    "For more information , take a look at the [documentation](https://jax.readthedocs.io/en/latest/notebooks/quickstart.html#using-jit-to-speed-up-functions)."
   ]
  },
  {
   "cell_type": "code",
   "execution_count": 18,
   "metadata": {},
   "outputs": [],
   "source": [
    "from jax import jit\n",
    "\n",
    "# Example from https://jax.readthedocs.io/en/latest/notebooks/quickstart.html#using-jit-to-speed-up-functions\n",
    "\n",
    "# Define a somewhat complicated function\n",
    "def myfunc(x, alpha=1.67, lmbda=1.05):\n",
    "    return lmbda * jnp.where(x > 0, x, alpha * jnp.exp(x) - alpha)\n",
    "\n",
    "key, subkey = jrandom.split(key)\n",
    "x = jrandom.normal(subkey, (1000000,))  # make a large array\n"
   ]
  },
  {
   "cell_type": "markdown",
   "metadata": {},
   "source": [
    "Time the non-compiled function..."
   ]
  },
  {
   "cell_type": "code",
   "execution_count": 19,
   "metadata": {},
   "outputs": [
    {
     "name": "stdout",
     "output_type": "stream",
     "text": [
      "4.35 ms ± 431 µs per loop (mean ± std. dev. of 7 runs, 100 loops each)\n"
     ]
    }
   ],
   "source": [
    "%timeit -n 100 myfunc(x)"
   ]
  },
  {
   "cell_type": "markdown",
   "metadata": {},
   "source": [
    "Now apply `jit` to the function, and time the jitted version..."
   ]
  },
  {
   "cell_type": "code",
   "execution_count": 20,
   "metadata": {},
   "outputs": [],
   "source": [
    "myfunc_jit = jit(myfunc)  # `myfunc_jit` is a function that acts just like `myfunction`"
   ]
  },
  {
   "cell_type": "code",
   "execution_count": 21,
   "metadata": {},
   "outputs": [
    {
     "name": "stdout",
     "output_type": "stream",
     "text": [
      "1.95 ms ± 105 µs per loop (mean ± std. dev. of 7 runs, 100 loops each)\n"
     ]
    }
   ],
   "source": [
    "%timeit -n 100 myfunc_jit(x)"
   ]
  },
  {
   "cell_type": "markdown",
   "metadata": {},
   "source": [
    "The difference between the two will likely vary on different computers, but you should see that the jitted version is faster."
   ]
  }
 ],
 "metadata": {
  "kernelspec": {
   "display_name": "Python 3",
   "language": "python",
   "name": "python3"
  },
  "language_info": {
   "codemirror_mode": {
    "name": "ipython",
    "version": 3
   },
   "file_extension": ".py",
   "mimetype": "text/x-python",
   "name": "python",
   "nbconvert_exporter": "python",
   "pygments_lexer": "ipython3",
   "version": "3.10.14"
  }
 },
 "nbformat": 4,
 "nbformat_minor": 2
}
